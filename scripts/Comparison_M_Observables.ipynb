{
 "cells": [
  {
   "cell_type": "markdown",
   "metadata": {
    "collapsed": true
   },
   "source": [
    "# Initialize Modules and Paths"
   ]
  },
  {
   "cell_type": "code",
   "execution_count": 1,
   "metadata": {
    "ExecuteTime": {
     "end_time": "2018-01-30T21:36:05.919073Z",
     "start_time": "2018-01-30T21:36:05.284903Z"
    },
    "collapsed": true
   },
   "outputs": [],
   "source": [
    "# load modules\n",
    "\n",
    "import numpy as np\n",
    "import os\n",
    "import h5py\n",
    "from scipy.optimize import fsolve\n",
    "\n",
    "import completeness\n",
    "\n",
    "import matplotlib.pyplot as plt\n",
    "plt.rcParams['mathtext.fontset'] = 'stixsans'\n",
    "plt.rcParams['font.family'] = 'sans'\n",
    "plt.rcParams['font.serif'] = 'STIXGeneral'\n",
    "\n"
   ]
  },
  {
   "cell_type": "code",
   "execution_count": 2,
   "metadata": {
    "ExecuteTime": {
     "end_time": "2018-01-30T21:36:05.934007Z",
     "start_time": "2018-01-30T21:36:05.930382Z"
    },
    "collapsed": true
   },
   "outputs": [],
   "source": [
    "# define paths\n",
    "\n",
    "path_main = os.environ['WDIR_halo_model']\n",
    "path_figures = path_main + 'Figures/'\n",
    "path_DM_cat = path_main + 'catalogs/DM/'\n",
    "path_SP_cat_00 = path_main + 'catalogs/SP/0.0/'\n",
    "path_SP_cat_02 = path_main + 'catalogs/SP/0.2/'\n"
   ]
  },
  {
   "cell_type": "code",
   "execution_count": 3,
   "metadata": {
    "ExecuteTime": {
     "end_time": "2018-01-30T21:36:05.947301Z",
     "start_time": "2018-01-30T21:36:05.944552Z"
    },
    "collapsed": true
   },
   "outputs": [],
   "source": [
    "# define important parameters\n",
    "\n",
    "volume_box = 100.0**3  # in Mpc^-3\n",
    "\n"
   ]
  },
  {
   "cell_type": "code",
   "execution_count": null,
   "metadata": {
    "collapsed": true
   },
   "outputs": [],
   "source": []
  },
  {
   "cell_type": "markdown",
   "metadata": {},
   "source": [
    "# Define Functions"
   ]
  },
  {
   "cell_type": "code",
   "execution_count": 75,
   "metadata": {
    "ExecuteTime": {
     "end_time": "2018-01-30T22:31:17.736505Z",
     "start_time": "2018-01-30T22:31:17.653725Z"
    },
    "collapsed": true
   },
   "outputs": [],
   "source": [
    "def compute_M(cat_obj):\n",
    "    '''\n",
    "    Computes average SFR over certain time interval\n",
    "    from given cat_obj file. \n",
    "    \n",
    "    Input:\n",
    "      cat_obj       : object with SFH\n",
    "      time_interval : time in Myr\n",
    "      \n",
    "    Output:\n",
    "      SFR           : SFR in Msun/yr\n",
    "      \n",
    "    '''\n",
    "    # load SFH for given time interval\n",
    "    SFR_list = cat_obj['SFH/SFH_SFR'][:]\n",
    "    time_list = cat_obj['SFH/SFH_time'][:]\n",
    "    # compute mass\n",
    "    mass_tot_list = np.trapz(SFR_list, time_list*10**6)\n",
    "    return(mass_tot_list)\n",
    "\n",
    "\n",
    "def compute_SFR(cat_obj, time_interval):\n",
    "    '''\n",
    "    Computes average SFR over certain time interval\n",
    "    from given cat_obj file. \n",
    "    \n",
    "    Input:\n",
    "      cat_obj       : object with SFH\n",
    "      time_interval : time in Myr\n",
    "      \n",
    "    Output:\n",
    "      SFR           : SFR in Msun/yr\n",
    "      \n",
    "    '''\n",
    "    # load SFH for given time interval\n",
    "    idx_time_interval = (cat_obj['SFH/SFH_time'][:] >= (cat_obj['SFH/SFH_time'][:][-1]-time_interval))\n",
    "    SFR_list = cat_obj['SFH/SFH_SFR'][:, idx_time_interval]\n",
    "    time_list = cat_obj['SFH/SFH_time'][idx_time_interval]\n",
    "    time_interval = (time_list[-1]-time_list[0])*10**6  # in yrs\n",
    "    # compute mass\n",
    "    mass_tot_list = np.trapz(SFR_list, time_list*10**6)\n",
    "    # compute average SFR\n",
    "    SFR = mass_tot_list/time_interval\n",
    "    return(SFR)\n",
    "\n",
    "\n",
    "def compute_Ms_Fct(SP_file_name, volume_box, bin_size=0.1, cumulative=False, redshift_in=None, completeness_correction=False, completeness_correction_type='parameterized'):\n",
    "    '''\n",
    "    input:\n",
    "      SP_file_name:    hdf5 filename that contains luminosities\n",
    "      volume_box:      volume of simulation box in Mpc^-3\n",
    "      cumulative:      True/False for computing cumulative LF\n",
    "      add_dust:        True/False for adding dust attenuation to UV mags\n",
    "      redshift_in:     redshift considered, needed for add_dust and completeness_correction\n",
    "      completeness_correction:  True/False for applying completeness correction\n",
    "    '''\n",
    "    cat_SP = h5py.File(SP_file_name, 'r')\n",
    "    M_list = np.log10(compute_M(cat_SP))\n",
    "    idx_good = np.isfinite(M_list)\n",
    "    M_list = M_list[idx_good]\n",
    "    M_bins = np.arange(np.max([6.0, np.min(M_list)]), np.min([11.5, np.max(M_list)]), bin_size)\n",
    "    M_bins_center = M_bins[:-1] + 0.5*np.diff(M_bins)\n",
    "    if completeness_correction:\n",
    "        if (completeness_correction_type=='numerical'):\n",
    "            weights = 10**completeness.get_completeness_correction_numerical(np.log10(cat_SP['DM/DM_M'][:][idx_good]), redshift_in)\n",
    "        elif (completeness_correction_type=='parameterized'):\n",
    "            weights = 10**completeness.get_completeness_correction_parametrized(np.log10(cat_SP['DM/DM_M'][:][idx_good]), redshift_in)\n",
    "    else:\n",
    "        weights = None\n",
    "    hist, bin_edges = np.histogram(M_list, bins=M_bins, weights=weights)\n",
    "    if cumulative:\n",
    "        M_Fctcum = np.cumsum(hist[::-1])[::-1]/volume_box\n",
    "        return(M_bins_center, M_Fctcum)\n",
    "    else:\n",
    "        M_Fct = hist/(np.diff(M_bins)*volume_box)\n",
    "        return(M_bins_center, M_Fct)\n",
    "\n",
    "\n",
    "def running_median_with_err(xval, yval):\n",
    "    '''\n",
    "    Running median\n",
    "    '''\n",
    "    bins = np.linspace(np.min(xval), np.max(xval), 20)\n",
    "    bins_val = np.array([])\n",
    "    bins_val_l = np.array([])\n",
    "    bins_val_h = np.array([])\n",
    "    for bin_cen in bins:\n",
    "        select = (xval > bin_cen-0.1) & (xval < bin_cen+0.1)\n",
    "        if (np.sum(select) > 10):\n",
    "            bins_val = np.append(bins_val, np.percentile(yval[select], 50, axis=0))\n",
    "            bins_val_l = np.append(bins_val_l, np.percentile(yval[select], 15.9, axis=0))\n",
    "            bins_val_h = np.append(bins_val_h, np.percentile(yval[select], 84.1, axis=0))\n",
    "        else:\n",
    "            bins_val = np.append(bins_val, -99.)\n",
    "            bins_val_l = np.append(bins_val_l, -99.)\n",
    "            bins_val_h = np.append(bins_val_h, -99.)\n",
    "    good_vals = (bins_val > -99.)\n",
    "    return(bins[good_vals], bins_val[good_vals], bins_val_l[good_vals], bins_val_h[good_vals])\n",
    "\n",
    "\n",
    "\n",
    "def plot_datapoints_observations_log(axes, dictionary, redshift, color, label):\n",
    "    idx_no_upper_limit = (dictionary[redshift][2]>0.0)\n",
    "    idx_upper_limit = ~idx_no_upper_limit\n",
    "    # plot errorbar\n",
    "    error_bar_neg = dictionary[redshift][2][idx_no_upper_limit]\n",
    "    error_bar_pos = dictionary[redshift][3][idx_no_upper_limit]\n",
    "    axes.errorbar(dictionary[redshift][0][idx_no_upper_limit], dictionary[redshift][1][idx_no_upper_limit], yerr=[error_bar_neg, error_bar_pos], fmt='o', color=color, capsize=3, label=label)\n",
    "    # plot upper limit\n",
    "    axes.errorbar(dictionary[redshift][0][idx_upper_limit], dictionary[redshift][1][idx_upper_limit], yerr=0.4, fmt='.', markersize=0, color=color, capsize=3, uplims=True)\n",
    "\n"
   ]
  },
  {
   "cell_type": "code",
   "execution_count": null,
   "metadata": {
    "collapsed": true
   },
   "outputs": [],
   "source": []
  },
  {
   "cell_type": "markdown",
   "metadata": {},
   "source": [
    "# Comparison Stellar-to-Halo Mass Relation"
   ]
  },
  {
   "cell_type": "code",
   "execution_count": 16,
   "metadata": {
    "ExecuteTime": {
     "end_time": "2018-01-30T21:47:27.905615Z",
     "start_time": "2018-01-30T21:47:27.902013Z"
    },
    "collapsed": false
   },
   "outputs": [],
   "source": [
    "Mh_Behroozi13 = [2.353e11, 3.210e11, 5.639e11, 7.352e11, 9.748e11, 1.331e12, 1.775e12, 3.135e12, 4.480e12, 6.709e12, 1.082e13, 1.762e13]\n",
    "MM_Behroozi13 = [0.007, 0.010, 0.017, 0.020, 0.022, 0.022, 0.021, 0.016, 0.013, 0.009, 0.006, 0.004]\n"
   ]
  },
  {
   "cell_type": "code",
   "execution_count": 60,
   "metadata": {
    "ExecuteTime": {
     "end_time": "2018-01-30T22:26:35.318525Z",
     "start_time": "2018-01-30T22:26:17.742632Z"
    },
    "collapsed": false
   },
   "outputs": [],
   "source": [
    "SP_file_name = path_SP_cat_00 + 'SFH_z4_constant_with_L.hdf5'\n",
    "cat_SP = h5py.File(SP_file_name, 'r')\n",
    "Mh_list = cat_SP['DM/DM_M'][:]\n",
    "Ms_list = compute_M(cat_SP)\n",
    "SFR_200_list = compute_SFR(cat_SP, 200.0)\n",
    "SFR_10_list = compute_SFR(cat_SP, 10.0)\n"
   ]
  },
  {
   "cell_type": "code",
   "execution_count": 59,
   "metadata": {
    "ExecuteTime": {
     "end_time": "2018-01-30T22:25:27.311540Z",
     "start_time": "2018-01-30T22:25:26.027508Z"
    },
    "collapsed": false
   },
   "outputs": [
    {
     "name": "stdout",
     "output_type": "stream",
     "text": [
      "8.259280692398479\n"
     ]
    }
   ],
   "source": [
    "t = cat_SP['SFH/SFH_time'][:]\n",
    "SFR = cat_SP['SFH/SFH_SFR'][:][10000]\n",
    "print np.log10(np.trapz(SFR, t)*10**6)"
   ]
  },
  {
   "cell_type": "code",
   "execution_count": 34,
   "metadata": {
    "ExecuteTime": {
     "end_time": "2018-01-30T22:05:29.790190Z",
     "start_time": "2018-01-30T22:05:29.497380Z"
    },
    "collapsed": false
   },
   "outputs": [
    {
     "data": {
      "image/png": "[encoded data removed]",
      "text/plain": [
       "<matplotlib.figure.Figure at 0x1a55d3290>"
      ]
     },
     "metadata": {},
     "output_type": "display_data"
    }
   ],
   "source": [
    "plt.plot(t, SFR, '-')\n",
    "plt.show()"
   ]
  },
  {
   "cell_type": "code",
   "execution_count": null,
   "metadata": {
    "collapsed": true
   },
   "outputs": [],
   "source": []
  },
  {
   "cell_type": "code",
   "execution_count": 25,
   "metadata": {
    "ExecuteTime": {
     "end_time": "2018-01-30T21:53:43.645817Z",
     "start_time": "2018-01-30T21:53:43.609692Z"
    },
    "collapsed": false
   },
   "outputs": [
    {
     "name": "stderr",
     "output_type": "stream",
     "text": [
      "/Users/sandrotacchella/anaconda2/lib/python2.7/site-packages/ipykernel/__main__.py:1: RuntimeWarning: divide by zero encountered in log10\n",
      "  if __name__ == '__main__':\n"
     ]
    }
   ],
   "source": [
    "x_rm, y_rm, y_rm_l, y_rm_h = running_median_with_err(np.log10(Mh_list), np.log10(Ms_list/Mh_list))"
   ]
  },
  {
   "cell_type": "code",
   "execution_count": 61,
   "metadata": {
    "ExecuteTime": {
     "end_time": "2018-01-30T22:27:03.381648Z",
     "start_time": "2018-01-30T22:27:01.284575Z"
    },
    "collapsed": false
   },
   "outputs": [
    {
     "name": "stderr",
     "output_type": "stream",
     "text": [
      "/Users/sandrotacchella/anaconda2/lib/python2.7/site-packages/ipykernel/__main__.py:5: RuntimeWarning: divide by zero encountered in log10\n"
     ]
    },
    {
     "data": {
      "image/png": "[encoded data removed]",
      "text/plain": [
       "<matplotlib.figure.Figure at 0x112bc8510>"
      ]
     },
     "metadata": {},
     "output_type": "display_data"
    }
   ],
   "source": [
    "plot_every_other = 10\n",
    "\n",
    "fig, ax = plt.subplots(nrows=1, ncols=1, figsize=(6, 5))\n",
    "\n",
    "ax.plot(np.log10(Mh_list)[::plot_every_other], np.log10(Ms_list/Mh_list)[::plot_every_other], '.', color='C0')\n",
    "ax.errorbar(x_rm, y_rm, yerr=[y_rm-y_rm_l, y_rm_h-y_rm], fmt='o-', color='C1', capsize=3, zorder=10)\n",
    "ax.plot(np.log10(Mh_Behroozi13), np.log10(MM_Behroozi13), '-', color='C2')\n",
    "\n",
    "ax.set_xlabel(r'$\\log\\/\\/\\/\\/\\mathrm{M}_{\\rm h}\\/\\/\\/\\/[\\mathrm{M}_{\\odot}]$', fontsize=18)\n",
    "ax.set_ylabel(r'$\\log\\/\\/\\/\\/\\mathrm{M}_{\\star}\\//\\/\\mathrm{M}_{\\rm h}$', fontsize=18)\n",
    "\n",
    "ax.set_xlim([9.5, 12.5])\n",
    "ax.set_ylim([-3.7, -0.8])\n",
    "\n",
    "plt.legend(frameon=False, fontsize=14)\n",
    "plt.savefig(path_figures + 'Ms_Mh_Relation.pdf', bbox_inches='tight')\n",
    "plt.show()"
   ]
  },
  {
   "cell_type": "code",
   "execution_count": null,
   "metadata": {
    "collapsed": true
   },
   "outputs": [],
   "source": []
  },
  {
   "cell_type": "code",
   "execution_count": null,
   "metadata": {
    "collapsed": true
   },
   "outputs": [],
   "source": []
  },
  {
   "cell_type": "code",
   "execution_count": null,
   "metadata": {
    "collapsed": true
   },
   "outputs": [],
   "source": []
  },
  {
   "cell_type": "markdown",
   "metadata": {},
   "source": [
    "# Comparison Stellar Mass Functions"
   ]
  },
  {
   "cell_type": "code",
   "execution_count": 53,
   "metadata": {
    "ExecuteTime": {
     "end_time": "2018-01-30T22:22:46.258976Z",
     "start_time": "2018-01-30T22:22:46.252808Z"
    },
    "collapsed": true
   },
   "outputs": [],
   "source": [
    "\n",
    "M_Fct_obs_dict = {}\n",
    "\n",
    "# z=4\n",
    "M_list = np.array([7.25, 7.75, 8.25, 8.75, 9.25, 9.75, 10.25, 10.75, 11.25])\n",
    "phi_list = np.array([-1.57, -1.77, -2.00, -2.22, -2.52, -2.91, -3.37, -4.00, -4.54])\n",
    "phi_err_list_neg = np.array([0.16, 0.14, 0.10, 0.09, 0.09, 0.05, 0.12, 0.25, 0.55])\n",
    "phi_err_list_pos = np.array([0.21, 0.15, 0.13, 0.09, 0.09, 0.12, 0.09, 0.20, 0.34])\n",
    "M_Fct_obs_dict['4'] = np.array([M_list, phi_list, phi_err_list_neg, phi_err_list_pos])\n",
    "\n"
   ]
  },
  {
   "cell_type": "code",
   "execution_count": 76,
   "metadata": {
    "ExecuteTime": {
     "end_time": "2018-01-30T22:31:32.893023Z",
     "start_time": "2018-01-30T22:31:24.853650Z"
    },
    "collapsed": false
   },
   "outputs": [
    {
     "name": "stderr",
     "output_type": "stream",
     "text": [
      "/Users/sandrotacchella/anaconda2/lib/python2.7/site-packages/ipykernel/__main__.py:58: RuntimeWarning: divide by zero encountered in log10\n"
     ]
    }
   ],
   "source": [
    "M_bins_center_z4, M_fct_model_z4 = compute_Ms_Fct(path_SP_cat_00 + 'SFH_z4_constant_with_L.hdf5', volume_box, bin_size=0.1, cumulative=False, redshift_in=None, completeness_correction=False, completeness_correction_type='parameterized')\n"
   ]
  },
  {
   "cell_type": "code",
   "execution_count": 80,
   "metadata": {
    "ExecuteTime": {
     "end_time": "2018-01-30T22:40:31.082171Z",
     "start_time": "2018-01-30T22:40:30.346185Z"
    },
    "collapsed": false
   },
   "outputs": [
    {
     "name": "stderr",
     "output_type": "stream",
     "text": [
      "/Users/sandrotacchella/anaconda2/lib/python2.7/site-packages/ipykernel/__main__.py:8: RuntimeWarning: divide by zero encountered in log10\n"
     ]
    },
    {
     "data": {
      "image/png": "[encoded data removed]",
      "text/plain": [
       "<matplotlib.figure.Figure at 0x1127dca50>"
      ]
     },
     "metadata": {},
     "output_type": "display_data"
    }
   ],
   "source": [
    "\n",
    "fig, ax = plt.subplots(nrows=1, ncols=1, figsize=(6, 4.5))\n",
    "\n",
    "# Observations\n",
    "plot_datapoints_observations_log(ax, M_Fct_obs_dict, '4', 'C0', 'Song+15')\n",
    "\n",
    "# Model\n",
    "ax.plot(M_bins_center_z4-0.6, np.log10(M_fct_model_z4), '-', color='C3', lw=2, label=r'$z=4$')\n",
    "\n",
    "\n",
    "ax.set_xlabel(r'$\\log\\/\\/\\/\\/\\mathrm{M}_{\\star}\\/\\/\\/\\/[\\mathrm{M_{\\odot}}]$', fontsize=18)\n",
    "ax.set_ylabel(r'$\\log\\/\\/\\/\\/\\phi_{\\rm M_{\\star}}\\/\\/\\/\\/[\\mathrm{Mpc}^{-3}\\/\\/\\mathrm{dex}^{-1}]$', fontsize=18)\n",
    "\n",
    "#ax.set_xlim([-1.0, 3.0])\n",
    "#ax.set_ylim([-5.5, -0.7])\n",
    "\n",
    "plt.legend(frameon=False, fontsize=14)\n",
    "plt.savefig(path_figures + 'Ms_Fct_evolution.pdf', bbox_inches='tight')\n",
    "plt.show()\n"
   ]
  },
  {
   "cell_type": "code",
   "execution_count": null,
   "metadata": {
    "collapsed": true
   },
   "outputs": [],
   "source": []
  },
  {
   "cell_type": "code",
   "execution_count": null,
   "metadata": {
    "collapsed": true
   },
   "outputs": [],
   "source": []
  },
  {
   "cell_type": "markdown",
   "metadata": {},
   "source": [
    "# Star-Forming Main Sequence"
   ]
  },
  {
   "cell_type": "code",
   "execution_count": 79,
   "metadata": {
    "ExecuteTime": {
     "end_time": "2018-01-30T22:34:05.974504Z",
     "start_time": "2018-01-30T22:34:03.868926Z"
    },
    "collapsed": false
   },
   "outputs": [
    {
     "name": "stderr",
     "output_type": "stream",
     "text": [
      "/Users/sandrotacchella/anaconda2/lib/python2.7/site-packages/ipykernel/__main__.py:5: RuntimeWarning: divide by zero encountered in log10\n"
     ]
    },
    {
     "data": {
      "image/png": "[encoded data removed]",
      "text/plain": [
       "<matplotlib.figure.Figure at 0x11280ecd0>"
      ]
     },
     "metadata": {},
     "output_type": "display_data"
    }
   ],
   "source": [
    "plot_every_other = 10\n",
    "\n",
    "fig, ax = plt.subplots(nrows=1, ncols=1, figsize=(6, 5))\n",
    "\n",
    "ax.plot(np.log10(Ms_list)[::plot_every_other], np.log10(SFR_200_list)[::plot_every_other], '.', color='C0')\n",
    "#ax.plot(np.log10(Ms_list)[::plot_every_other], np.log10(SFR_10_list)[::plot_every_other], '.', color='C1')\n",
    "#ax.errorbar(x_rm, y_rm, yerr=[y_rm-y_rm_l, y_rm_h-y_rm], fmt='o-', color='C1', capsize=3, zorder=10)\n",
    "#ax.plot(np.log10(Mh_Behroozi13), np.log10(MM_Behroozi13), '-', color='C2')\n",
    "\n",
    "ax.set_xlabel(r'$\\log\\/\\/\\/\\/\\mathrm{M}_{\\star}\\/\\/\\/\\/[\\mathrm{M}_{\\odot}]$', fontsize=18)\n",
    "ax.set_ylabel(r'$\\log\\/\\/\\/\\/\\mathrm{SFR}\\/\\/\\/\\/[\\mathrm{M}_{\\odot}\\/\\/\\mathrm{yr}^{-1}]$', fontsize=18)\n",
    "\n",
    "#ax.set_xlim([9.5, 11.5])\n",
    "#ax.set_ylim([0.0, 2.5])\n",
    "\n",
    "plt.legend(frameon=False, fontsize=14)\n",
    "plt.savefig(path_figures + 'MS_Relation.pdf', bbox_inches='tight')\n",
    "plt.show()"
   ]
  },
  {
   "cell_type": "code",
   "execution_count": null,
   "metadata": {
    "collapsed": true
   },
   "outputs": [],
   "source": []
  },
  {
   "cell_type": "code",
   "execution_count": null,
   "metadata": {
    "collapsed": true
   },
   "outputs": [],
   "source": []
  }
 ],
 "metadata": {
  "kernelspec": {
   "display_name": "Python 2",
   "language": "python",
   "name": "python2"
  },
  "language_info": {
   "codemirror_mode": {
    "name": "ipython",
    "version": 2
   },
   "file_extension": ".py",
   "mimetype": "text/x-python",
   "name": "python",
   "nbconvert_exporter": "python",
   "pygments_lexer": "ipython2",
   "version": "2.7.13"
  },
  "toc": {
   "nav_menu": {},
   "number_sections": true,
   "sideBar": true,
   "skip_h1_title": false,
   "toc_cell": false,
   "toc_position": {},
   "toc_section_display": "block",
   "toc_window_display": false
  },
  "varInspector": {
   "cols": {
    "lenName": 16,
    "lenType": 16,
    "lenVar": 40
   },
   "kernels_config": {
    "python": {
     "delete_cmd_postfix": "",
     "delete_cmd_prefix": "del ",
     "library": "var_list.py",
     "varRefreshCmd": "print(var_dic_list())"
    },
    "r": {
     "delete_cmd_postfix": ") ",
     "delete_cmd_prefix": "rm(",
     "library": "var_list.r",
     "varRefreshCmd": "cat(var_dic_list()) "
    }
   },
   "types_to_exclude": [
    "module",
    "function",
    "builtin_function_or_method",
    "instance",
    "_Feature"
   ],
   "window_display": false
  }
 },
 "nbformat": 4,
 "nbformat_minor": 2
}
