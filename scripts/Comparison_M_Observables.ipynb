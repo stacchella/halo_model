{
 "cells": [
  {
   "cell_type": "markdown",
   "metadata": {
    "collapsed": true
   },
   "source": [
    "# Initialize Modules and Paths"
   ]
  },
  {
   "cell_type": "code",
   "execution_count": 1,
   "metadata": {
    "ExecuteTime": {
     "end_time": "2018-01-31T10:25:30.336368Z",
     "start_time": "2018-01-31T10:25:29.493765Z"
    },
    "collapsed": true
   },
   "outputs": [],
   "source": [
    "# load modules\n",
    "\n",
    "import numpy as np\n",
    "import os\n",
    "import h5py\n",
    "from scipy.optimize import fsolve\n",
    "\n",
    "import completeness\n",
    "\n",
    "import matplotlib.pyplot as plt\n",
    "plt.rcParams['mathtext.fontset'] = 'stixsans'\n",
    "plt.rcParams['font.family'] = 'sans'\n",
    "plt.rcParams['font.serif'] = 'STIXGeneral'\n",
    "\n"
   ]
  },
  {
   "cell_type": "code",
   "execution_count": 2,
   "metadata": {
    "ExecuteTime": {
     "end_time": "2018-01-31T10:25:30.342055Z",
     "start_time": "2018-01-31T10:25:30.337968Z"
    },
    "collapsed": true
   },
   "outputs": [],
   "source": [
    "# define paths\n",
    "\n",
    "path_main = os.environ['WDIR_halo_model']\n",
    "path_figures = path_main + 'Figures/'\n",
    "path_DM_cat = path_main + 'catalogs/DM/'\n",
    "path_SP_cat_00 = path_main + 'catalogs/SP/0.0/'\n",
    "path_SP_cat_02 = path_main + 'catalogs/SP/0.2/'\n",
    "path_SP_cat_04 = path_main + 'catalogs/SP/0.4/'\n"
   ]
  },
  {
   "cell_type": "code",
   "execution_count": 3,
   "metadata": {
    "ExecuteTime": {
     "end_time": "2018-01-31T10:25:30.346260Z",
     "start_time": "2018-01-31T10:25:30.343529Z"
    },
    "collapsed": true
   },
   "outputs": [],
   "source": [
    "# define important parameters\n",
    "\n",
    "volume_box = 100.0**3  # in Mpc^-3\n",
    "R = 0.29  # return mass fraction from http://adsabs.harvard.edu/abs/2016MNRAS.455.4183V for Salpeter IMF\n"
   ]
  },
  {
   "cell_type": "code",
   "execution_count": null,
   "metadata": {
    "collapsed": true
   },
   "outputs": [],
   "source": []
  },
  {
   "cell_type": "markdown",
   "metadata": {},
   "source": [
    "# Define Functions"
   ]
  },
  {
   "cell_type": "code",
   "execution_count": 4,
   "metadata": {
    "ExecuteTime": {
     "end_time": "2018-01-31T10:25:30.431588Z",
     "start_time": "2018-01-31T10:25:30.347630Z"
    },
    "collapsed": true
   },
   "outputs": [],
   "source": [
    "def compute_M(cat_obj):\n",
    "    '''\n",
    "    Computes average SFR over certain time interval\n",
    "    from given cat_obj file. \n",
    "    \n",
    "    Input:\n",
    "      cat_obj       : object with SFH\n",
    "      time_interval : time in Myr\n",
    "      \n",
    "    Output:\n",
    "      SFR           : SFR in Msun/yr\n",
    "      \n",
    "    Parameters:\n",
    "      Mseed         : seed mass, since we start at BB, set it to 0\n",
    "      R             : fraction of the mass that is converted into stars, \n",
    "                      as measured by the SFR, is promptly (we will assume \n",
    "                      instantaneously) returned to the interstellar medium. \n",
    "                      The remaining fraction (1−R) stays in the form of \n",
    "                      long-lived stars.\n",
    "    '''\n",
    "    # set parameters\n",
    "    Mseed = 0.0  # seed mass\n",
    "    # load SFH for given time interval\n",
    "    SFR_list = cat_obj['SFH/SFH_SFR'][:]\n",
    "    time_list = cat_obj['SFH/SFH_time'][:]\n",
    "    # compute mass\n",
    "    mass_tot_list = Mseed+(1.0-R)*np.trapz(SFR_list, time_list*10**6)\n",
    "    return(mass_tot_list)\n",
    "\n",
    "\n",
    "def compute_SFR(cat_obj, time_interval):\n",
    "    '''\n",
    "    Computes average SFR over certain time interval\n",
    "    from given cat_obj file. \n",
    "    \n",
    "    Input:\n",
    "      cat_obj       : object with SFH\n",
    "      time_interval : time in Myr\n",
    "      \n",
    "    Output:\n",
    "      SFR           : SFR in Msun/yr\n",
    "      \n",
    "    '''\n",
    "    # load SFH for given time interval\n",
    "    idx_time_interval = (cat_obj['SFH/SFH_time'][:] >= (cat_obj['SFH/SFH_time'][:][-1]-time_interval))\n",
    "    SFR_list = cat_obj['SFH/SFH_SFR'][:, idx_time_interval]\n",
    "    time_list = cat_obj['SFH/SFH_time'][idx_time_interval]\n",
    "    time_interval = (time_list[-1]-time_list[0])*10**6  # in yrs\n",
    "    # compute mass\n",
    "    mass_tot_list = np.trapz(SFR_list, time_list*10**6)\n",
    "    # compute average SFR\n",
    "    SFR = mass_tot_list/time_interval\n",
    "    return(SFR)\n",
    "\n",
    "\n",
    "def compute_Ms_Fct(SP_file_name, volume_box, bin_size=0.1, cumulative=False, redshift_in=None, completeness_correction=False, completeness_correction_type='parameterized'):\n",
    "    '''\n",
    "    input:\n",
    "      SP_file_name:    hdf5 filename that contains luminosities\n",
    "      volume_box:      volume of simulation box in Mpc^-3\n",
    "      cumulative:      True/False for computing cumulative LF\n",
    "      add_dust:        True/False for adding dust attenuation to UV mags\n",
    "      redshift_in:     redshift considered, needed for add_dust and completeness_correction\n",
    "      completeness_correction:  True/False for applying completeness correction\n",
    "    '''\n",
    "    cat_SP = h5py.File(SP_file_name, 'r')\n",
    "    M_list = np.log10(compute_M(cat_SP))\n",
    "    idx_good = np.isfinite(M_list)\n",
    "    M_list = M_list[idx_good]\n",
    "    M_bins = np.arange(np.max([6.0, np.min(M_list)]), np.min([11.5, np.max(M_list)]), bin_size)\n",
    "    M_bins_center = M_bins[:-1] + 0.5*np.diff(M_bins)\n",
    "    if completeness_correction:\n",
    "        if (completeness_correction_type=='numerical'):\n",
    "            weights = 10**completeness.get_completeness_correction_numerical(np.log10(cat_SP['DM/DM_M'][:][idx_good]), redshift_in)\n",
    "        elif (completeness_correction_type=='parameterized'):\n",
    "            weights = 10**completeness.get_completeness_correction_parametrized(np.log10(cat_SP['DM/DM_M'][:][idx_good]), redshift_in)\n",
    "    else:\n",
    "        weights = None\n",
    "    hist, bin_edges = np.histogram(M_list, bins=M_bins, weights=weights)\n",
    "    if cumulative:\n",
    "        M_Fctcum = np.cumsum(hist[::-1])[::-1]/volume_box\n",
    "        return(M_bins_center, M_Fctcum)\n",
    "    else:\n",
    "        M_Fct = hist/(np.diff(M_bins)*volume_box)\n",
    "        return(M_bins_center, M_Fct)\n",
    "\n",
    "\n",
    "def running_median_with_err(xval, yval):\n",
    "    '''\n",
    "    Running median\n",
    "    '''\n",
    "    bins = np.linspace(np.min(xval), np.max(xval), 20)\n",
    "    bins_val = np.array([])\n",
    "    bins_val_l = np.array([])\n",
    "    bins_val_h = np.array([])\n",
    "    for bin_cen in bins:\n",
    "        select = (xval > bin_cen-0.1) & (xval < bin_cen+0.1)\n",
    "        if (np.sum(select) > 50):\n",
    "            bins_val = np.append(bins_val, np.percentile(yval[select], 50, axis=0))\n",
    "            bins_val_l = np.append(bins_val_l, np.percentile(yval[select], 15.9, axis=0))\n",
    "            bins_val_h = np.append(bins_val_h, np.percentile(yval[select], 84.1, axis=0))\n",
    "        else:\n",
    "            bins_val = np.append(bins_val, -99.)\n",
    "            bins_val_l = np.append(bins_val_l, -99.)\n",
    "            bins_val_h = np.append(bins_val_h, -99.)\n",
    "    good_vals = (bins_val > -99.)\n",
    "    return(bins[good_vals], bins_val[good_vals], bins_val_l[good_vals], bins_val_h[good_vals])\n",
    "\n",
    "\n",
    "\n",
    "def plot_datapoints_observations_log(axes, dictionary, redshift, color, label):\n",
    "    idx_no_upper_limit = (dictionary[redshift][2]>0.0)\n",
    "    idx_upper_limit = ~idx_no_upper_limit\n",
    "    # plot errorbar\n",
    "    error_bar_neg = dictionary[redshift][2][idx_no_upper_limit]\n",
    "    error_bar_pos = dictionary[redshift][3][idx_no_upper_limit]\n",
    "    axes.errorbar(dictionary[redshift][0][idx_no_upper_limit], dictionary[redshift][1][idx_no_upper_limit], yerr=[error_bar_neg, error_bar_pos], fmt='o', color=color, capsize=3, label=label)\n",
    "    # plot upper limit\n",
    "    axes.errorbar(dictionary[redshift][0][idx_upper_limit], dictionary[redshift][1][idx_upper_limit], yerr=0.4, fmt='.', markersize=0, color=color, capsize=3, uplims=True)\n",
    "\n"
   ]
  },
  {
   "cell_type": "code",
   "execution_count": null,
   "metadata": {
    "collapsed": true
   },
   "outputs": [],
   "source": []
  },
  {
   "cell_type": "markdown",
   "metadata": {},
   "source": [
    "# Comparison Stellar-to-Halo Mass Relation"
   ]
  },
  {
   "cell_type": "code",
   "execution_count": 20,
   "metadata": {
    "ExecuteTime": {
     "end_time": "2018-01-31T14:12:40.863979Z",
     "start_time": "2018-01-31T14:12:40.858873Z"
    },
    "collapsed": true
   },
   "outputs": [],
   "source": [
    "def get_params(SP_file_name):\n",
    "    cat_SP = h5py.File(SP_file_name, 'r')\n",
    "    Mh_list = cat_SP['DM/DM_M'][:]\n",
    "    Ms_list = compute_M(cat_SP)\n",
    "    SFR_200_list = compute_SFR(cat_SP, 200.0)\n",
    "    SFR_10_list = compute_SFR(cat_SP, 10.0)\n",
    "    return(Mh_list, Ms_list, SFR_200_list, SFR_10_list)\n"
   ]
  },
  {
   "cell_type": "code",
   "execution_count": 21,
   "metadata": {
    "ExecuteTime": {
     "end_time": "2018-01-31T14:13:04.114524Z",
     "start_time": "2018-01-31T14:12:41.578493Z"
    },
    "collapsed": true
   },
   "outputs": [],
   "source": [
    "Mh_list_z4, Ms_list_z4, SFR_200_list_z4, SFR_10_list_z4 = get_params(path_SP_cat_04 + 'SFH_z4_constant_with_L.hdf5')\n",
    "Mh_list_z6, Ms_list_z6, SFR_200_list_z6, SFR_10_list_z6 = get_params(path_SP_cat_04 + 'SFH_z6_constant_with_L.hdf5')\n",
    "#Mh_list_z8, Ms_list_z8, SFR_200_list_z8, SFR_10_list_z8 = get_params(path_SP_cat_04 + 'SFH_z8_constant_with_L.hdf5')\n",
    "#Mh_list_z10, Ms_list_z10, SFR_200_list_z10, SFR_10_list_z10 = get_params(path_SP_cat_04 + 'SFH_z10_constant_with_L.hdf5')\n"
   ]
  },
  {
   "cell_type": "code",
   "execution_count": 22,
   "metadata": {
    "ExecuteTime": {
     "end_time": "2018-01-31T14:13:08.453825Z",
     "start_time": "2018-01-31T14:13:08.378393Z"
    },
    "collapsed": false
   },
   "outputs": [
    {
     "name": "stderr",
     "output_type": "stream",
     "text": [
      "/Users/sandrotacchella/anaconda2/lib/python2.7/site-packages/ipykernel/__main__.py:1: RuntimeWarning: divide by zero encountered in log10\n",
      "  if __name__ == '__main__':\n",
      "/Users/sandrotacchella/anaconda2/lib/python2.7/site-packages/ipykernel/__main__.py:2: RuntimeWarning: divide by zero encountered in log10\n",
      "  from ipykernel import kernelapp as app\n"
     ]
    }
   ],
   "source": [
    "Mh_Ms_relation_z4 = running_median_with_err(np.log10(Mh_list_z4), np.log10(Ms_list_z4/Mh_list_z4))\n",
    "Mh_Ms_relation_z6 = running_median_with_err(np.log10(Mh_list_z6), np.log10(Ms_list_z6/Mh_list_z6))\n",
    "#Mh_Ms_relation_z8 = running_median_with_err(np.log10(Mh_list_z8), np.log10(Ms_list_z8/Mh_list_z8))\n",
    "#Mh_Ms_relation_z10 = running_median_with_err(np.log10(Mh_list_z10), np.log10(Ms_list_z10/Mh_list_z10))\n"
   ]
  },
  {
   "cell_type": "code",
   "execution_count": 5,
   "metadata": {
    "ExecuteTime": {
     "end_time": "2018-01-31T10:25:30.437232Z",
     "start_time": "2018-01-31T10:25:30.433383Z"
    },
    "collapsed": false
   },
   "outputs": [],
   "source": [
    "# check IMF conversion\n",
    "Mh_Behroozi13 = np.array([2.353e11, 3.210e11, 5.639e11, 7.352e11, 9.748e11, 1.331e12, 1.775e12, 3.135e12, 4.480e12, 6.709e12, 1.082e13, 1.762e13])\n",
    "MM_Behroozi13 = 10**0.24*np.array([0.007, 0.010, 0.017, 0.020, 0.022, 0.022, 0.021, 0.016, 0.013, 0.009, 0.006, 0.004])\n",
    "\n",
    "# \n",
    "params_z4 = np.array([12.05, 0.19, 1.50, 0.64, 10.40, 0.08, 0.40])\n",
    "params_z8 = np.array([12.10, 0.24, 1.30, 0.64, 10.30, 0.02, 0.10])\n",
    "\n",
    "Mh_list_Moster = np.linspace(9.0, 13.0)\n",
    "\n",
    "def Moster_fct(halo_mass_log, params):\n",
    "    halo_mass = np.power(10, halo_mass_log)\n",
    "    ms_mb = 2.0*params[1]*((halo_mass/params[0])**(-1.0*params[2]) + (halo_mass/params[0])**(-1.0*params[3]))**(-1)\n",
    "\n"
   ]
  },
  {
   "cell_type": "code",
   "execution_count": null,
   "metadata": {
    "collapsed": true
   },
   "outputs": [],
   "source": []
  },
  {
   "cell_type": "code",
   "execution_count": 6,
   "metadata": {
    "ExecuteTime": {
     "end_time": "2018-01-31T10:25:46.104036Z",
     "start_time": "2018-01-31T10:25:30.438994Z"
    },
    "collapsed": false
   },
   "outputs": [],
   "source": [
    "SP_file_name = \n",
    "cat_SP = h5py.File(SP_file_name, 'r')\n",
    "Mh_list = cat_SP['DM/DM_M'][:]\n",
    "Ms_list = compute_M(cat_SP)\n",
    "SFR_200_list = compute_SFR(cat_SP, 200.0)\n",
    "SFR_10_list = compute_SFR(cat_SP, 10.0)\n"
   ]
  },
  {
   "cell_type": "code",
   "execution_count": 7,
   "metadata": {
    "ExecuteTime": {
     "end_time": "2018-01-31T10:25:47.461130Z",
     "start_time": "2018-01-31T10:25:46.106447Z"
    },
    "collapsed": false
   },
   "outputs": [
    {
     "name": "stdout",
     "output_type": "stream",
     "text": [
      "8.242180317069149\n"
     ]
    }
   ],
   "source": [
    "t = cat_SP['SFH/SFH_time'][:]\n",
    "SFR = cat_SP['SFH/SFH_SFR'][:][10000]\n",
    "print np.log10(np.trapz(SFR, t)*10**6)"
   ]
  },
  {
   "cell_type": "code",
   "execution_count": 8,
   "metadata": {
    "ExecuteTime": {
     "end_time": "2018-01-31T10:25:47.783596Z",
     "start_time": "2018-01-31T10:25:47.462893Z"
    },
    "collapsed": false
   },
   "outputs": [
    {
     "data": {
      "image/png": "[encoded data removed]",
      "text/plain": [
       "<matplotlib.figure.Figure at 0x116714dd0>"
      ]
     },
     "metadata": {},
     "output_type": "display_data"
    }
   ],
   "source": [
    "plt.plot(t, SFR, '-')\n",
    "plt.show()"
   ]
  },
  {
   "cell_type": "code",
   "execution_count": null,
   "metadata": {
    "collapsed": true
   },
   "outputs": [],
   "source": []
  },
  {
   "cell_type": "code",
   "execution_count": 9,
   "metadata": {
    "ExecuteTime": {
     "end_time": "2018-01-31T10:25:47.826660Z",
     "start_time": "2018-01-31T10:25:47.785232Z"
    },
    "collapsed": false
   },
   "outputs": [
    {
     "name": "stderr",
     "output_type": "stream",
     "text": [
      "/Users/sandrotacchella/anaconda2/lib/python2.7/site-packages/ipykernel/__main__.py:1: RuntimeWarning: divide by zero encountered in log10\n",
      "  if __name__ == '__main__':\n"
     ]
    }
   ],
   "source": [
    "x_rm, y_rm, y_rm_l, y_rm_h = running_median_with_err(np.log10(Mh_list), np.log10(Ms_list/Mh_list))\n"
   ]
  },
  {
   "cell_type": "code",
   "execution_count": 27,
   "metadata": {
    "ExecuteTime": {
     "end_time": "2018-01-31T14:16:45.656021Z",
     "start_time": "2018-01-31T14:16:43.664936Z"
    },
    "collapsed": false
   },
   "outputs": [
    {
     "name": "stderr",
     "output_type": "stream",
     "text": [
      "/Users/sandrotacchella/anaconda2/lib/python2.7/site-packages/ipykernel/__main__.py:5: RuntimeWarning: divide by zero encountered in log10\n"
     ]
    },
    {
     "data": {
      "image/png": "[encoded data removed]",
      "text/plain": [
       "<matplotlib.figure.Figure at 0x11726b650>"
      ]
     },
     "metadata": {},
     "output_type": "display_data"
    }
   ],
   "source": [
    "plot_every_other = 10\n",
    "\n",
    "fig, ax = plt.subplots(nrows=1, ncols=1, figsize=(6, 5))\n",
    "\n",
    "ax.plot(np.log10(Mh_list_z4)[::plot_every_other], np.log10(Ms_list_z4/Mh_list_z4)[::plot_every_other], '.', color='C0')\n",
    "\n",
    "ax.errorbar(Mh_Ms_relation_z4[0], Mh_Ms_relation_z4[1], yerr=[Mh_Ms_relation_z4[1]-Mh_Ms_relation_z4[2], Mh_Ms_relation_z4[3]-Mh_Ms_relation_z4[1]], fmt='o-', ms=8, color='C1', capsize=3, zorder=10)\n",
    "# ax.errorbar(Mh_Ms_relation_z6[0], Mh_Ms_relation_z6[1], yerr=[Mh_Ms_relation_z6[1]-Mh_Ms_relation_z6[2], Mh_Ms_relation_z6[3]-Mh_Ms_relation_z6[1]], fmt='o-', color='C2', capsize=3, zorder=10)\n",
    "# ax.errorbar(Mh_Ms_relation_z8[0], Mh_Ms_relation_z8[1], yerr=[Mh_Ms_relation_z8[1]-Mh_Ms_relation_z8[2], Mh_Ms_relation_z8[3]-Mh_Ms_relation_z8[1]], fmt='o-', color='C2', capsize=3, zorder=10)\n",
    "# ax.errorbar(Mh_Ms_relation_z10[0], Mh_Ms_relation_z10[1], yerr=[Mh_Ms_relation_z10[1]-Mh_Ms_relation_z10[2], Mh_Ms_relation_z10[3]-Mh_Ms_relation_z10[1]], fmt='o-', color='C2', capsize=3, zorder=10)\n",
    "\n",
    "# plot Behroozi\n",
    "ax.plot(np.log10(Mh_Behroozi13), np.log10(MM_Behroozi13), '-', color='C2')\n",
    "\n",
    "ax.set_xlabel(r'$\\log\\/\\/\\/\\/\\mathrm{M}_{\\rm h}\\/\\/\\/\\/[\\mathrm{M}_{\\odot}]$', fontsize=18)\n",
    "ax.set_ylabel(r'$\\log\\/\\/\\/\\/\\mathrm{M}_{\\star}\\//\\/\\mathrm{M}_{\\rm h}$', fontsize=18)\n",
    "\n",
    "ax.set_xlim([9.5, 12.5])\n",
    "ax.set_ylim([-3.7, -0.8])\n",
    "\n",
    "plt.legend(frameon=False, fontsize=14)\n",
    "plt.savefig(path_figures + 'Ms_Mh_Relation.pdf', bbox_inches='tight')\n",
    "plt.show()"
   ]
  },
  {
   "cell_type": "code",
   "execution_count": null,
   "metadata": {
    "collapsed": true
   },
   "outputs": [],
   "source": []
  },
  {
   "cell_type": "code",
   "execution_count": null,
   "metadata": {
    "collapsed": true
   },
   "outputs": [],
   "source": []
  },
  {
   "cell_type": "code",
   "execution_count": null,
   "metadata": {
    "collapsed": true
   },
   "outputs": [],
   "source": []
  },
  {
   "cell_type": "markdown",
   "metadata": {},
   "source": [
    "# Comparison Stellar Mass Functions"
   ]
  },
  {
   "cell_type": "code",
   "execution_count": 11,
   "metadata": {
    "ExecuteTime": {
     "end_time": "2018-01-31T10:25:50.195014Z",
     "start_time": "2018-01-31T10:25:50.189176Z"
    },
    "collapsed": true
   },
   "outputs": [],
   "source": [
    "\n",
    "M_Fct_obs_dict = {}\n",
    "\n",
    "# z=4\n",
    "M_list = np.array([7.25, 7.75, 8.25, 8.75, 9.25, 9.75, 10.25, 10.75, 11.25])\n",
    "phi_list = np.array([-1.57, -1.77, -2.00, -2.22, -2.52, -2.91, -3.37, -4.00, -4.54])\n",
    "phi_err_list_neg = np.array([0.16, 0.14, 0.10, 0.09, 0.09, 0.05, 0.12, 0.25, 0.55])\n",
    "phi_err_list_pos = np.array([0.21, 0.15, 0.13, 0.09, 0.09, 0.12, 0.09, 0.20, 0.34])\n",
    "M_Fct_obs_dict['4'] = np.array([M_list, phi_list, phi_err_list_neg, phi_err_list_pos])\n",
    "\n"
   ]
  },
  {
   "cell_type": "code",
   "execution_count": 12,
   "metadata": {
    "ExecuteTime": {
     "end_time": "2018-01-31T10:25:50.200131Z",
     "start_time": "2018-01-31T10:25:50.196532Z"
    },
    "collapsed": true
   },
   "outputs": [],
   "source": [
    "# Duncan, different IMF!\n",
    "M_list_Duncan = 0.24+np.array([10.868, 10.615, 10.376, 10.122, 9.877, 9.621, 9.370, 9.127, 8.877, 8.628, 8.377, 8.124, 7.879])\n",
    "phi_list_Duncan = np.array([3.304e-5, 7.909e-5, 3.336e-4, 6.004e-4, 0.001, 0.002, 0.004, 0.008, 0.012, 0.017, 0.028, 0.050, 0.068])\n"
   ]
  },
  {
   "cell_type": "code",
   "execution_count": 13,
   "metadata": {
    "ExecuteTime": {
     "end_time": "2018-01-31T10:26:12.967109Z",
     "start_time": "2018-01-31T10:25:50.201600Z"
    },
    "collapsed": false
   },
   "outputs": [
    {
     "name": "stderr",
     "output_type": "stream",
     "text": [
      "/Users/sandrotacchella/anaconda2/lib/python2.7/site-packages/ipykernel/__main__.py:67: RuntimeWarning: divide by zero encountered in log10\n"
     ]
    }
   ],
   "source": [
    "M_bins_center_z4, M_fct_model_z4 = compute_Ms_Fct(path_SP_cat_00 + 'SFH_z4_constant_with_L.hdf5', volume_box, bin_size=0.1, cumulative=False, redshift_in=None, completeness_correction=False, completeness_correction_type='parameterized')\n",
    "M_bins_center_z4_04, M_fct_model_z4_04 = compute_Ms_Fct(path_SP_cat_04 + 'SFH_z4_constant_with_L.hdf5', volume_box, bin_size=0.1, cumulative=False, redshift_in=None, completeness_correction=False, completeness_correction_type='parameterized')\n"
   ]
  },
  {
   "cell_type": "code",
   "execution_count": 14,
   "metadata": {
    "ExecuteTime": {
     "end_time": "2018-01-31T10:26:13.820579Z",
     "start_time": "2018-01-31T10:26:12.970955Z"
    },
    "collapsed": false
   },
   "outputs": [
    {
     "name": "stderr",
     "output_type": "stream",
     "text": [
      "/Users/sandrotacchella/anaconda2/lib/python2.7/site-packages/ipykernel/__main__.py:9: RuntimeWarning: divide by zero encountered in log10\n"
     ]
    },
    {
     "data": {
      "image/png": "[encoded data removed]",
      "text/plain": [
       "<matplotlib.figure.Figure at 0x116bfa590>"
      ]
     },
     "metadata": {},
     "output_type": "display_data"
    }
   ],
   "source": [
    "\n",
    "fig, ax = plt.subplots(nrows=1, ncols=1, figsize=(6, 4.5))\n",
    "\n",
    "# Observations\n",
    "plot_datapoints_observations_log(ax, M_Fct_obs_dict, '4', 'C0', 'Song+15')\n",
    "ax.plot(M_list_Duncan, np.log10(phi_list_Duncan), 'o', color='black', label='Duncan+15')\n",
    "\n",
    "# Model\n",
    "ax.plot(M_bins_center_z4, np.log10(M_fct_model_z4), '-', color='C3', lw=2, label=r'$z=4$')\n",
    "ax.plot(M_bins_center_z4_04, np.log10(M_fct_model_z4_04), '--', color='C3', lw=2, label=r'$z=4, 0.4$')\n",
    "\n",
    "\n",
    "ax.set_xlabel(r'$\\log\\/\\/\\/\\/\\mathrm{M}_{\\star}\\/\\/\\/\\/[\\mathrm{M_{\\odot}}]$', fontsize=18)\n",
    "ax.set_ylabel(r'$\\log\\/\\/\\/\\/\\phi_{\\rm M_{\\star}}\\/\\/\\/\\/[\\mathrm{Mpc}^{-3}\\/\\/\\mathrm{dex}^{-1}]$', fontsize=18)\n",
    "\n",
    "#ax.set_xlim([-1.0, 3.0])\n",
    "#ax.set_ylim([-5.5, -0.7])\n",
    "\n",
    "plt.legend(frameon=False, fontsize=14)\n",
    "plt.savefig(path_figures + 'Ms_Fct_evolution.pdf', bbox_inches='tight')\n",
    "plt.show()\n"
   ]
  },
  {
   "cell_type": "code",
   "execution_count": null,
   "metadata": {
    "collapsed": true
   },
   "outputs": [],
   "source": []
  },
  {
   "cell_type": "code",
   "execution_count": null,
   "metadata": {
    "collapsed": true
   },
   "outputs": [],
   "source": []
  },
  {
   "cell_type": "markdown",
   "metadata": {},
   "source": [
    "# Star-Forming Main Sequence"
   ]
  },
  {
   "cell_type": "code",
   "execution_count": 15,
   "metadata": {
    "ExecuteTime": {
     "end_time": "2018-01-31T10:26:13.825953Z",
     "start_time": "2018-01-31T10:26:13.822328Z"
    },
    "collapsed": true
   },
   "outputs": [],
   "source": [
    "# derivation of the SFR threshold, when all the stars formed within the last 200 Myr\n",
    "M_limit_list = np.linspace(4.0, 12.0)\n",
    "SFR_limit_list = np.log10(10**M_limit_list/(200.0*10**6))\n",
    "M_limit_list -= R  # take away return to ISM"
   ]
  },
  {
   "cell_type": "code",
   "execution_count": 16,
   "metadata": {
    "ExecuteTime": {
     "end_time": "2018-01-31T10:26:16.390290Z",
     "start_time": "2018-01-31T10:26:13.827660Z"
    },
    "collapsed": false
   },
   "outputs": [
    {
     "name": "stderr",
     "output_type": "stream",
     "text": [
      "/Users/sandrotacchella/anaconda2/lib/python2.7/site-packages/ipykernel/__main__.py:5: RuntimeWarning: divide by zero encountered in log10\n"
     ]
    },
    {
     "data": {
      "image/png": "[encoded data removed]",
      "text/plain": [
       "<matplotlib.figure.Figure at 0x116bfa290>"
      ]
     },
     "metadata": {},
     "output_type": "display_data"
    }
   ],
   "source": [
    "plot_every_other = 10\n",
    "\n",
    "fig, ax = plt.subplots(nrows=1, ncols=1, figsize=(6, 5))\n",
    "\n",
    "ax.plot(np.log10(Ms_list)[::plot_every_other], np.log10(SFR_200_list)[::plot_every_other], '.', color='C0')\n",
    "#ax.plot(np.log10(Ms_list)[::plot_every_other], np.log10(SFR_10_list)[::plot_every_other], '.', color='C1')\n",
    "ax.plot(M_limit_list, SFR_limit_list, '--', color='red')\n",
    "\n",
    "\n",
    "#ax.plot(np.log10(Ms_list)[::plot_every_other], np.log10(SFR_10_list)[::plot_every_other], '.', color='C1')\n",
    "#ax.errorbar(x_rm, y_rm, yerr=[y_rm-y_rm_l, y_rm_h-y_rm], fmt='o-', color='C1', capsize=3, zorder=10)\n",
    "#ax.plot(np.log10(Mh_Behroozi13), np.log10(MM_Behroozi13), '-', color='C2')\n",
    "\n",
    "ax.set_xlabel(r'$\\log\\/\\/\\/\\/\\mathrm{M}_{\\star}\\/\\/\\/\\/[\\mathrm{M}_{\\odot}]$', fontsize=18)\n",
    "ax.set_ylabel(r'$\\log\\/\\/\\/\\/\\mathrm{SFR}\\/\\/\\/\\/[\\mathrm{M}_{\\odot}\\/\\/\\mathrm{yr}^{-1}]$', fontsize=18)\n",
    "\n",
    "#ax.set_xlim([9.5, 11.5])\n",
    "#ax.set_ylim([0.0, 2.5])\n",
    "\n",
    "plt.legend(frameon=False, fontsize=14)\n",
    "plt.savefig(path_figures + 'MS_Relation.pdf', bbox_inches='tight')\n",
    "plt.show()"
   ]
  },
  {
   "cell_type": "code",
   "execution_count": 17,
   "metadata": {
    "ExecuteTime": {
     "end_time": "2018-01-31T10:26:16.405956Z",
     "start_time": "2018-01-31T10:26:16.392061Z"
    },
    "collapsed": false
   },
   "outputs": [
    {
     "name": "stderr",
     "output_type": "stream",
     "text": [
      "/Users/sandrotacchella/anaconda2/lib/python2.7/site-packages/ipykernel/__main__.py:1: RuntimeWarning: divide by zero encountered in log10\n",
      "  if __name__ == '__main__':\n"
     ]
    },
    {
     "data": {
      "text/plain": [
       "0"
      ]
     },
     "execution_count": 17,
     "metadata": {},
     "output_type": "execute_result"
    }
   ],
   "source": [
    "idx_special = (np.log10(SFR_200_list) > np.log10(Ms_list)-8.1) & (np.log10(Ms_list) > 8.5)\n",
    "\n",
    "\n",
    "np.sum(idx_special)"
   ]
  },
  {
   "cell_type": "code",
   "execution_count": 18,
   "metadata": {
    "ExecuteTime": {
     "end_time": "2018-01-31T10:26:18.180189Z",
     "start_time": "2018-01-31T10:26:16.407882Z"
    },
    "collapsed": false
   },
   "outputs": [],
   "source": [
    "t = cat_SP['SFH/SFH_time'][:]\n",
    "SFR = cat_SP['SFH/SFH_SFR'][:][idx_special]\n",
    "for ii in range(np.sum(idx_special))[150:170]:\n",
    "    plt.plot(t, SFR[ii], '-')\n",
    "plt.show()"
   ]
  },
  {
   "cell_type": "code",
   "execution_count": null,
   "metadata": {
    "collapsed": true
   },
   "outputs": [],
   "source": []
  },
  {
   "cell_type": "code",
   "execution_count": 19,
   "metadata": {
    "ExecuteTime": {
     "end_time": "2018-01-31T10:26:20.772412Z",
     "start_time": "2018-01-31T10:26:18.182002Z"
    },
    "collapsed": false
   },
   "outputs": [
    {
     "name": "stderr",
     "output_type": "stream",
     "text": [
      "/Users/sandrotacchella/anaconda2/lib/python2.7/site-packages/ipykernel/__main__.py:5: RuntimeWarning: divide by zero encountered in log10\n"
     ]
    },
    {
     "data": {
      "image/png": "[encoded data removed]",
      "text/plain": [
       "<matplotlib.figure.Figure at 0x116b3f750>"
      ]
     },
     "metadata": {},
     "output_type": "display_data"
    }
   ],
   "source": [
    "plot_every_other = 10\n",
    "\n",
    "fig, ax = plt.subplots(nrows=1, ncols=1, figsize=(6, 5))\n",
    "\n",
    "ax.plot(np.log10(Mh_list)[::plot_every_other], np.log10(SFR_200_list)[::plot_every_other], '.', color='C0')\n",
    "#ax.plot(np.log10(Ms_list[idx_lowM]), np.log10(SFR_200_list[idx_lowM]), '.', color='C1')\n",
    "\n",
    "#ax.plot(np.log10(Ms_list)[::plot_every_other], np.log10(SFR_10_list)[::plot_every_other], '.', color='C1')\n",
    "#ax.errorbar(x_rm, y_rm, yerr=[y_rm-y_rm_l, y_rm_h-y_rm], fmt='o-', color='C1', capsize=3, zorder=10)\n",
    "#ax.plot(np.log10(Mh_Behroozi13), np.log10(MM_Behroozi13), '-', color='C2')\n",
    "\n",
    "ax.set_xlabel(r'$\\log\\/\\/\\/\\/\\mathrm{M}_{\\rm h}\\/\\/\\/\\/[\\mathrm{M}_{\\odot}]$', fontsize=18)\n",
    "ax.set_ylabel(r'$\\log\\/\\/\\/\\/\\mathrm{SFR}\\/\\/\\/\\/[\\mathrm{M}_{\\odot}\\/\\/\\mathrm{yr}^{-1}]$', fontsize=18)\n",
    "\n",
    "#ax.set_xlim([9.5, 11.5])\n",
    "#ax.set_ylim([0.0, 2.5])\n",
    "\n",
    "plt.legend(frameon=False, fontsize=14)\n",
    "plt.savefig(path_figures + 'SFR_Mh_Relation.pdf', bbox_inches='tight')\n",
    "plt.show()"
   ]
  },
  {
   "cell_type": "code",
   "execution_count": null,
   "metadata": {
    "collapsed": true
   },
   "outputs": [],
   "source": []
  },
  {
   "cell_type": "code",
   "execution_count": null,
   "metadata": {
    "collapsed": true
   },
   "outputs": [],
   "source": []
  },
  {
   "cell_type": "code",
   "execution_count": null,
   "metadata": {
    "collapsed": true
   },
   "outputs": [],
   "source": []
  }
 ],
 "metadata": {
  "kernelspec": {
   "display_name": "Python 2",
   "language": "python",
   "name": "python2"
  },
  "language_info": {
   "codemirror_mode": {
    "name": "ipython",
    "version": 2
   },
   "file_extension": ".py",
   "mimetype": "text/x-python",
   "name": "python",
   "nbconvert_exporter": "python",
   "pygments_lexer": "ipython2",
   "version": "2.7.13"
  },
  "toc": {
   "nav_menu": {},
   "number_sections": true,
   "sideBar": true,
   "skip_h1_title": false,
   "toc_cell": false,
   "toc_position": {},
   "toc_section_display": "block",
   "toc_window_display": false
  },
  "varInspector": {
   "cols": {
    "lenName": 16,
    "lenType": 16,
    "lenVar": 40
   },
   "kernels_config": {
    "python": {
     "delete_cmd_postfix": "",
     "delete_cmd_prefix": "del ",
     "library": "var_list.py",
     "varRefreshCmd": "print(var_dic_list())"
    },
    "r": {
     "delete_cmd_postfix": ") ",
     "delete_cmd_prefix": "rm(",
     "library": "var_list.r",
     "varRefreshCmd": "cat(var_dic_list()) "
    }
   },
   "types_to_exclude": [
    "module",
    "function",
    "builtin_function_or_method",
    "instance",
    "_Feature"
   ],
   "window_display": false
  }
 },
 "nbformat": 4,
 "nbformat_minor": 2
}
