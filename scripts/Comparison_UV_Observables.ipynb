{
 "cells": [
  {
   "cell_type": "markdown",
   "metadata": {},
   "source": [
    "# Initialize Modules and Paths"
   ]
  },
  {
   "cell_type": "code",
   "execution_count": 1,
   "metadata": {
    "ExecuteTime": {
     "end_time": "2018-01-29T21:12:26.222778Z",
     "start_time": "2018-01-29T21:12:25.564412Z"
    },
    "collapsed": true
   },
   "outputs": [],
   "source": [
    "# load modules\n",
    "\n",
    "import numpy as np\n",
    "import os\n",
    "import h5py\n",
    "from scipy.optimize import fsolve\n",
    "\n",
    "import completeness\n",
    "\n",
    "import matplotlib.pyplot as plt\n",
    "plt.rcParams['mathtext.fontset'] = 'stixsans'\n",
    "plt.rcParams['font.family'] = 'sans'\n",
    "plt.rcParams['font.serif'] = 'STIXGeneral'\n",
    "\n"
   ]
  },
  {
   "cell_type": "code",
   "execution_count": 2,
   "metadata": {
    "ExecuteTime": {
     "end_time": "2018-01-29T21:12:26.276687Z",
     "start_time": "2018-01-29T21:12:26.272949Z"
    },
    "collapsed": true
   },
   "outputs": [],
   "source": [
    "# define paths\n",
    "\n",
    "path_main = os.environ['WDIR_halo_model']\n",
    "path_figures = path_main + 'Figures/'\n",
    "path_DM_cat = path_main + 'catalogs/DM/'\n",
    "path_SFH_cat = path_main + 'catalogs/SFH/'\n",
    "path_SP_cat = path_main + 'catalogs/SP/'\n"
   ]
  },
  {
   "cell_type": "code",
   "execution_count": 3,
   "metadata": {
    "ExecuteTime": {
     "end_time": "2018-01-29T21:12:27.037603Z",
     "start_time": "2018-01-29T21:12:27.034583Z"
    },
    "collapsed": true
   },
   "outputs": [],
   "source": [
    "# define important parameters\n",
    "\n",
    "volume_box = 100.0**3  # in Mpc^-3\n",
    "\n",
    "\n"
   ]
  },
  {
   "cell_type": "markdown",
   "metadata": {},
   "source": [
    "# Get Data from ody"
   ]
  },
  {
   "cell_type": "code",
   "execution_count": 4,
   "metadata": {
    "ExecuteTime": {
     "end_time": "2018-01-29T21:12:27.878407Z",
     "start_time": "2018-01-29T21:12:27.873589Z"
    },
    "collapsed": false
   },
   "outputs": [
    {
     "name": "stdout",
     "output_type": "stream",
     "text": [
      "scp stacchella@odyssey.rc.fas.harvard.edu://n/eisenstein_lab/Users/stacchella/halo_model/catalogs/SFH/*.hdf5 /Users/sandrotacchella/ASTRO/JWST/halo_model/catalogs/SFH/\n",
      "scp stacchella@odyssey.rc.fas.harvard.edu://n/eisenstein_lab/Users/stacchella/halo_model/catalogs/SP/*.hdf5 /Users/sandrotacchella/ASTRO/JWST/halo_model/catalogs/SP/\n"
     ]
    }
   ],
   "source": [
    "# get the data in terminal\n",
    "\n",
    "path_ody = '/n/eisenstein_lab/Users/stacchella/halo_model/catalogs/'\n",
    "\n",
    "print 'scp stacchella@odyssey.rc.fas.harvard.edu:/' + path_ody + 'SFH/*.hdf5' + ' ' + path_SFH_cat\n",
    "print 'scp stacchella@odyssey.rc.fas.harvard.edu:/' + path_ody + 'SP/*.hdf5' + ' ' + path_SP_cat\n",
    "\n"
   ]
  },
  {
   "cell_type": "code",
   "execution_count": null,
   "metadata": {
    "collapsed": true
   },
   "outputs": [],
   "source": []
  },
  {
   "cell_type": "markdown",
   "metadata": {},
   "source": [
    "# Comparison UV LFs"
   ]
  },
  {
   "cell_type": "code",
   "execution_count": 5,
   "metadata": {
    "ExecuteTime": {
     "end_time": "2018-01-29T21:12:30.090653Z",
     "start_time": "2018-01-29T21:12:29.897374Z"
    },
    "collapsed": false
   },
   "outputs": [],
   "source": [
    "# define functions\n",
    "\n",
    "def compute_LF(SP_file_name, volume_box, cumulative=False, add_dust=False, redshift_in=None, completeness_correction=False, completeness_correction_type='parameterized'):\n",
    "    '''\n",
    "    input:\n",
    "      SP_file_name:    hdf5 filename that contains luminosities\n",
    "      volume_box:      volume of simulation box in Mpc^-3\n",
    "      cumulative:      True/False for computing cumulative LF\n",
    "      add_dust:        True/False for adding dust attenuation to UV mags\n",
    "      redshift_in:     redshift considered, needed for add_dust and completeness_correction\n",
    "      completeness_correction:  True/False for applying completeness correction\n",
    "    '''\n",
    "    cat_SP = h5py.File(SP_file_name, 'r')\n",
    "    mag_list = -48.6-2.5*np.log10(cat_SP['luminosities/luminosity_0'][:, 2]/(4*np.pi*(3.086e+19)**2))\n",
    "    idx_good = np.isfinite(mag_list)\n",
    "    mag_list = mag_list[idx_good]\n",
    "    mag_bins = np.arange(np.max([-25.0, np.min(mag_list)]), np.min([-12.5, np.max(mag_list)]), 0.25)\n",
    "    mag_bins_center = mag_bins[:-1] + 0.5*np.diff(mag_bins)\n",
    "    if completeness_correction:\n",
    "        if (completeness_correction_type=='numerical'):\n",
    "            weights = 10**completeness.get_completeness_correction_numerical(np.log10(cat_SP['DM/DM_M'][:][idx_good]), redshift_in)\n",
    "        elif (completeness_correction_type=='parameterized'):\n",
    "            weights = 10**completeness.get_completeness_correction_parametrized(np.log10(cat_SP['DM/DM_M'][:][idx_good]), redshift_in)\n",
    "    else:\n",
    "        weights = None\n",
    "    hist, bin_edges = np.histogram(mag_list, bins=mag_bins, weights=weights)\n",
    "    if add_dust:\n",
    "        mag_bins_center_d = add_dust_attenuation(mag_bins_center, redshift_in)\n",
    "    else:\n",
    "        mag_bins_center_d = mag_bins_center     \n",
    "    if cumulative:\n",
    "        LFcum = np.cumsum(hist)/volume_box\n",
    "        return(mag_bins_center_d, LFcum)\n",
    "    else:\n",
    "        LF = hist/(np.diff(mag_bins)*volume_box)\n",
    "        return(mag_bins_center_d, LF)\n",
    "\n",
    "\n",
    "def get_dust_attenuation(magUV_in, redshift_in, with_scatter=False):\n",
    "    '''\n",
    "    This function computes the dust attenuation at 1600 A (A1600)\n",
    "    from the Bouwens et al 2015 relation; used to do the dust \n",
    "    correction.\n",
    "    '''\n",
    "    # ensure inputs are arrays\n",
    "    if type(magUV_in) is not np.ndarray:\n",
    "        magUV_in = np.array([magUV_in])\n",
    "    if type(redshift_in) is not np.ndarray:\n",
    "        redshift_in = np.array([redshift_in])\n",
    "    # values for beta-MUV relation from Bouwens et al 2015\n",
    "    B15_z_list = np.array([2.5, 3.8, 5.0, 5.9, 7.0, 8.0])\n",
    "    B15_beta_list = np.array([-1.70, -1.85, -1.91, -2.00, -2.05, -2.13])\n",
    "    B15_dbdM_list = np.array([-0.20, -0.11, -0.14, -0.20, -0.20, -0.15])\n",
    "    # interpolate beta-MUV relation\n",
    "    beta_value = np.interp(redshift_in, B15_z_list, B15_beta_list, left=B15_beta_list[0], right=np.nan)\n",
    "    dbdM_value = np.interp(redshift_in, B15_z_list, B15_dbdM_list, left=B15_dbdM_list[0], right=np.nan)\n",
    "    # get average beta\n",
    "    avg_b = dbdM_value*(magUV_in+19.5) + beta_value\n",
    "    # convert beta to A1600\n",
    "    if with_scatter:\n",
    "        A1600 = 4.43 + 1.99*(avg_b + np.random.normal(loc=0.0, scale=0.34, size=len(avg_b)))\n",
    "    else:\n",
    "        A1600 = 4.43 + 0.2*np.log(10)*1.99**2*0.34**2+1.99*avg_b\n",
    "    A1600[np.isnan(A1600)] = np.zeros(np.sum(np.isnan(A1600)))\n",
    "    A1600[A1600 < 0.0] = np.zeros(np.sum(A1600 < 0.0))\n",
    "    return(A1600)\n",
    "\n",
    "\n",
    "def fct_solve(mag_with_dust, mag_without_dust, redshift):\n",
    "    return(mag_without_dust-(mag_with_dust-get_dust_attenuation(mag_with_dust, redshift)))\n",
    "\n",
    "\n",
    "def add_dust_attenuation(magUV_in, redshift_in, with_scatter=False):\n",
    "    '''\n",
    "    Adds dust according to the Bouwens et al 2015 relation.\n",
    "    '''\n",
    "    mag_with_dust = fsolve(fct_solve, magUV_in, args=(magUV_in, redshift_in))\n",
    "    return(mag_with_dust)\n",
    "\n",
    "\n",
    "def UV_LF_Bouwens15(mag_in, z, num_of_draws=1000, cumulative=True, do_dust_corr=True, with_scatter=False):\n",
    "    '''\n",
    "    This returns the UV LF (mags and phis) of Bouwens et al 2015.\n",
    "    '''\n",
    "    # take random draw from error distribution\n",
    "    MUV_list = np.random.normal(loc=-20.95, scale=0.1, size=num_of_draws)+np.random.normal(loc=0.01, scale=0.06, size=num_of_draws)*(z-6.0)\n",
    "    phi_list = np.random.normal(loc=0.47, scale=0.1, size=num_of_draws)*np.power(10, np.random.normal(loc=-0.27, scale=0.05, size=num_of_draws)*(z-6.0))*10**-3  # in Mpc\n",
    "    alpha_list = np.random.normal(loc=-1.87, scale=0.05, size=num_of_draws)+np.random.normal(loc=-0.1, scale=0.03, size=num_of_draws)*(z-6.0)\n",
    "    # print median\n",
    "    print '---------------------'\n",
    "    print 'redshift = ', z\n",
    "    print 'MUV = ', np.round(np.median(MUV_list), 2)\n",
    "    print 'phi (x10^-3) = ', np.round(np.median(phi_list)*10**3, 2)\n",
    "    print 'alpha = ', np.round(np.median(alpha_list), 2)\n",
    "    # correct for dust\n",
    "    if do_dust_corr:\n",
    "        AUV = get_dust_attenuation(mag_in, z, with_scatter=with_scatter)\n",
    "        mag = mag_in - AUV\n",
    "    else:\n",
    "        mag = mag_in\n",
    "    # get UV LF\n",
    "    ii = 0\n",
    "    UV_LF_list = phi_list[ii]*(np.log(10)/2.5)*np.power(10, -0.4*(mag_in-MUV_list[ii])*(alpha_list[ii]+1.0))*np.exp(-1.0*np.power(10.0, -0.4*(mag_in-MUV_list[ii])))\n",
    "    for ii in np.arange(1, num_of_draws):\n",
    "        UV_LF_ii = phi_list[ii]*(np.log(10)/2.5)*np.power(10, -0.4*(mag_in-MUV_list[ii])*(alpha_list[ii]+1.0))*np.exp(-1.0*np.power(10.0, -0.4*(mag_in-MUV_list[ii])))\n",
    "        UV_LF_list = np.vstack([UV_LF_list, UV_LF_ii])\n",
    "    UV_LF_median = np.percentile(UV_LF_list, 50, axis=0)\n",
    "    UV_LF_P16 = np.percentile(UV_LF_list, 16, axis=0)\n",
    "    UV_LF_P84 = np.percentile(UV_LF_list, 84, axis=0)\n",
    "    if cumulative:\n",
    "        UV_LF_cum_median = []\n",
    "        UV_LF_cum_P16 = []\n",
    "        UV_LF_cum_P84 = []\n",
    "        for ii_mag in mag_in:\n",
    "            idx = (mag_in < ii_mag)\n",
    "            UV_LF_cum_median = np.append(UV_LF_cum_median, np.trapz(UV_LF_median[idx], mag_in[idx]))\n",
    "            UV_LF_cum_P16 = np.append(UV_LF_cum_P16, np.trapz(UV_LF_P16[idx], mag_in[idx]))\n",
    "            UV_LF_cum_P84 = np.append(UV_LF_cum_P84, np.trapz(UV_LF_P84[idx], mag_in[idx]))\n",
    "        return(mag, UV_LF_cum_median, UV_LF_cum_P16, UV_LF_cum_P84)\n",
    "    else:\n",
    "        return(mag, UV_LF_median, UV_LF_P16, UV_LF_P84)\n",
    "\n",
    "\n",
    "def plot_datapoints_observations(axes, dictionary, redshift, color, label):\n",
    "    idx_no_upper_limit = (dictionary[redshift][2]>0.0)\n",
    "    idx_upper_limit = ~idx_no_upper_limit\n",
    "    # plot errorbar\n",
    "    error_bar_neg = np.log10(dictionary[redshift][1][idx_no_upper_limit])-np.log10(dictionary[redshift][1][idx_no_upper_limit]-dictionary[redshift][2][idx_no_upper_limit])\n",
    "    error_bar_pos = np.log10(dictionary[redshift][1][idx_no_upper_limit]+dictionary[redshift][3][idx_no_upper_limit])-np.log10(dictionary[redshift][1][idx_no_upper_limit])\n",
    "    axes.errorbar(dictionary[redshift][0][idx_no_upper_limit], np.log10(dictionary[redshift][1][idx_no_upper_limit]), yerr=[error_bar_neg, error_bar_pos], fmt='o', color=color, capsize=3, label=label)\n",
    "    # plot upper limit\n",
    "    axes.errorbar(dictionary[redshift][0][idx_upper_limit], np.log10(dictionary[redshift][1][idx_upper_limit]), yerr=0.4, fmt='.', markersize=0, color=color, capsize=3, uplims=True)\n",
    "\n"
   ]
  },
  {
   "cell_type": "code",
   "execution_count": 6,
   "metadata": {
    "ExecuteTime": {
     "end_time": "2018-01-29T21:12:30.770104Z",
     "start_time": "2018-01-29T21:12:30.720037Z"
    },
    "collapsed": false
   },
   "outputs": [],
   "source": [
    "# make dictionary with observed LFs\n",
    "\n",
    "LF_obs_dict = {}\n",
    "\n",
    "# z=4\n",
    "mag_list = np.array([-22.69, -22.19, -21.69, -21.19, -20.69, -20.19, -19.69, -19.19, -18.69, -18.19, -17.69, -16.94, -15.94])\n",
    "phi_list = np.array([0.000003, 0.000015, 0.000134, 0.000393, 0.000678, 0.001696, 0.002475, 0.002984, 0.005352, 0.006865, 0.010473, 0.024580, 0.025080])\n",
    "phi_err_list_neg = np.array([0.0000029, 0.000009, 0.000023, 0.000040, 0.000063, 0.000113, 0.000185, 0.000255, 0.000446, 0.001043, 0.002229, 0.003500, 0.007860])\n",
    "phi_err_list_pos = np.array([0.000004, 0.000009, 0.000023, 0.000040, 0.000063, 0.000113, 0.000185, 0.000255, 0.000446, 0.001043, 0.002229, 0.003500, 0.007860])\n",
    "LF_obs_dict['4'] = np.array([mag_list, phi_list, phi_err_list_neg, phi_err_list_pos])\n",
    "\n",
    "# z=5\n",
    "mag_list = np.array([-23.11, -22.61, -22.11, -21.61, -21.11, -20.61, -20.11, -19.61, -19.11, -18.36, -17.36, -16.36])\n",
    "phi_list = np.array([0.000002, 0.000006, 0.000034, 0.000101, 0.000265, 0.000676, 0.001029, 0.001329, 0.002085, 0.004460, 0.008600, 0.024400])\n",
    "phi_err_list_neg = np.array([0.0000019, 0.000003, 0.000008, 0.000014, 0.000025, 0.000046, 0.000067, 0.000094, 0.000171, 0.000540, 0.001760, 0.001760])\n",
    "phi_err_list_pos = np.array([0.000002, 0.000003, 0.000008, 0.000014, 0.000025, 0.000046, 0.000067, 0.000094, 0.000171, 0.000540, 0.001760, 0.001760])\n",
    "LF_obs_dict['5'] = np.array([mag_list, phi_list, phi_err_list_neg, phi_err_list_pos])\n",
    "\n",
    "# z=6\n",
    "mag_list = np.array([-22.52, -22.02, -21.52, -21.02, -20.52, -20.02, -19.52, -18.77, -17.77, -16.77])\n",
    "phi_list = np.array([0.000002, 0.000015, 0.000053, 0.000176, 0.000320, 0.000698, 0.001246, 0.001900, 0.006680, 0.013640])\n",
    "phi_err_list_neg = np.array([0.0000019, 0.000006, 0.000012, 0.000025, 0.000041, 0.000083, 0.000137, 0.000320, 0.001380, 0.004200])\n",
    "phi_err_list_pos = np.array([0.000002, 0.000006, 0.000012, 0.000025, 0.000041, 0.000083, 0.000137, 0.000320, 0.001380, 0.004200])\n",
    "LF_obs_dict['6'] = np.array([mag_list, phi_list, phi_err_list_neg, phi_err_list_pos])\n",
    "\n",
    "# z=7\n",
    "mag_list = np.array([-22.66, -22.16, -21.66, -21.16, -20.66, -20.16, -19.66, -19.16, -18.66, -17.91, -16.91])\n",
    "phi_list = np.array([0.000002, 0.000001, 0.000033, 0.000048, 0.000193, 0.000309, 0.000654, 0.000907, 0.001717, 0.005840, 0.008500])\n",
    "phi_err_list_neg = np.array([-99.0, 0.0000009, 0.000009, 0.000015, 0.000034, 0.000061, 0.000100, 0.000177, 0.000478, 0.001460, 0.002940])\n",
    "phi_err_list_pos = np.array([-99.0, 0.000002, 0.000009, 0.000015, 0.000034, 0.000061, 0.000100, 0.000177, 0.000478, 0.001460, 0.002940])\n",
    "LF_obs_dict['7'] = np.array([mag_list, phi_list, phi_err_list_neg, phi_err_list_pos])\n",
    "\n",
    "# z=8\n",
    "mag_list = np.array([-22.87, -22.37, -21.87, -21.37, -20.87, -20.37, -19.87, -19.37, -18.62, -17.62])\n",
    "phi_list = np.array([0.000002, 0.000002, 0.000005, 0.000013, 0.000058, 0.000060, 0.000331, 0.000533, 0.001060, 0.002740])\n",
    "phi_err_list = np.array([-99.0, -99.0, 0.000003, 0.000005, 0.000015, 0.000026, 0.000104, 0.000226, 0.000340, 0.001040])\n",
    "LF_obs_dict['8'] = np.array([mag_list, phi_list, phi_err_list, phi_err_list])\n",
    "\n",
    "# z=10\n",
    "mag_list = np.array([-22.25, -21.25, -20.25, -19.25, -18.25, -17.25])\n",
    "phi_list = np.array([0.017*10**-4, 0.010*10**-4, 0.100*10**-4, 0.340*10**-4, 1.900*10**-4, 6.300*10**-4])\n",
    "phi_err_list_neg = np.array([-99.0, 0.008*10**-4, 0.050*10**-4, 0.220*10**-4, 1.200*10**-4, 5.200*10**-4])\n",
    "phi_err_list_pos = np.array([-99.0, 0.022*10**-4, 0.100*10**-4, 0.450*10**-4, 2.500*10**-4, 14.90*10**-4])\n",
    "LF_obs_dict['10'] = np.array([mag_list, phi_list, phi_err_list_neg, phi_err_list_pos])\n",
    "\n"
   ]
  },
  {
   "cell_type": "markdown",
   "metadata": {
    "collapsed": true
   },
   "source": [
    "## Compare non-cumulative UV LF "
   ]
  },
  {
   "cell_type": "code",
   "execution_count": 7,
   "metadata": {
    "ExecuteTime": {
     "end_time": "2018-01-29T21:12:44.012001Z",
     "start_time": "2018-01-29T21:12:33.177904Z"
    },
    "collapsed": false
   },
   "outputs": [
    {
     "name": "stdout",
     "output_type": "stream",
     "text": [
      "---------------------\n",
      "redshift =  4.0\n",
      "MUV =  -20.97\n",
      "phi (x10^-3) =  1.6\n",
      "alpha =  -1.67\n",
      "---------------------\n",
      "redshift =  6.0\n",
      "MUV =  -20.95\n",
      "phi (x10^-3) =  0.47\n",
      "alpha =  -1.87\n",
      "---------------------\n",
      "redshift =  8.0\n",
      "MUV =  -20.94\n",
      "phi (x10^-3) =  0.13\n",
      "alpha =  -2.07\n",
      "---------------------\n",
      "redshift =  10.0\n",
      "MUV =  -20.9\n",
      "phi (x10^-3) =  0.04\n",
      "alpha =  -2.26\n"
     ]
    }
   ],
   "source": [
    "# get observed UV LF from Bouwens et al 2015\n",
    "\n",
    "list_mag_in = np.linspace(-30.0, -15.0, num=1000)\n",
    "list_mag_z4, UVLF_z4_median, UVLF_z4_P16, UVLF_z4_P84 = UV_LF_Bouwens15(list_mag_in, 4.0, num_of_draws=1000, cumulative=False, do_dust_corr=False)\n",
    "list_mag_z6, UVLF_z6_median, UVLF_z6_P16, UVLF_z6_P84 = UV_LF_Bouwens15(list_mag_in, 6.0, num_of_draws=1000, cumulative=False, do_dust_corr=False)\n",
    "list_mag_z8, UVLF_z8_median, UVLF_z8_P16, UVLF_z8_P84 = UV_LF_Bouwens15(list_mag_in, 8.0, num_of_draws=1000, cumulative=False, do_dust_corr=False)\n",
    "list_mag_z10, UVLF_z10_median, UVLF_z10_P16, UVLF_z10_P84 = UV_LF_Bouwens15(list_mag_in, 10.0, num_of_draws=1000, cumulative=False, do_dust_corr=False)\n"
   ]
  },
  {
   "cell_type": "code",
   "execution_count": 8,
   "metadata": {
    "ExecuteTime": {
     "end_time": "2018-01-29T21:12:46.940375Z",
     "start_time": "2018-01-29T21:12:45.652892Z"
    },
    "collapsed": false
   },
   "outputs": [
    {
     "name": "stderr",
     "output_type": "stream",
     "text": [
      "/Users/sandrotacchella/anaconda2/lib/python2.7/site-packages/ipykernel/__main__.py:16: RuntimeWarning: divide by zero encountered in log10\n",
      "/Users/sandrotacchella/anaconda2/lib/python2.7/site-packages/ipykernel/__main__.py:17: RuntimeWarning: divide by zero encountered in log10\n",
      "/Users/sandrotacchella/anaconda2/lib/python2.7/site-packages/ipykernel/__main__.py:18: RuntimeWarning: divide by zero encountered in log10\n",
      "/Users/sandrotacchella/anaconda2/lib/python2.7/site-packages/ipykernel/__main__.py:19: RuntimeWarning: divide by zero encountered in log10\n"
     ]
    },
    {
     "data": {
      "image/png": "[encoded data removed]",
      "text/plain": [
       "<matplotlib.figure.Figure at 0x110bdae10>"
      ]
     },
     "metadata": {},
     "output_type": "display_data"
    }
   ],
   "source": [
    "# test plotting of UV LF\n",
    "\n",
    "redshift_plot = ['4', '6', '8', '10']\n",
    "color_plot = ['C0', 'C1', 'C2', 'C3']\n",
    "label_plot = ['z=4: Bouwens+15', 'z=6: Bouwens+15', 'z=8: Bouwens+15', 'z=10: Oesch+18']\n",
    "\n",
    "\n",
    "fig, ax = plt.subplots(nrows=1, ncols=1, figsize=(6, 4.5))\n",
    "\n",
    "# plot data points from stepwise determination using SWML method\n",
    "for ii in range(len(redshift_plot)):\n",
    "    plot_datapoints_observations(ax, LF_obs_dict, redshift_plot[ii], color_plot[ii], label_plot[ii])\n",
    "\n",
    "# plot STY79 determinations of the Schechter Parameters (best fit from Bouwens)\n",
    "# different from Oesch at z~10!\n",
    "ax.plot(list_mag_z4, np.log10(UVLF_z4_median), '-', color=color_plot[0])\n",
    "ax.plot(list_mag_z6, np.log10(UVLF_z6_median), '-', color=color_plot[1])\n",
    "ax.plot(list_mag_z8, np.log10(UVLF_z8_median), '-', color=color_plot[2])\n",
    "ax.plot(list_mag_z10, np.log10(UVLF_z10_median), '-', color=color_plot[3])\n",
    "    \n",
    "\n",
    "ax.set_xlabel(r'$\\mathrm{M}_{\\rm UV}\\/\\/\\/\\/[\\mathrm{AB}]$', fontsize=18)\n",
    "ax.set_ylabel(r'$\\log\\/\\/\\/\\/\\phi_{\\rm UV}\\/\\/\\/\\/(<\\mathrm{M}_{\\rm UV})\\/\\/\\/\\/[\\mathrm{Mpc}^{-3}]$', fontsize=18)\n",
    "\n",
    "ax.set_xlim([-24, -16])\n",
    "ax.set_ylim([-6.4, -0.8])\n",
    "\n",
    "plt.legend(frameon=False, fontsize=12)\n",
    "plt.savefig(path_figures + 'UV_LF_test.pdf', bbox_inches='tight')\n",
    "plt.show()"
   ]
  },
  {
   "cell_type": "code",
   "execution_count": 9,
   "metadata": {
    "ExecuteTime": {
     "end_time": "2018-01-29T21:12:57.981192Z",
     "start_time": "2018-01-29T21:12:56.969475Z"
    },
    "collapsed": false
   },
   "outputs": [
    {
     "data": {
      "image/png": "[encoded data removed]",
      "text/plain": [
       "<matplotlib.figure.Figure at 0x1188c9710>"
      ]
     },
     "metadata": {},
     "output_type": "display_data"
    }
   ],
   "source": [
    "redshift_plot = ['4', '6', '8', '10']\n",
    "color_plot = ['C0', 'C1', 'C2', 'C3']\n",
    "label_plot = ['z=4: Bouwens+15', 'z=6: Bouwens+15', 'z=8: Bouwens+15', 'z=10: Oesch+18']\n",
    "\n",
    "\n",
    "fig, ax = plt.subplots(nrows=1, ncols=1, figsize=(6, 4.5))\n",
    "\n",
    "# plot data points from stepwise determination using SWML method\n",
    "for ii in range(len(redshift_plot)):\n",
    "    plot_datapoints_observations(ax, LF_obs_dict, redshift_plot[ii], color_plot[ii], label_plot[ii])\n",
    "\n",
    "\n",
    "for ii in range(len(redshift_plot))[0:1]:\n",
    "    mag_bins_center, LF = compute_LF(path_SP_cat + 'SFH_z' + redshift_plot[ii] + '_constant_with_L.hdf5', volume_box, cumulative=False, add_dust=True, redshift_in=float(redshift_plot[ii]), completeness_correction=True, completeness_correction_type='numerical')\n",
    "    ax.plot(mag_bins_center, np.log10(LF), '-', color=color_plot[ii])\n",
    "\n",
    "    \n",
    "for ii in range(len(redshift_plot))[0:1]:\n",
    "    mag_bins_center, LF = compute_LF(path_SP_cat + 'SFH_z' + redshift_plot[ii] + '_constant_with_L.hdf5', volume_box, cumulative=False, add_dust=True, redshift_in=float(redshift_plot[ii]), completeness_correction=False)\n",
    "    ax.plot(mag_bins_center, np.log10(LF), '--', color=color_plot[ii])\n",
    "\n",
    "    \n",
    "ax.set_xlabel(r'$\\mathrm{M}_{\\rm UV}\\/\\/\\/\\/[\\mathrm{AB}]$', fontsize=18)\n",
    "ax.set_ylabel(r'$\\log\\/\\/\\/\\/\\phi_{\\rm UV}\\/\\/\\/\\/(<\\mathrm{M}_{\\rm UV})\\/\\/\\/\\/[\\mathrm{Mpc}^{-3}]$', fontsize=18)\n",
    "\n",
    "ax.set_xlim([-24, -16])\n",
    "ax.set_ylim([-6.4, -0.8])\n",
    "\n",
    "plt.legend(frameon=False, fontsize=12)\n",
    "plt.savefig(path_figures + 'UV_LF_test_2.pdf', bbox_inches='tight')\n",
    "plt.show()\n",
    "\n"
   ]
  },
  {
   "cell_type": "code",
   "execution_count": null,
   "metadata": {
    "collapsed": true
   },
   "outputs": [],
   "source": []
  },
  {
   "cell_type": "code",
   "execution_count": null,
   "metadata": {
    "collapsed": true
   },
   "outputs": [],
   "source": []
  },
  {
   "cell_type": "markdown",
   "metadata": {},
   "source": [
    "## Compare cumulative UV LFs "
   ]
  },
  {
   "cell_type": "code",
   "execution_count": 10,
   "metadata": {
    "ExecuteTime": {
     "end_time": "2018-01-29T21:13:32.857162Z",
     "start_time": "2018-01-29T21:13:24.570468Z"
    },
    "collapsed": false
   },
   "outputs": [
    {
     "name": "stdout",
     "output_type": "stream",
     "text": [
      "---------------------\n",
      "redshift =  4.0\n",
      "MUV =  -20.98\n",
      "phi (x10^-3) =  1.61\n",
      "alpha =  -1.67\n",
      "---------------------\n",
      "redshift =  6.0\n",
      "MUV =  -20.96\n",
      "phi (x10^-3) =  0.47\n",
      "alpha =  -1.87\n",
      "---------------------\n",
      "redshift =  8.0\n",
      "MUV =  -20.94\n",
      "phi (x10^-3) =  0.13\n",
      "alpha =  -2.07\n"
     ]
    }
   ],
   "source": [
    "# get observed, cumulative UV LF from Bouwens et al 2015\n",
    "\n",
    "list_mag_in = np.linspace(-30.0, -15.0, num=1000)\n",
    "list_mag_z4, UVLF_z4_median, UVLF_z4_P16, UVLF_z4_P84 = UV_LF_Bouwens15(list_mag_in, 4.0, num_of_draws=1000, cumulative=True, do_dust_corr=False)\n",
    "list_mag_z6, UVLF_z6_median, UVLF_z6_P16, UVLF_z6_P84 = UV_LF_Bouwens15(list_mag_in, 6.0, num_of_draws=1000, cumulative=True, do_dust_corr=False)\n",
    "list_mag_z8, UVLF_z8_median, UVLF_z8_P16, UVLF_z8_P84 = UV_LF_Bouwens15(list_mag_in, 8.0, num_of_draws=1000, cumulative=True, do_dust_corr=False)\n"
   ]
  },
  {
   "cell_type": "code",
   "execution_count": 11,
   "metadata": {
    "ExecuteTime": {
     "end_time": "2018-01-29T21:13:35.597186Z",
     "start_time": "2018-01-29T21:13:34.563009Z"
    },
    "collapsed": false
   },
   "outputs": [
    {
     "name": "stderr",
     "output_type": "stream",
     "text": [
      "/Users/sandrotacchella/anaconda2/lib/python2.7/site-packages/ipykernel/__main__.py:8: RuntimeWarning: divide by zero encountered in log10\n",
      "/Users/sandrotacchella/anaconda2/lib/python2.7/site-packages/ipykernel/__main__.py:9: RuntimeWarning: divide by zero encountered in log10\n",
      "/Users/sandrotacchella/anaconda2/lib/python2.7/site-packages/ipykernel/__main__.py:10: RuntimeWarning: divide by zero encountered in log10\n",
      "/Users/sandrotacchella/anaconda2/lib/python2.7/site-packages/ipykernel/__main__.py:11: RuntimeWarning: divide by zero encountered in log10\n",
      "/Users/sandrotacchella/anaconda2/lib/python2.7/site-packages/ipykernel/__main__.py:12: RuntimeWarning: divide by zero encountered in log10\n",
      "/Users/sandrotacchella/anaconda2/lib/python2.7/site-packages/ipykernel/__main__.py:13: RuntimeWarning: divide by zero encountered in log10\n"
     ]
    },
    {
     "data": {
      "image/png": "[encoded data removed]",
      "text/plain": [
       "<matplotlib.figure.Figure at 0x1188a6950>"
      ]
     },
     "metadata": {},
     "output_type": "display_data"
    }
   ],
   "source": [
    "redshift_plot = ['4', '6', '8', '10']\n",
    "color_plot = ['C0', 'C1', 'C2', 'C3']\n",
    "label_plot = ['z=4: Bouwens+15', 'z=6: Bouwens+15', 'z=8: Bouwens+15', 'z=10: Oesch+18']\n",
    "\n",
    "\n",
    "fig, ax = plt.subplots(nrows=1, ncols=1, figsize=(6, 4.5))\n",
    "\n",
    "ax.plot(list_mag_z4, np.log10(UVLF_z4_median), ':', color=color_plot[0], lw=2, label=label_plot[0])\n",
    "ax.fill_between(list_mag_z4, np.log10(UVLF_z4_P16), np.log10(UVLF_z4_P84), color=color_plot[0], lw=0.0, alpha=0.2)\n",
    "ax.plot(list_mag_z6, np.log10(UVLF_z6_median), ':', color=color_plot[1], lw=2, label=label_plot[1])\n",
    "ax.fill_between(list_mag_z6, np.log10(UVLF_z6_P16), np.log10(UVLF_z6_P84), color=color_plot[1], lw=0.0, alpha=0.2)\n",
    "ax.plot(list_mag_z8, np.log10(UVLF_z8_median), ':', color=color_plot[2], lw=2, label=label_plot[2])\n",
    "ax.fill_between(list_mag_z8, np.log10(UVLF_z8_P16), np.log10(UVLF_z8_P84), color=color_plot[2], lw=0.0, alpha=0.2)\n",
    "\n",
    "\n",
    "for ii in range(len(redshift_plot))[0:1]:\n",
    "    mag_bins_center, LF = compute_LF(path_SP_cat + 'SFH_z' + redshift_plot[ii] + '_constant_with_L.hdf5', volume_box, cumulative=True, add_dust=True, redshift_in=float(redshift_plot[ii]), completeness_correction=True, completeness_correction_type='numerical')\n",
    "    ax.plot(mag_bins_center, np.log10(LF), '-', color=color_plot[ii])\n",
    "\n",
    "    \n",
    "for ii in range(len(redshift_plot))[0:1]:\n",
    "    mag_bins_center, LF = compute_LF(path_SP_cat + 'SFH_z' + redshift_plot[ii] + '_constant_with_L.hdf5', volume_box, cumulative=True, add_dust=True, redshift_in=float(redshift_plot[ii]), completeness_correction=False)\n",
    "    ax.plot(mag_bins_center, np.log10(LF), '--', color=color_plot[ii])\n",
    "\n",
    "    \n",
    "ax.set_xlabel(r'$\\mathrm{M}_{\\rm UV}\\/\\/\\/\\/[\\mathrm{AB}]$', fontsize=18)\n",
    "ax.set_ylabel(r'$\\log\\/\\/\\/\\/\\phi_{\\rm UV}\\/\\/\\/\\/(<\\mathrm{M}_{\\rm UV})\\/\\/\\/\\/[\\mathrm{Mpc}^{-3}]$', fontsize=18)\n",
    "\n",
    "ax.set_xlim([-24, -16])\n",
    "ax.set_ylim([-6.4, -0.8])\n",
    "\n",
    "plt.legend(frameon=False, fontsize=12)\n",
    "plt.savefig(path_figures + 'UV_LF_cumulative.pdf', bbox_inches='tight')\n",
    "plt.show()\n",
    "\n",
    "\n",
    "\n"
   ]
  },
  {
   "cell_type": "code",
   "execution_count": null,
   "metadata": {
    "collapsed": true
   },
   "outputs": [],
   "source": []
  },
  {
   "cell_type": "code",
   "execution_count": null,
   "metadata": {
    "collapsed": true
   },
   "outputs": [],
   "source": []
  },
  {
   "cell_type": "code",
   "execution_count": null,
   "metadata": {
    "collapsed": true
   },
   "outputs": [],
   "source": []
  },
  {
   "cell_type": "code",
   "execution_count": null,
   "metadata": {
    "collapsed": true
   },
   "outputs": [],
   "source": []
  },
  {
   "cell_type": "code",
   "execution_count": null,
   "metadata": {
    "collapsed": true
   },
   "outputs": [],
   "source": []
  },
  {
   "cell_type": "code",
   "execution_count": null,
   "metadata": {
    "ExecuteTime": {
     "end_time": "2018-01-26T23:43:14.787614Z",
     "start_time": "2018-01-26T23:43:14.783180Z"
    },
    "collapsed": false
   },
   "outputs": [],
   "source": [
    "UV_mag_limit = -17.0  # Oesch+18 => but is it dust corrected?\n",
    "\n",
    "UV_lum_density_z4 = np.interp(UV_mag_limit, mag_bins_center_z4, np.log10(cumLF_z4))\n",
    "print UV_lum_density_z4\n"
   ]
  },
  {
   "cell_type": "code",
   "execution_count": null,
   "metadata": {
    "collapsed": true
   },
   "outputs": [],
   "source": []
  },
  {
   "cell_type": "code",
   "execution_count": null,
   "metadata": {
    "ExecuteTime": {
     "end_time": "2018-01-26T23:54:23.149851Z",
     "start_time": "2018-01-26T23:54:22.704841Z"
    },
    "collapsed": false
   },
   "outputs": [],
   "source": [
    "# check efficiency\n",
    "\n",
    "cat_calib_z4 = h5py.File(path_SP_cat + 'SFH_z4_constant_calibration_with_L.hdf5', 'r')\n",
    "ratio = cat_z4_M10['luminosities/luminosity_0'][:, 2]/cat_calib_z4['luminosities/luminosity_0'][:, 2]\n",
    "\n",
    "plt.plot(np.log10(cat_z4['DM/DM_M'][:]), np.log10(ratio), '.')\n",
    "plt.show()"
   ]
  },
  {
   "cell_type": "code",
   "execution_count": null,
   "metadata": {
    "collapsed": true
   },
   "outputs": [],
   "source": []
  },
  {
   "cell_type": "markdown",
   "metadata": {},
   "source": [
    "# Comparison SFR Functions"
   ]
  },
  {
   "cell_type": "code",
   "execution_count": 74,
   "metadata": {
    "ExecuteTime": {
     "end_time": "2018-01-29T16:23:03.672557Z",
     "start_time": "2018-01-29T16:23:03.555597Z"
    },
    "collapsed": false
   },
   "outputs": [],
   "source": [
    "# define functions\n",
    "\n",
    "def compute_SFR_Fct(SP_file_name, volume_box, cumulative=False, redshift_in=None, completeness_correction=False, completeness_correction_type='parameterized'):\n",
    "    '''\n",
    "    input:\n",
    "      SP_file_name:    hdf5 filename that contains luminosities\n",
    "      volume_box:      volume of simulation box in Mpc^-3\n",
    "      cumulative:      True/False for computing cumulative LF\n",
    "      add_dust:        True/False for adding dust attenuation to UV mags\n",
    "      redshift_in:     redshift considered, needed for add_dust and completeness_correction\n",
    "      completeness_correction:  True/False for applying completeness correction\n",
    "    '''\n",
    "    cat_SP = h5py.File(SP_file_name, 'r')\n",
    "    SFR_list = np.log10(np.median(cat_SP['SFH/SFH_SFR'][:, (cat_SP['SFH/SFH_time'][:] >= (cat_SP['SFH/SFH_time'][:][-1]-200.0))], axis=1))\n",
    "    idx_good = np.isfinite(SFR_list)\n",
    "    SFR_list = SFR_list[idx_good]\n",
    "    SFR_bins = np.arange(np.max([-2.0, np.min(SFR_list)]), np.min([3.0, np.max(SFR_list)]), 0.1)\n",
    "    SFR_bins_center = SFR_bins[:-1] + 0.5*np.diff(SFR_bins)\n",
    "\n",
    "    if completeness_correction:\n",
    "        if (completeness_correction_type=='numerical'):\n",
    "            weights = 10**completeness.get_completeness_correction_numerical(np.log10(cat_SP['DM/DM_M'][:][idx_good]), redshift_in)\n",
    "        elif (completeness_correction_type=='parameterized'):\n",
    "            weights = 10**completeness.get_completeness_correction_parametrized(np.log10(cat_SP['DM/DM_M'][:][idx_good]), redshift_in)\n",
    "    else:\n",
    "        weights = None\n",
    "    hist, bin_edges = np.histogram(SFR_list, bins=SFR_bins, weights=weights)\n",
    "    if cumulative:\n",
    "        SFR_Fctcum = np.cumsum(hist[::-1])[::-1]/volume_box\n",
    "        return(SFR_bins_center, SFR_Fctcum)\n",
    "    else:\n",
    "        SFR_Fct = hist/(np.diff(SFR_bins)*volume_box)\n",
    "        return(SFR_bins_center, SFR_Fct)\n",
    "\n",
    "\n",
    "def SFR_Fct_Smit16(redshift, cumulative=False, num_of_draws = 1000):\n",
    "    '''\n",
    "    Get SFR functions from Smit et al 2012 and 2016. \n",
    "    SFR_correction is for correcting the assumed increase of \n",
    "    0.07 dex relative to Kennicutt 98 conversion to better\n",
    "    match the Ha SFR (see Smit et al 2016).\n",
    "    '''\n",
    "    # values from Table 2 in Smit et al 2012\n",
    "    # S12\n",
    "    # S_z_list = np.array([3.8, 5.0, 5.9, 6.8])\n",
    "    # S_alpha_list = np.array([-1.60, -1.50, -1.57, -1.96])\n",
    "    # S_phi_list = np.array([1.07, 0.76, 1.08, 0.64])*10**-3\n",
    "    # S_sfr_list = np.array([1.54, 1.36, 1.07, 1.00])\n",
    "    # SFR_correction = 0.0\n",
    "    # S16: SMC dust from Table 6 in Smit et al 2016\n",
    "    # S_z_list = np.array([3.8, 4.9, 5.9, 6.8, 7.9])\n",
    "    # S_alpha_list = np.array([-1.57, -1.66, -1.72, -1.82, -1.91])\n",
    "    # S_phi_list = np.array([1.76, 0.65, 0.41, 0.27, 0.18])*10**-3\n",
    "    # S_sfr_list = np.array([1.41, 1.53, 1.42, 1.37, 1.19])\n",
    "    # SFR_correction = 0.0\n",
    "    # S16: Meurer dust from Table 8 in Smit et al 2016\n",
    "    S_z_list = np.array([3.8, 4.9, 5.9, 6.8, 7.9])\n",
    "    S_alpha_list = np.array([-1.53, -1.60, -1.63, -1.73, -1.85])\n",
    "    S_alpha_err_list = np.array([0.05, 0.07, 0.14, 0.21, 0.38])\n",
    "    S_phi_list = np.array([1.62, 0.59, 0.36, 0.23, 0.16])*10**-3\n",
    "    S_phi_err_list = np.array([0.26, 0.13, 0.14, 0.13, 0.14])*10**-3\n",
    "    S_sfr_list = np.array([1.74, 1.87, 1.75, 1.68, 1.43])\n",
    "    S_sfr_err_list = np.array([0.07, 0.08, 0.14, 0.20, 0.38])\n",
    "    SFR_correction = 0.07\n",
    "    # interpolate to given redshift\n",
    "    alpha = np.interp(redshift, S_z_list, S_alpha_list, left=np.nan, right=np.nan)\n",
    "    phi = np.interp(redshift, S_z_list, S_phi_list, left=np.nan, right=np.nan)\n",
    "    log_sfr = np.interp(redshift, S_z_list, S_sfr_list, left=np.nan, right=np.nan)\n",
    "    alpha_err = np.interp(redshift, S_z_list, S_alpha_err_list, left=np.nan, right=np.nan)\n",
    "    phi_err = np.interp(redshift, S_z_list, S_phi_err_list, left=np.nan, right=np.nan)\n",
    "    log_sfr_err = np.interp(redshift, S_z_list, S_sfr_err_list, left=np.nan, right=np.nan)\n",
    "    # draw random values from error distribution\n",
    "    SFR_list = np.logspace(-1.0, 3.0, num=1000)\n",
    "    alpha_draws = np.random.normal(loc=alpha, scale=alpha_err, size=num_of_draws)\n",
    "    phi_draws = np.random.normal(loc=phi, scale=phi_err, size=num_of_draws)\n",
    "    log_sfr_draws = np.random.normal(loc=log_sfr, scale=log_sfr_err, size=num_of_draws)\n",
    "    # compute SFR function\n",
    "    SFR_fct_list = []\n",
    "    ii = 0 \n",
    "    SFR_fct_list = phi_draws[ii]*np.power(SFR_list/10**log_sfr_draws[ii], alpha_draws[ii])*np.exp(-1.0*SFR_list/10**log_sfr_draws[ii])*1.0/10**log_sfr_draws[ii]\n",
    "    for ii in np.arange(1, num_of_draws):\n",
    "        SFR_fct = phi_draws[ii]*np.power(SFR_list/10**log_sfr_draws[ii], alpha_draws[ii])*np.exp(-1.0*SFR_list/10**log_sfr_draws[ii])*1.0/10**log_sfr_draws[ii]\n",
    "        SFR_fct_list = np.vstack([SFR_fct_list, SFR_fct])\n",
    "    SFR_fct_median = np.percentile(SFR_fct_list, 50, axis=0)\n",
    "    SFR_fct_P16 = np.percentile(SFR_fct_list, 16, axis=0)\n",
    "    SFR_fct_P84 = np.percentile(SFR_fct_list, 84, axis=0)\n",
    "    if cumulative:\n",
    "        SFR_fct_cum_median = []\n",
    "        SFR_fct_cum_P16 = []\n",
    "        SFR_fct_cum_P84 = []\n",
    "        for ii_sfr in SFR_list:\n",
    "            idx = (SFR_list > ii_sfr)\n",
    "            SFR_fct_cum_median = np.append(SFR_fct_cum_median, np.trapz(SFR_fct_median[idx], SFR_list[idx]))\n",
    "            SFR_fct_cum_P16 = np.append(SFR_fct_cum_P16, np.trapz(SFR_fct_P16[idx], SFR_list[idx]))\n",
    "            SFR_fct_cum_P84 = np.append(SFR_fct_cum_P84, np.trapz(SFR_fct_P84[idx], SFR_list[idx]))\n",
    "        return(SFR_list/10**SFR_correction, SFR_fct_cum_median, SFR_fct_cum_P16, SFR_fct_cum_P84)\n",
    "    else:\n",
    "        return(SFR_list/10**SFR_correction, SFR_fct_median, SFR_fct_P16, SFR_fct_P84)\n",
    "    \n"
   ]
  },
  {
   "cell_type": "code",
   "execution_count": 21,
   "metadata": {
    "ExecuteTime": {
     "end_time": "2018-01-29T14:21:53.375265Z",
     "start_time": "2018-01-29T14:21:53.338315Z"
    },
    "collapsed": false
   },
   "outputs": [],
   "source": [
    "# make dictionary with observed SFR functions\n",
    "\n",
    "SFRFct_obs_dict = {}\n",
    "\n",
    "# z=4\n",
    "SFR_list = np.array([-0.63, -0.17, 0.18, 0.42, 0.66, 0.90, 1.14, 1.38, 1.62, 1.86, 2.11, 2.35, 2.59])\n",
    "phi_list = np.array([0.055128, 0.053183, 0.022292, 0.014455, 0.011193, 0.006207, 0.005127, 0.003503, 0.001397, 0.000809, 0.000275, 0.000031, 0.000006])\n",
    "phi_err_list_neg = np.array([0.017277, 0.007573, 0.004744, 0.002196, 0.000933, 0.000530, 0.000383, 0.000233, 0.000130, 0.000082, 0.000047, 0.000018, 0.0000059])\n",
    "phi_err_list_pos = np.array([0.017277, 0.007573, 0.004744, 0.002196, 0.000933, 0.000530, 0.000383, 0.000233, 0.000130, 0.000082, 0.000047, 0.000018, 0.000008])\n",
    "SFRFct_obs_dict['4'] = np.array([SFR_list, phi_list, phi_err_list_neg, phi_err_list_pos])\n",
    "\n",
    "# z=5\n",
    "SFR_list = np.array([-0.49, -0.03, 0.45, 0.82, 1.06, 1.31, 1.56, 1.81, 2.06, 2.31, 2.56, 2.82])\n",
    "phi_list = np.array([0.053846, 0.018326, 0.009254, 0.004252, 0.002683, 0.002066, 0.001352, 0.000529, 0.000201, 0.000068, 0.000012, 0.000004])\n",
    "phi_err_list_neg = np.array([0.015801, 0.003750, 0.001120, 0.000349, 0.000190, 0.000135, 0.000092, 0.000050, 0.000028, 0.000016, 0.000006, 0.0000039])\n",
    "phi_err_list_pos = np.array([0.015801, 0.003750, 0.001120, 0.000349, 0.000190, 0.000135, 0.000092, 0.000050, 0.000028, 0.000016, 0.000006, 0.000004])\n",
    "SFRFct_obs_dict['5'] = np.array([SFR_list, phi_list, phi_err_list_neg, phi_err_list_pos])\n",
    "\n",
    "# z=6\n",
    "SFR_list = np.array([-0.39, 0.07, 0.56, 0.95, 1.22, 1.49, 1.77, 2.04, 2.32, 2.59])\n",
    "phi_list = np.array([0.031227, 0.014083, 0.003761, 0.002365, 0.001296, 0.000588, 0.000321, 0.000096, 0.000027, 0.000004])\n",
    "phi_err_list_neg = np.array([0.009615, 0.002909, 0.000633, 0.000260, 0.000154, 0.000075, 0.000046, 0.000022, 0.000011, 0.0000039])\n",
    "phi_err_list_pos = np.array([0.009615, 0.002909, 0.000633, 0.000260, 0.000154, 0.000075, 0.000046, 0.000022, 0.000011, 0.000004])\n",
    "SFRFct_obs_dict['6'] = np.array([SFR_list, phi_list, phi_err_list_neg, phi_err_list_pos])\n",
    "\n",
    "# z=7\n",
    "SFR_list = np.array([-0.33, 0.13, 0.50, 0.75, 1.01, 1.27, 1.54, 1.81, 2.08, 2.35])\n",
    "phi_list = np.array([0.019064, 0.012464, 0.003480, 0.001773, 0.001252, 0.000582, 0.000360, 0.000089, 0.000061, 0.000002])\n",
    "phi_err_list_neg = np.array([0.006594, 0.003116, 0.000969, 0.000346, 0.000191, 0.000115, 0.000063, 0.000028, 0.000017, 0.0000019])\n",
    "phi_err_list_pos = np.array([0.006594, 0.003116, 0.000969, 0.000346, 0.000191, 0.000115, 0.000063, 0.000028, 0.000017, 0.000004])\n",
    "SFRFct_obs_dict['7'] = np.array([SFR_list, phi_list, phi_err_list_neg, phi_err_list_pos])\n",
    "\n",
    "# z=8\n",
    "SFR_list = np.array([-0.01, 0.44, 0.79, 1.03, 1.27, 1.52, 1.77, 2.01])\n",
    "phi_list = np.array([0.006130, 0.002311, 0.001131, 0.000689, 0.000123, 0.000118, 0.000026, 0.000010])\n",
    "phi_err_list_neg = np.array([0.002327, 0.000741, 0.000479, 0.000216, 0.000053, 0.000031, 0.000010, 0.000006])\n",
    "phi_err_list_pos = np.array([0.002327, 0.000741, 0.000479, 0.000216, 0.000053, 0.000031, 0.000010, 0.000006])\n",
    "SFRFct_obs_dict['8'] = np.array([SFR_list, phi_list, phi_err_list_neg, phi_err_list_pos])\n"
   ]
  },
  {
   "cell_type": "code",
   "execution_count": null,
   "metadata": {
    "collapsed": true
   },
   "outputs": [],
   "source": []
  },
  {
   "cell_type": "code",
   "execution_count": null,
   "metadata": {
    "collapsed": true
   },
   "outputs": [],
   "source": []
  },
  {
   "cell_type": "code",
   "execution_count": null,
   "metadata": {
    "collapsed": true
   },
   "outputs": [],
   "source": []
  },
  {
   "cell_type": "code",
   "execution_count": null,
   "metadata": {
    "collapsed": true
   },
   "outputs": [],
   "source": []
  },
  {
   "cell_type": "code",
   "execution_count": 75,
   "metadata": {
    "ExecuteTime": {
     "end_time": "2018-01-29T16:23:48.364287Z",
     "start_time": "2018-01-29T16:23:18.945468Z"
    },
    "collapsed": false
   },
   "outputs": [
    {
     "name": "stderr",
     "output_type": "stream",
     "text": [
      "/Users/sandrotacchella/anaconda2/lib/python2.7/site-packages/ipykernel/__main__.py:14: RuntimeWarning: divide by zero encountered in log10\n"
     ]
    }
   ],
   "source": [
    "# read in model\n",
    "# take average SFR over past 200 Myr (UV SFR)\n",
    "\n",
    "SFR_bins_center_z4, SFR_fct_model_z4 = compute_SFR_Fct(path_SFH_cat + 'SFH_z4_constant_standard.hdf5', volume_box, cumulative=False, redshift_in=4.0, completeness_correction=True)\n",
    "SFR_bins_center_z41, SFR_fct_model_z41 = compute_SFR_Fct(path_SFH_cat + 'SFH_z4_constant_+0.1.hdf5', volume_box, cumulative=False, redshift_in=4.0, completeness_correction=True)\n",
    "SFR_bins_center_z42, SFR_fct_model_z42 = compute_SFR_Fct(path_SFH_cat + 'SFH_z4_constant_+0.2.hdf5', volume_box, cumulative=False, redshift_in=4.0, completeness_correction=True)\n",
    "#SFR_bins_center_z43, SFR_fct_model_z43 = compute_SFR_Fct(path_SFH_cat + 'SFH_z4_constant_0.26.hdf5', volume_box, cumulative=False, redshift_in=4.0, completeness_correction=True)\n",
    "#SFR_bins_center_z4, SFR_fct_model_z4 = compute_SFR_Fct(path_SP_cat + 'SFH_z4_constant_with_L.hdf5', volume_box, cumulative=False, redshift_in=4.0, completeness_correction=True)\n",
    "#SFR_bins_center_z6, SFR_fct_model_z6 = compute_SFR_Fct(path_SP_cat + 'SFH_z6_constant_with_L_M05.hdf5', volume_box, cumulative=False, redshift_in=6.0, completeness_correction=True)\n"
   ]
  },
  {
   "cell_type": "code",
   "execution_count": null,
   "metadata": {
    "collapsed": true
   },
   "outputs": [],
   "source": []
  },
  {
   "cell_type": "code",
   "execution_count": 25,
   "metadata": {
    "ExecuteTime": {
     "end_time": "2018-01-29T14:22:38.960091Z",
     "start_time": "2018-01-29T14:22:31.449429Z"
    },
    "collapsed": false
   },
   "outputs": [],
   "source": [
    "# set up observations\n",
    "\n",
    "SFR_list_z4, SFR_fct_z4, SFR_fct_z4_P16, SFR_fct_z4_P84 = SFR_Fct_Smit16(4.0, cumulative=False)\n",
    "SFR_list_z6, SFR_fct_z6, SFR_fct_z6_P16, SFR_fct_z6_P84 = SFR_Fct_Smit16(6.0, cumulative=False)\n",
    "SFR_list_z8, SFR_fct_z8, SFR_fct_z8_P16, SFR_fct_z8_P84 = SFR_Fct_Smit16(7.9, cumulative=False)\n"
   ]
  },
  {
   "cell_type": "code",
   "execution_count": null,
   "metadata": {
    "ExecuteTime": {
     "end_time": "2018-01-24T09:40:37.531035Z",
     "start_time": "2018-01-24T09:40:36.384933Z"
    },
    "collapsed": false
   },
   "outputs": [],
   "source": []
  },
  {
   "cell_type": "code",
   "execution_count": 79,
   "metadata": {
    "ExecuteTime": {
     "end_time": "2018-01-29T16:25:42.879035Z",
     "start_time": "2018-01-29T16:25:41.864428Z"
    },
    "collapsed": false
   },
   "outputs": [
    {
     "name": "stderr",
     "output_type": "stream",
     "text": [
      "/Users/sandrotacchella/anaconda2/lib/python2.7/site-packages/ipykernel/__main__.py:24: RuntimeWarning: divide by zero encountered in log10\n"
     ]
    },
    {
     "data": {
      "image/png": "[encoded data removed]",
      "text/plain": [
       "<matplotlib.figure.Figure at 0x11a284790>"
      ]
     },
     "metadata": {},
     "output_type": "display_data"
    }
   ],
   "source": [
    "redshift_plot = ['4', '6', '8']\n",
    "color_plot = ['C0', 'C1', 'C2']\n",
    "label_plot = ['z=4: Smit+16', 'z=6: Smit+16', 'z=8: Smit+16']\n",
    "\n",
    "\n",
    "fig, ax = plt.subplots(nrows=1, ncols=1, figsize=(6, 4.5))\n",
    "\n",
    "# Observations\n",
    "#ax.plot(np.log10(SFR_list_z4), np.log10(SFR_fct_z4), '--', color='C0', alpha=0.8)\n",
    "#ax.fill_between(np.log10(SFR_list_z4), np.log10(SFR_fct_z4_P16), np.log10(SFR_fct_z4_P84), lw=0.0, color='C0', alpha=0.2)\n",
    "#ax.plot(np.log10(SFR_list_z6), np.log10(SFR_fct_z6), '--', color='C1', alpha=0.8)\n",
    "#ax.fill_between(np.log10(SFR_list_z6), np.log10(SFR_fct_z6_P16), np.log10(SFR_fct_z6_P84), lw=0.0, color='C1', alpha=0.2)\n",
    "#ax.plot(np.log10(SFR_list_z8), np.log10(SFR_fct_z8), '--', color='C2', alpha=0.8)\n",
    "#ax.fill_between(np.log10(SFR_list_z8), np.log10(SFR_fct_z8_P16), np.log10(SFR_fct_z8_P84), lw=0.0, color='C2', alpha=0.2)\n",
    "\n",
    "# data points from observatoins\n",
    "for ii in range(len(redshift_plot)):\n",
    "    plot_datapoints_observations(ax, SFRFct_obs_dict, redshift_plot[ii], color_plot[ii], label_plot[ii])\n",
    "\n",
    "\n",
    "\n",
    "# Model\n",
    "ax.plot(SFR_bins_center_z4, np.log10(SFR_fct_model_z4), '-', color='C3', lw=2, label=r'$z=4\\/standard$')\n",
    "ax.plot(SFR_bins_center_z41, np.log10(SFR_fct_model_z41), '-', color='C1', lw=2, label=r'$z=4\\/+0.1$')\n",
    "ax.plot(SFR_bins_center_z42, np.log10(SFR_fct_model_z42), '-', color='C0', lw=2, label=r'$z=4\\/+0.2$')\n",
    "#ax.plot(SFR_bins_center_z43, np.log10(SFR_fct_model_z43), '-', color='C0', lw=2, label=r'$z=4\\/0.26$')\n",
    "#ax.plot(np.log10(SFR_bins_center_z8), np.log10(SFR_fct_model_z8), '-', color='C2', lw=2, label=r'$z=8$')\n",
    "\n",
    "ax.set_xlabel(r'$\\log\\/\\/\\/\\/\\mathrm{SFR}\\/\\/\\/\\/[\\mathrm{M_{\\odot}}\\/\\/\\mathrm{yr}^{-1}]$', fontsize=18)\n",
    "ax.set_ylabel(r'$\\log\\/\\/\\/\\/\\phi_{\\rm SFR}\\/\\/\\/\\/[\\mathrm{Mpc}^{-3}\\/\\/\\mathrm{dex}^{-1}]$', fontsize=18)\n",
    "\n",
    "ax.set_xlim([-1.0, 3.0])\n",
    "ax.set_ylim([-5.5, -0.7])\n",
    "\n",
    "plt.legend(frameon=False, fontsize=14)\n",
    "plt.savefig(path_figures + 'SFR_Fct_evolution2.pdf', bbox_inches='tight')\n",
    "plt.show()"
   ]
  },
  {
   "cell_type": "code",
   "execution_count": null,
   "metadata": {
    "collapsed": true
   },
   "outputs": [],
   "source": []
  },
  {
   "cell_type": "markdown",
   "metadata": {},
   "source": [
    "# Comparison Cosmic SFR Density"
   ]
  },
  {
   "cell_type": "code",
   "execution_count": null,
   "metadata": {
    "ExecuteTime": {
     "end_time": "2018-01-26T23:25:03.207464Z",
     "start_time": "2018-01-26T23:25:03.202664Z"
    },
    "collapsed": true
   },
   "outputs": [],
   "source": [
    "# Oesch+18 integrates down to 0.3 Msun/yr, which corresponds to -17.0 mag\n",
    "# this is probably not dust corrected, i.e. LF are integrated down to this magnitude\n",
    "# we work with dust corrected quantities, i.e. we have to know to which dust corrected\n",
    "# magnitude -17.0 goes to\n",
    "\n",
    "def convert_mag_to_SFR(UVmag):\n",
    "    Kuv_Oesch18 = 1.15*10**-28  # Msun/yr / erg/s/Hz\n",
    "    L_1500 = np.power(10, -0.4*(UVmag+48.6))*4*np.pi*(3.086e+19)**2\n",
    "    SFR = Kuv_Oesch18*L_1500\n",
    "    return(SFR)\n",
    "    \n"
   ]
  },
  {
   "cell_type": "code",
   "execution_count": null,
   "metadata": {
    "ExecuteTime": {
     "end_time": "2018-01-26T23:25:04.673134Z",
     "start_time": "2018-01-26T23:25:04.663669Z"
    },
    "collapsed": false
   },
   "outputs": [],
   "source": [
    "print 'mag=-17.0 in SFR:', np.round(convert_mag_to_SFR(-17.0), 2)\n",
    "\n",
    "mag_limit_z4 = add_dust(-17.0, 4.0)\n",
    "mag_limit_z6 = add_dust(-17.0, 6.0)\n",
    "mag_limit_z8 = add_dust(-17.0, 8.0)\n",
    "mag_limit_z10 = add_dust(-17.0, 10.0)\n",
    "\n",
    "print convert_mag_to_SFR(mag_limit_z4)\n",
    "print convert_mag_to_SFR(mag_limit_z6)\n",
    "print convert_mag_to_SFR(mag_limit_z8)\n",
    "print convert_mag_to_SFR(mag_limit_z10)\n"
   ]
  },
  {
   "cell_type": "code",
   "execution_count": null,
   "metadata": {
    "ExecuteTime": {
     "end_time": "2018-01-26T23:25:09.401711Z",
     "start_time": "2018-01-26T23:25:09.396378Z"
    },
    "collapsed": false
   },
   "outputs": [],
   "source": [
    "add_dust(-17.0, 6.0)"
   ]
  },
  {
   "cell_type": "code",
   "execution_count": null,
   "metadata": {
    "ExecuteTime": {
     "end_time": "2018-01-26T23:25:55.850464Z",
     "start_time": "2018-01-26T23:25:55.051739Z"
    },
    "collapsed": false
   },
   "outputs": [],
   "source": [
    "# integrate LF down to SFR ~ 0.3 Msun/year ??\n",
    "# check IMF\n",
    "# get data\n",
    "\n",
    "SFR_limit = 0.3  # dust correction??\n",
    "\n",
    "# Oesch+18\n",
    "z_list_obs = np.array([3.804, 4.902, 5.916, 6.805, 7.907, 10.195])\n",
    "z_list_obs_low = np.array([3.396, 4.395, 5.487, 6.288, 7.391, 9.542])\n",
    "z_list_obs_high = np.array([4.228, 5.426, 6.327, 7.335, 8.425, 10.860])\n",
    "cSFRD_obs = np.array([-1.116, -1.389, -1.647, -1.880, -2.211, -3.289])\n",
    "cSFRD_obs_low = np.array([-0.986, -1.267, -1.501, -1.811, -2.132, -3.112])\n",
    "cSFRD_obs_high = np.array([-1.265, -1.517, -1.781, -1.965, -2.284, -3.471])\n",
    "\n",
    "# Smit+16\n",
    "idx_S16 = np.array([True, False, True, False, True, False])\n",
    "cSFRD_obs_S16 = np.array([np.log10(SFR_fct_z4[np.abs(np.log10(SFR_list_z4)-np.log10(SFR_limit)).argmin()]), np.log10(SFR_fct_z6[np.abs(np.log10(SFR_list_z6)-np.log10(0.3)).argmin()]), np.log10(SFR_fct_z8[np.abs(np.log10(SFR_list_z8)-np.log10(0.3)).argmin()])])\n",
    "cSFRD_obs_low_S16 = np.array([np.log10(SFR_fct_z4_P16[np.abs(np.log10(SFR_list_z4)-np.log10(SFR_limit)).argmin()]), np.log10(SFR_fct_z6_P16[np.abs(np.log10(SFR_list_z6)-np.log10(0.3)).argmin()]), np.log10(SFR_fct_z8_P16[np.abs(np.log10(SFR_list_z8)-np.log10(0.3)).argmin()])])\n",
    "cSFRD_obs_high_S16 = np.array([np.log10(SFR_fct_z4_P84[np.abs(np.log10(SFR_list_z4)-np.log10(SFR_limit)).argmin()]), np.log10(SFR_fct_z6_P84[np.abs(np.log10(SFR_list_z6)-np.log10(0.3)).argmin()]), np.log10(SFR_fct_z8_P84[np.abs(np.log10(SFR_list_z8)-np.log10(0.3)).argmin()])])\n",
    "\n",
    "\n",
    "# make figure\n",
    "\n",
    "fig, ax = plt.subplots(nrows=1, ncols=1, figsize=(6, 4.5))\n",
    "\n",
    "# Observations\n",
    "ax.errorbar(z_list_obs, cSFRD_obs, xerr=[z_list_obs-z_list_obs_low, z_list_obs_high-z_list_obs], yerr=[cSFRD_obs-cSFRD_obs_low, cSFRD_obs_high-cSFRD_obs], fmt='o', ms=8, capsize=3.0, color='black', alpha=0.8, label='Observations')\n",
    "ax.errorbar(z_list_obs[idx_S16], cSFRD_obs_S16, xerr=[z_list_obs[idx_S16]-z_list_obs_low[idx_S16], z_list_obs_high[idx_S16]-z_list_obs[idx_S16]], yerr=[cSFRD_obs_S16-cSFRD_obs_low_S16, cSFRD_obs_high_S16-cSFRD_obs_S16], fmt='o', ms=8, capsize=3.0, color='gray', alpha=0.8, label='Observations 2')\n",
    "\n",
    "# Model\n",
    "ax.plot(4.0, np.log10(SFR_fct_model_z4)[np.abs(np.log10(SFR_bins_center_z4)-np.log10(SFR_limit)).argmin()], 'o', alpha=0.8, ms=10, zorder=10)\n",
    "ax.plot(6.0, np.log10(SFR_fct_model_z6)[np.abs(np.log10(SFR_bins_center_z6)-np.log10(SFR_limit)).argmin()], 'o', alpha=0.8, ms=10, zorder=10)\n",
    "ax.plot(8.0, np.log10(SFR_fct_model_z8)[np.abs(np.log10(SFR_bins_center_z8)-np.log10(SFR_limit)).argmin()], 'o', alpha=0.8, ms=10, zorder=10)\n",
    "ax.plot(10.0, np.log10(SFR_fct_model_z10)[np.abs(np.log10(SFR_bins_center_z10)-np.log10(SFR_limit)).argmin()], 'o', alpha=0.8, ms=10, zorder=10)\n",
    "\n",
    "\n",
    "ax.set_xlabel(r'$\\mathrm{redshift}$', fontsize=18)\n",
    "ax.set_ylabel(r'$\\log\\/\\/\\/\\/\\mathrm{SFRD}\\/\\/\\/\\/[\\mathrm{M_{\\odot}}\\/\\/\\mathrm{yr}^{-1}\\/\\/\\mathrm{Mpc}^{-3}]$', fontsize=18)\n",
    "\n",
    "ax.set_xlim([3.2, 11.2])\n",
    "ax.set_ylim([-3.7, -0.8])\n",
    "\n",
    "plt.legend(frameon=False, fontsize=16)\n",
    "plt.savefig(path_figures + 'cSFRD_evolution.pdf', bbox_inches='tight')\n",
    "plt.show()\n",
    "\n"
   ]
  },
  {
   "cell_type": "code",
   "execution_count": null,
   "metadata": {
    "collapsed": true
   },
   "outputs": [],
   "source": []
  }
 ],
 "metadata": {
  "kernelspec": {
   "display_name": "Python 2",
   "language": "python",
   "name": "python2"
  },
  "language_info": {
   "codemirror_mode": {
    "name": "ipython",
    "version": 2
   },
   "file_extension": ".py",
   "mimetype": "text/x-python",
   "name": "python",
   "nbconvert_exporter": "python",
   "pygments_lexer": "ipython2",
   "version": "2.7.13"
  },
  "toc": {
   "nav_menu": {},
   "number_sections": true,
   "sideBar": true,
   "skip_h1_title": false,
   "toc_cell": false,
   "toc_position": {},
   "toc_section_display": "block",
   "toc_window_display": true
  },
  "varInspector": {
   "cols": {
    "lenName": 16,
    "lenType": 16,
    "lenVar": 40
   },
   "kernels_config": {
    "python": {
     "delete_cmd_postfix": "",
     "delete_cmd_prefix": "del ",
     "library": "var_list.py",
     "varRefreshCmd": "print(var_dic_list())"
    },
    "r": {
     "delete_cmd_postfix": ") ",
     "delete_cmd_prefix": "rm(",
     "library": "var_list.r",
     "varRefreshCmd": "cat(var_dic_list()) "
    }
   },
   "types_to_exclude": [
    "module",
    "function",
    "builtin_function_or_method",
    "instance",
    "_Feature"
   ],
   "window_display": false
  }
 },
 "nbformat": 4,
 "nbformat_minor": 2
}
