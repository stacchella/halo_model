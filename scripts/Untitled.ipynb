{
 "cells": [
  {
   "cell_type": "code",
   "execution_count": 1,
   "metadata": {
    "ExecuteTime": {
     "end_time": "2018-01-17T15:57:17.534669Z",
     "start_time": "2018-01-17T15:57:17.297292Z"
    },
    "collapsed": true
   },
   "outputs": [],
   "source": [
    "import fsps\n",
    "import numpy as np\n",
    "\n"
   ]
  },
  {
   "cell_type": "code",
   "execution_count": 2,
   "metadata": {
    "ExecuteTime": {
     "end_time": "2018-01-17T15:57:17.789799Z",
     "start_time": "2018-01-17T15:57:17.785098Z"
    },
    "collapsed": false
   },
   "outputs": [
    {
     "name": "stdout",
     "output_type": "stream",
     "text": [
      "[   0.     0.1    0.2 ...,   99.8   99.9  100. ]\n"
     ]
    }
   ],
   "source": [
    "SFH_age = np.linspace(0.0, 100.0, num=1001)  # in Myr\n",
    "SFH_sfr = np.ones(len(SFH_age))\n",
    "print SFH_age"
   ]
  },
  {
   "cell_type": "code",
   "execution_count": 6,
   "metadata": {
    "ExecuteTime": {
     "end_time": "2018-01-17T16:12:30.653204Z",
     "start_time": "2018-01-17T16:10:58.425644Z"
    },
    "collapsed": false
   },
   "outputs": [
    {
     "name": "stdout",
     "output_type": "stream",
     "text": [
      "[-17.97213386 -17.85832523 -17.77317424]\n"
     ]
    }
   ],
   "source": [
    "sp = fsps.StellarPopulation(compute_vega_mags=False, zcontinuous=1, imf_type=0, add_neb_emission=True,\n",
    "                                      sfh=3, logzsol=0.0, dust_type=2, dust2=0.0)\n",
    "\n",
    "sp.set_tabular_sfh(10**-3*SFH_age, SFH_sfr, Z=None)  # age in Gyr\n",
    "\n",
    "print sp.get_mags(tage=10**-3*100.0, bands=['i1500', 'i2300', 'i2800'])\n"
   ]
  },
  {
   "cell_type": "code",
   "execution_count": 7,
   "metadata": {
    "ExecuteTime": {
     "end_time": "2018-01-17T16:14:01.947968Z",
     "start_time": "2018-01-17T16:12:30.668433Z"
    },
    "collapsed": false
   },
   "outputs": [
    {
     "name": "stdout",
     "output_type": "stream",
     "text": [
      "[-17.97213386 -17.85832523 -17.77317424]\n"
     ]
    }
   ],
   "source": [
    "sp = fsps.StellarPopulation(compute_vega_mags=False, zcontinuous=1, imf_type=0, add_neb_emission=True,\n",
    "                                      sfh=3, logzsol=0.0, dust_type=2, dust2=0.0)\n",
    "\n",
    "sp.set_tabular_sfh(10**-3*SFH_age[::2], SFH_sfr[::2], Z=None)  # age in Gyr\n",
    "\n",
    "print sp.get_mags(tage=10**-3*100.0, bands=['i1500', 'i2300', 'i2800'])\n"
   ]
  },
  {
   "cell_type": "code",
   "execution_count": 8,
   "metadata": {
    "ExecuteTime": {
     "end_time": "2018-01-17T16:15:33.532307Z",
     "start_time": "2018-01-17T16:14:01.963778Z"
    },
    "collapsed": false
   },
   "outputs": [
    {
     "name": "stdout",
     "output_type": "stream",
     "text": [
      "[-17.97201811 -17.85817788 -17.77299149]\n"
     ]
    }
   ],
   "source": [
    "sp = fsps.StellarPopulation(compute_vega_mags=False, zcontinuous=1, imf_type=0, add_neb_emission=True,\n",
    "                                      sfh=3, logzsol=0.0, dust_type=2, dust2=0.0)\n",
    "\n",
    "sp.set_tabular_sfh(10**-3*SFH_age[::2], SFH_sfr[::2], Z=None)  # age in Gyr\n",
    "\n",
    "print sp.get_mags(tage=10**-3*99.9, bands=['i1500', 'i2300', 'i2800'])\n"
   ]
  },
  {
   "cell_type": "code",
   "execution_count": null,
   "metadata": {
    "collapsed": true
   },
   "outputs": [],
   "source": []
  }
 ],
 "metadata": {
  "kernelspec": {
   "display_name": "Python 2",
   "language": "python",
   "name": "python2"
  },
  "language_info": {
   "codemirror_mode": {
    "name": "ipython",
    "version": 2
   },
   "file_extension": ".py",
   "mimetype": "text/x-python",
   "name": "python",
   "nbconvert_exporter": "python",
   "pygments_lexer": "ipython2",
   "version": "2.7.13"
  },
  "toc": {
   "nav_menu": {},
   "number_sections": true,
   "sideBar": true,
   "skip_h1_title": false,
   "toc_cell": false,
   "toc_position": {},
   "toc_section_display": "block",
   "toc_window_display": false
  },
  "varInspector": {
   "cols": {
    "lenName": 16,
    "lenType": 16,
    "lenVar": 40
   },
   "kernels_config": {
    "python": {
     "delete_cmd_postfix": "",
     "delete_cmd_prefix": "del ",
     "library": "var_list.py",
     "varRefreshCmd": "print(var_dic_list())"
    },
    "r": {
     "delete_cmd_postfix": ") ",
     "delete_cmd_prefix": "rm(",
     "library": "var_list.r",
     "varRefreshCmd": "cat(var_dic_list()) "
    }
   },
   "types_to_exclude": [
    "module",
    "function",
    "builtin_function_or_method",
    "instance",
    "_Feature"
   ],
   "window_display": false
  }
 },
 "nbformat": 4,
 "nbformat_minor": 2
}
