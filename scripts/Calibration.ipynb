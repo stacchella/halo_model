{
 "cells": [
  {
   "cell_type": "markdown",
   "metadata": {},
   "source": [
    "# Calibrate Model via Abundance Matching at z=4\n"
   ]
  },
  {
   "cell_type": "code",
   "execution_count": 1,
   "metadata": {
    "ExecuteTime": {
     "end_time": "2018-01-29T17:10:54.845401Z",
     "start_time": "2018-01-29T17:10:53.731245Z"
    },
    "collapsed": true
   },
   "outputs": [],
   "source": [
    "# import modules\n",
    "\n",
    "import numpy as np\n",
    "from astropy.cosmology import WMAP7 as cosmo\n",
    "import astropy.units as u\n",
    "from astropy.table import Table\n",
    "import h5py\n",
    "from hmf import MassFunction\n",
    "import fsps\n",
    "\n",
    "import make_SFH\n",
    "import read_in_halo_cat\n",
    "import derive_SP_prop\n",
    "\n",
    "import matplotlib.pyplot as plt\n",
    "plt.rcParams['mathtext.fontset'] = 'stixsans'\n",
    "plt.rcParams['font.family'] = 'sans'\n",
    "plt.rcParams['font.serif'] = 'STIXGeneral'\n"
   ]
  },
  {
   "cell_type": "code",
   "execution_count": 2,
   "metadata": {
    "ExecuteTime": {
     "end_time": "2018-01-29T17:10:54.852411Z",
     "start_time": "2018-01-29T17:10:54.847110Z"
    },
    "collapsed": true
   },
   "outputs": [],
   "source": [
    "# define paths\n",
    "\n",
    "path_main = '/Users/sandrotacchella/ASTRO/JWST/Halo_Model/'\n",
    "path_figures = path_main + 'Figures/'\n",
    "path_DM_cat = path_main + 'catalogs/DM/'\n",
    "path_SFH_cat = path_main + 'catalogs/SFH/'\n",
    "path_SP_cat = path_main + 'catalogs/SP/'\n",
    "\n",
    "\n",
    "# set SFH option\n",
    "\n",
    "SFH_type_option = 'constant'\n"
   ]
  },
  {
   "cell_type": "code",
   "execution_count": 3,
   "metadata": {
    "ExecuteTime": {
     "end_time": "2018-01-29T17:10:54.863158Z",
     "start_time": "2018-01-29T17:10:54.854122Z"
    },
    "collapsed": true
   },
   "outputs": [],
   "source": [
    "# define functions\n",
    "\n",
    "def compute_HMF(mass_list, mass_bins, volume_box):\n",
    "    idx_good = np.isfinite(np.log10(mass_list))\n",
    "    hist_zX, bin_edges = np.histogram(np.log10(mass_list[idx_good]), bins=mass_bins)\n",
    "    HMFcum_zX = np.cumsum(hist_zX[::-1])[::-1]/(volume_box)\n",
    "    return(HMFcum_zX)\n",
    "\n",
    "\n",
    "def get_analytical_HMF(redshift):\n",
    "    '''\n",
    "    PS, Jenkins, SMF, Warren, Tinker08 \n",
    "    '''\n",
    "    HMF = MassFunction(cosmo_model=cosmo, z=redshift, Mmin=8, Mmax=15, hmf_model='SMT')\n",
    "    cumulative_mass_func = HMF.ngtm*cosmo.h**3\n",
    "    masses = HMF.m/cosmo.h\n",
    "    return(masses, cumulative_mass_func)\n",
    "\n",
    "\n",
    "\n"
   ]
  },
  {
   "cell_type": "markdown",
   "metadata": {
    "collapsed": true
   },
   "source": [
    "# Construct DM halo mass function"
   ]
  },
  {
   "cell_type": "code",
   "execution_count": 4,
   "metadata": {
    "ExecuteTime": {
     "end_time": "2018-01-29T17:10:55.422487Z",
     "start_time": "2018-01-29T17:10:54.864556Z"
    },
    "collapsed": true
   },
   "outputs": [],
   "source": [
    "# read in catalog\n",
    "\n",
    "z_table_z4, M_table_z4, Mt_table_z4 = read_in_halo_cat.read_in_halo_cat(path_DM_cat + 'MergerHistory_COLOR_CDM_z3.96.hdf5', cosmo)\n",
    "\n",
    "\n"
   ]
  },
  {
   "cell_type": "code",
   "execution_count": 5,
   "metadata": {
    "ExecuteTime": {
     "end_time": "2018-01-29T17:10:56.420277Z",
     "start_time": "2018-01-29T17:10:55.424182Z"
    },
    "collapsed": false
   },
   "outputs": [
    {
     "name": "stdout",
     "output_type": "stream",
     "text": [
      "[ 8.    8.05  8.1   8.15  8.2   8.25  8.3   8.35  8.4   8.45  8.5   8.55\n",
      "  8.6   8.65  8.7   8.75  8.8   8.85  8.9   8.95  9.    9.05  9.1   9.15\n",
      "  9.2   9.25  9.3   9.35  9.4   9.45  9.5   9.55  9.6   9.65  9.7   9.75\n",
      "  9.8   9.85  9.9   9.95 10.   10.05 10.1  10.15 10.2  10.25 10.3  10.35\n",
      " 10.4  10.45 10.5  10.55 10.6  10.65 10.7  10.75 10.8  10.85 10.9  10.95\n",
      " 11.   11.05 11.1  11.15 11.2  11.25 11.3  11.35 11.4  11.45 11.5  11.55\n",
      " 11.6  11.65 11.7  11.75 11.8  11.85 11.9  11.95 12.   12.05 12.1  12.15\n",
      " 12.2  12.25 12.3  12.35 12.4  12.45 12.5  12.55 12.6  12.65 12.7  12.75\n",
      " 12.8  12.85 12.9  12.95 13.   13.05 13.1  13.15 13.2  13.25 13.3  13.35\n",
      " 13.4  13.45 13.5 ]\n"
     ]
    },
    {
     "name": "stderr",
     "output_type": "stream",
     "text": [
      "/Users/sandrotacchella/anaconda2/lib/python2.7/site-packages/ipykernel/__main__.py:24: RuntimeWarning: divide by zero encountered in log10\n"
     ]
    },
    {
     "data": {
      "image/png": "[encoded data removed]",
      "text/plain": [
       "<matplotlib.figure.Figure at 0x106399810>"
      ]
     },
     "metadata": {},
     "output_type": "display_data"
    }
   ],
   "source": [
    "# construct halo mass function\n",
    "\n",
    "min_mass = 9.0\n",
    "max_mass = 13.5\n",
    "volume_box = 100.0**3  # in Mpc^-3\n",
    "\n",
    "mass_bins = np.linspace(8.0, 13.5, num=111)\n",
    "print mass_bins\n",
    "mass_bins_left = mass_bins[:-1]\n",
    "mass_bins_center = mass_bins[:-1]+0.5*np.diff(mass_bins)\n",
    "\n",
    "HMF_z4 = compute_HMF(M_table_z4, mass_bins, volume_box)\n",
    "\n",
    "\n",
    "# get analytical halo mass function\n",
    "\n",
    "HMF_analytic_z4 = get_analytical_HMF(4.0)\n",
    "\n",
    "\n",
    "# plot HMF\n",
    "\n",
    "fig, ax = plt.subplots(nrows=1, ncols=1, figsize=(7, 6))\n",
    "\n",
    "ax.plot(mass_bins_left, np.log10(HMF_z4), '-', lw=2, label='z=4')\n",
    "ax.plot(np.log10(HMF_analytic_z4[0]), np.log10(HMF_analytic_z4[1]), '--', color='black', lw=2) \n",
    "\n",
    "ax.set_xlabel(r'$\\log\\/\\/\\/\\/\\mathrm{M}_{\\rm h}\\/\\/\\/\\/[\\mathrm{M}_{\\odot}]$', fontsize=18)\n",
    "ax.set_ylabel(r'$\\log\\/\\/\\/\\/\\mathrm{n}\\/\\/(>\\mathrm{M}_{\\rm h})\\/\\/\\/\\/[\\mathrm{Mpc}^{-3}]$', fontsize=18)\n",
    "\n",
    "ax.set_xlim([9, 13])\n",
    "ax.set_ylim([-7.0, 0.0])\n",
    "\n",
    "plt.legend(frameon=False, fontsize=12)\n",
    "plt.savefig(path_figures + 'Tests/HaloMF_z4.pdf', bbox_inches='tight')\n",
    "plt.show()\n",
    "\n"
   ]
  },
  {
   "cell_type": "code",
   "execution_count": 6,
   "metadata": {
    "ExecuteTime": {
     "end_time": "2018-01-29T17:10:56.628139Z",
     "start_time": "2018-01-29T17:10:56.421806Z"
    },
    "collapsed": false
   },
   "outputs": [
    {
     "name": "stderr",
     "output_type": "stream",
     "text": [
      "/Users/sandrotacchella/anaconda2/lib/python2.7/site-packages/ipykernel/__main__.py:3: RuntimeWarning: divide by zero encountered in log10\n",
      "  app.launch_new_instance()\n"
     ]
    },
    {
     "data": {
      "image/png": "[encoded data removed]",
      "text/plain": [
       "<matplotlib.figure.Figure at 0x148798990>"
      ]
     },
     "metadata": {},
     "output_type": "display_data"
    }
   ],
   "source": [
    "# compute difference, but take out average\n",
    "\n",
    "difference_HMF = np.log10(HMF_z4)-np.interp(mass_bins_left, np.log10(HMF_analytic_z4[0]), np.log10(HMF_analytic_z4[1]), left=np.nan, right=np.nan)\n",
    "\n",
    "idx_11 = np.abs(mass_bins_left-11.0).argmin()\n",
    "difference_HMF -= np.median(difference_HMF[idx_11-5:idx_11+5])\n",
    "difference_HMF[:idx_11] = 0.0\n",
    "\n",
    "plt.plot(mass_bins_left, difference_HMF)\n",
    "plt.show()\n"
   ]
  },
  {
   "cell_type": "code",
   "execution_count": null,
   "metadata": {
    "collapsed": true
   },
   "outputs": [],
   "source": []
  },
  {
   "cell_type": "markdown",
   "metadata": {},
   "source": [
    "# Abundance Matching"
   ]
  },
  {
   "cell_type": "markdown",
   "metadata": {},
   "source": [
    "Details of abundance matching:\n",
    "\n",
    "1. Obtain L_UV(Mh, z=4) by abundance matching: n(>Mh) = rho(>LUV), where n is the cumulative halo mass function and rho is the cumulative UV LF.\n",
    "\n",
    "2. Get epsilon by comparing predicted L_UV(Mh, z=4) from epsilon = 1.0 and L_UV(Mh, z=4) from abundance matching => get distribution function\n"
   ]
  },
  {
   "cell_type": "code",
   "execution_count": 7,
   "metadata": {
    "ExecuteTime": {
     "end_time": "2018-01-29T17:10:56.707007Z",
     "start_time": "2018-01-29T17:10:56.629698Z"
    },
    "collapsed": true
   },
   "outputs": [],
   "source": [
    "# define functions\n",
    "\n",
    "def get_dust_attenuation(magUV_in, redshift_in, with_scatter=False):\n",
    "    '''\n",
    "    This function computes the dust attenuation at 1600 A (A1600)\n",
    "    from the Bouwens et al 2015 relation.\n",
    "    '''\n",
    "    # ensure inputs are arrays\n",
    "    if type(magUV_in) is not np.ndarray:\n",
    "        magUV_in = np.array([magUV_in])\n",
    "    if type(redshift_in) is not np.ndarray:\n",
    "        redshift_in = np.array([redshift_in])\n",
    "    # values for beta-MUV relation from Bouwens et al 2015\n",
    "    B15_z_list = np.array([2.5, 3.8, 5.0, 5.9, 7.0, 8.0])\n",
    "    B15_beta_list = np.array([-1.70, -1.85, -1.91, -2.00, -2.05, -2.13])\n",
    "    B15_dbdM_list = np.array([-0.20, -0.11, -0.14, -0.20, -0.20, -0.15])\n",
    "    # interpolate beta-MUV relation\n",
    "    beta_value = np.interp(redshift_in, B15_z_list, B15_beta_list, left=B15_beta_list[0], right=np.nan)\n",
    "    dbdM_value = np.interp(redshift_in, B15_z_list, B15_dbdM_list, left=B15_dbdM_list[0], right=np.nan)\n",
    "    # get average beta\n",
    "    avg_b = dbdM_value*(magUV_in+19.5) + beta_value\n",
    "    # convert beta to A1600\n",
    "    if with_scatter:\n",
    "        A1600 = 4.43 + 1.99*(avg_b + np.random.normal(loc=0.0, scale=0.34, size=len(avg_b)))\n",
    "    else:\n",
    "        A1600 = 4.43 + 0.2*np.log(10)*1.99**2*0.34**2+1.99*avg_b\n",
    "    A1600[np.isnan(A1600)] = np.zeros(np.sum(np.isnan(A1600)))\n",
    "    A1600[A1600 < 0.0] = np.zeros(np.sum(A1600 < 0.0))\n",
    "    return(A1600)\n",
    "\n",
    "\n",
    "def UV_LF_Bouwens15(mag_in, z, do_dust_corr=True, with_scatter=False):\n",
    "    '''\n",
    "    This returns the UV LF (mags and phis) of Bouwens et al 2015.\n",
    "    '''\n",
    "    # Bouwens et al 2015\n",
    "    MUV = -20.95+0.01*(z-6.0)\n",
    "    phi = 0.47*np.power(10, -0.27*(z-6.0))*10**-3  # in Mpc\n",
    "    alpha = -1.87-0.1*(z-6.0)\n",
    "    if do_dust_corr:\n",
    "        AUV = get_dust_attenuation(mag_in, z, with_scatter=with_scatter)\n",
    "        mag = mag_in - AUV\n",
    "    else:\n",
    "        mag = mag_in\n",
    "    return(mag, phi*(np.log(10)/2.5)*np.power(10, -0.4*(mag_in-MUV)*(alpha+1.0))*np.exp(-1.0*np.power(10.0, -0.4*(mag_in-MUV))))\n",
    "\n",
    "\n",
    "def matching(UV_LF, HMF, Mh_list, redshift):\n",
    "    '''\n",
    "    This function returns a UV luminosity (at 1600 A) given a dark matter halo mass\n",
    "    assuming a halo mass function and a UV luminosity function (cumulative).\n",
    "    '''\n",
    "    num_density = np.interp(Mh_list, HMF[0], HMF[1], left=np.nan, right=np.nan)\n",
    "    UV_mag = np.interp(num_density, UV_LF[1], UV_LF[0], left=np.nan, right=np.nan)\n",
    "    L_1600 = 4*np.pi*(3.086e+19)**2*np.power(10, -0.4*(UV_mag+48.6))  # in order to make it erg/s (instead of Lsun)\n",
    "    return(L_1600)\n",
    "\n"
   ]
  },
  {
   "cell_type": "code",
   "execution_count": 8,
   "metadata": {
    "ExecuteTime": {
     "end_time": "2018-01-29T17:10:57.519677Z",
     "start_time": "2018-01-29T17:10:56.708757Z"
    },
    "collapsed": false
   },
   "outputs": [
    {
     "name": "stderr",
     "output_type": "stream",
     "text": [
      "/Users/sandrotacchella/anaconda2/lib/python2.7/site-packages/ipykernel/__main__.py:13: RuntimeWarning: divide by zero encountered in log10\n",
      "/Users/sandrotacchella/anaconda2/lib/python2.7/site-packages/ipykernel/__main__.py:14: RuntimeWarning: divide by zero encountered in log10\n",
      "/Users/sandrotacchella/anaconda2/lib/python2.7/site-packages/ipykernel/__main__.py:15: RuntimeWarning: divide by zero encountered in log10\n"
     ]
    },
    {
     "data": {
      "image/png": "[encoded data removed]",
      "text/plain": [
       "<matplotlib.figure.Figure at 0x149073c10>"
      ]
     },
     "metadata": {},
     "output_type": "display_data"
    }
   ],
   "source": [
    "# get luminosity functions (dust and not dust corrected)\n",
    "\n",
    "list_mag_in = np.linspace(-30.0, -5.0, num=1000)\n",
    "list_mag, phi_mag = UV_LF_Bouwens15(list_mag_in, 4.0, do_dust_corr=True)\n",
    "list_mag_wscatter, phi_mag_wscatter = UV_LF_Bouwens15(list_mag_in, 4.0, do_dust_corr=True, with_scatter=True)\n",
    "list_mag_not_dust_corrected, phi_mag_not_dust_corrected = UV_LF_Bouwens15(list_mag_in, 4.0, do_dust_corr=False)\n",
    "\n",
    "\n",
    "# plot luminosity functions\n",
    "\n",
    "fig, ax = plt.subplots(nrows=1, ncols=1, figsize=(7, 6))\n",
    "\n",
    "ax.plot(list_mag_wscatter, np.log10(phi_mag_wscatter), '.', label='dust-corrected (with scatter)', color='gray', alpha=0.5)\n",
    "ax.plot(list_mag, np.log10(phi_mag), '-', label='dust-corrected')\n",
    "ax.plot(list_mag_not_dust_corrected, np.log10(phi_mag_not_dust_corrected), '-', label='not dust-corrected')\n",
    "\n",
    "ax.set_xlabel(r'$\\mathrm{M}_{\\rm UV}\\/\\/\\/\\/[\\mathrm{AB}]$', fontsize=18)\n",
    "ax.set_ylabel(r'$\\log\\/\\/\\/\\/\\phi_{\\rm UV}\\/\\/\\/\\/[\\mathrm{Number}\\//\\/\\mathrm{mag}\\//\\/\\mathrm{Mpc}^{3}]$', fontsize=18)\n",
    "\n",
    "ax.set_xlim([-25.0, -16])\n",
    "ax.set_ylim([-6.0, -1.0])\n",
    "\n",
    "\n",
    "plt.legend(frameon=False, fontsize=14)  \n",
    "plt.savefig(path_figures + 'Calibration/UV_LF_dustcorrection.pdf', bbox_inches='tight')\n",
    "plt.show()\n",
    "\n"
   ]
  },
  {
   "cell_type": "code",
   "execution_count": 9,
   "metadata": {
    "ExecuteTime": {
     "end_time": "2018-01-29T17:10:57.820346Z",
     "start_time": "2018-01-29T17:10:57.521103Z"
    },
    "collapsed": false
   },
   "outputs": [
    {
     "name": "stderr",
     "output_type": "stream",
     "text": [
      "/Users/sandrotacchella/anaconda2/lib/python2.7/site-packages/ipykernel/__main__.py:13: RuntimeWarning: divide by zero encountered in log10\n"
     ]
    },
    {
     "data": {
      "image/png": "[encoded data removed]",
      "text/plain": [
       "<matplotlib.figure.Figure at 0x149071550>"
      ]
     },
     "metadata": {},
     "output_type": "display_data"
    }
   ],
   "source": [
    "# determine the cumulative UV LF\n",
    "\n",
    "phi_UV_cum = []\n",
    "\n",
    "for ii_mag in list_mag:\n",
    "    idx = (list_mag < ii_mag)\n",
    "    phi_UV_cum = np.append(phi_UV_cum, np.trapz(phi_mag[idx], list_mag[idx]))\n",
    "\n",
    "\n",
    "plt.xlim([-25.0, -16])\n",
    "plt.ylim([-6.0, -1.0])\n",
    "\n",
    "plt.plot(list_mag, np.log10(phi_UV_cum), '-')\n",
    "plt.show()\n",
    "\n"
   ]
  },
  {
   "cell_type": "code",
   "execution_count": 10,
   "metadata": {
    "ExecuteTime": {
     "end_time": "2018-01-29T17:10:58.106607Z",
     "start_time": "2018-01-29T17:10:57.821846Z"
    },
    "collapsed": false
   },
   "outputs": [
    {
     "name": "stderr",
     "output_type": "stream",
     "text": [
      "/Users/sandrotacchella/anaconda2/lib/python2.7/site-packages/ipykernel/__main__.py:4: RuntimeWarning: divide by zero encountered in log10\n",
      "/Users/sandrotacchella/anaconda2/lib/python2.7/site-packages/ipykernel/__main__.py:5: RuntimeWarning: divide by zero encountered in log10\n"
     ]
    },
    {
     "data": {
      "image/png": "[encoded data removed]",
      "text/plain": [
       "<matplotlib.figure.Figure at 0x149378c90>"
      ]
     },
     "metadata": {},
     "output_type": "display_data"
    },
    {
     "name": "stdout",
     "output_type": "stream",
     "text": [
      "[2.06077826e+26 2.06077826e+26 2.06077826e+26 2.06077826e+26\n",
      " 2.06077826e+26 2.06077826e+26 2.06077826e+26 2.06077826e+26\n",
      " 2.06077826e+26 2.06077826e+26 2.06077826e+26 2.06077826e+26\n",
      " 2.06077826e+26 2.06077826e+26 2.06077826e+26 2.06077826e+26\n",
      " 2.06077826e+26 2.06077826e+26 2.06077826e+26 2.06077826e+26\n",
      " 2.06077826e+26 2.06077826e+26 2.06077826e+26 2.06077826e+26\n",
      " 2.06077826e+26 2.06077826e+26 2.06077826e+26 2.06077826e+26\n",
      " 2.06077826e+26 2.06077826e+26 2.06077826e+26 2.06077826e+26\n",
      " 2.09060175e+26 2.35168510e+26 2.89574363e+26 3.57625907e+26\n",
      " 4.43381888e+26 5.53096378e+26 6.90758001e+26 8.67187572e+26\n",
      " 1.08588008e+27 1.35828871e+27 1.69644125e+27 2.11457018e+27\n",
      " 2.63014523e+27 3.26451523e+27 4.04982968e+27 5.00170488e+27\n",
      " 6.14608389e+27 7.54455324e+27 9.28422456e+27 1.14250123e+28\n",
      " 1.39706574e+28 1.69534971e+28 2.04882448e+28 2.46541596e+28\n",
      " 2.94042490e+28 3.48362549e+28 4.13035061e+28 4.88482387e+28\n",
      " 5.75134249e+28 6.71047642e+28 7.78959174e+28 9.06341824e+28\n",
      " 1.05198927e+29 1.21685662e+29 1.40083149e+29 1.61240179e+29\n",
      " 1.84559872e+29 2.09495732e+29 2.40546910e+29 2.76004740e+29\n",
      " 3.11070890e+29 3.46653138e+29 3.90197980e+29 4.38432531e+29\n",
      " 4.85318391e+29 5.30807813e+29 5.88069967e+29 6.54581333e+29\n",
      " 7.08783190e+29 7.80386497e+29 8.67028233e+29 9.48607072e+29\n",
      " 1.03416369e+30 1.15074115e+30 1.31291621e+30 1.49143678e+30\n",
      " 1.76617444e+30 2.10693088e+30 2.26039836e+30            nan\n",
      "            nan            nan            nan            nan\n",
      "            nan            nan            nan            nan\n",
      "            nan            nan            nan            nan\n",
      "            nan            nan            nan            nan\n",
      "            nan            nan]\n",
      "[           nan            nan            nan 8.24562826e+23\n",
      " 9.77405544e+23 1.15901532e+24 1.37494366e+24 1.63176535e+24\n",
      " 1.93742271e+24 2.30140920e+24 2.73507023e+24 3.25215869e+24\n",
      " 3.86904253e+24 4.60552574e+24 5.48552752e+24 6.53767758e+24\n",
      " 7.79689283e+24 9.30513759e+24 1.11132833e+25 1.32834853e+25\n",
      " 1.58905704e+25 1.90264298e+25 2.28030223e+25 2.73567692e+25\n",
      " 3.28565255e+25 3.95081761e+25 4.75668565e+25 5.73493649e+25\n",
      " 6.92464513e+25 8.37499907e+25 1.01473312e+26 1.23188968e+26\n",
      " 1.49883172e+26 1.82802560e+26 2.23561725e+26 2.74250204e+26\n",
      " 3.37594938e+26 4.17230208e+26 5.18005660e+26 6.42996081e+26\n",
      " 8.03469083e+26 1.00347876e+27 1.25247185e+27 1.56192952e+27\n",
      " 1.94579750e+27 2.42105089e+27 3.00787472e+27 3.73052838e+27\n",
      " 4.61784293e+27 5.70332567e+27 7.02679588e+27 8.63363734e+27\n",
      " 1.05760487e+28 1.29139046e+28 1.57135481e+28 1.90500047e+28\n",
      " 2.30045351e+28 2.76670316e+28 3.31345602e+28 3.95100722e+28\n",
      " 4.69031458e+28 5.54289629e+28 6.52057956e+28 7.63616455e+28\n",
      " 8.90157763e+28 1.03302861e+29 1.19354673e+29 1.37297825e+29\n",
      " 1.57268944e+29 1.79405294e+29 2.03831151e+29 2.30697771e+29\n",
      " 2.60117310e+29 2.92243267e+29 3.27214637e+29 3.65164554e+29\n",
      " 4.06252910e+29 4.50586217e+29 4.98348698e+29 5.49693046e+29\n",
      " 6.04779268e+29 6.63741012e+29 7.26800146e+29 7.94119868e+29\n",
      " 8.65905996e+29 9.42337310e+29 1.02363586e+30 1.11004814e+30\n",
      " 1.20180763e+30 1.29922482e+30 1.40245981e+30 1.51185562e+30\n",
      " 1.62787433e+30 1.75056362e+30 1.88057881e+30 2.01809537e+30\n",
      " 2.16371513e+30 2.31766146e+30 2.48073274e+30 2.65304064e+30\n",
      " 2.83547888e+30 3.02867747e+30 3.23286195e+30 3.44911537e+30\n",
      " 3.67820939e+30 3.92084435e+30 4.17764453e+30 4.44994829e+30\n",
      " 4.73880076e+30 5.04524353e+30]\n"
     ]
    }
   ],
   "source": [
    "# do the abundance matching and plot LUV-Mhalo relation\n",
    "\n",
    "Mh_list = mass_bins_center\n",
    "LUV_Mh = matching([list_mag, np.log10(phi_UV_cum)], [mass_bins_left, np.log10(HMF_z4)], Mh_list, 4.0)\n",
    "LUV_Mh2 = matching([list_mag, np.log10(phi_UV_cum)], [np.log10(HMF_analytic_z4[0]), np.log10(HMF_analytic_z4[1])], Mh_list, 4.0)\n",
    "\n",
    "idx = np.abs(Mh_list-11.0).argmin()\n",
    "LUV_Mh_renorm = LUV_Mh2*LUV_Mh[idx]/LUV_Mh2[idx]\n",
    "\n",
    "plt.plot(Mh_list, np.log10(LUV_Mh), '-')\n",
    "plt.plot(Mh_list, np.log10(LUV_Mh_renorm), '--', color='C3')\n",
    "plt.plot(Mh_list, np.log10(LUV_Mh2), '--')\n",
    "plt.show()\n",
    "\n",
    "print LUV_Mh\n",
    "print LUV_Mh2\n",
    "\n"
   ]
  },
  {
   "cell_type": "code",
   "execution_count": null,
   "metadata": {
    "collapsed": true
   },
   "outputs": [],
   "source": []
  },
  {
   "cell_type": "code",
   "execution_count": null,
   "metadata": {
    "collapsed": true
   },
   "outputs": [],
   "source": []
  },
  {
   "cell_type": "markdown",
   "metadata": {},
   "source": [
    "# Determine efficiency epsilon"
   ]
  },
  {
   "cell_type": "code",
   "execution_count": 11,
   "metadata": {
    "ExecuteTime": {
     "end_time": "2018-01-29T17:10:58.112410Z",
     "start_time": "2018-01-29T17:10:58.108346Z"
    },
    "collapsed": false
   },
   "outputs": [],
   "source": [
    "# read in UV catalog based on epsilon=1.0 run\n",
    "\n",
    "cat_z4 = h5py.File(path_SP_cat + 'SFH_z4_constant_calibration_with_L.hdf5', 'r')\n",
    "\n"
   ]
  },
  {
   "cell_type": "code",
   "execution_count": 12,
   "metadata": {
    "ExecuteTime": {
     "end_time": "2018-01-29T17:10:58.988443Z",
     "start_time": "2018-01-29T17:10:58.114261Z"
    },
    "collapsed": false
   },
   "outputs": [],
   "source": [
    "# determine epsilon: for a given Mh, you should get LUV (as given by LUV_Mh)\n",
    "\n",
    "# bin epsilon in order to save it\n",
    "\n",
    "epsilon_bins = np.linspace(-3.0, 5.0, num=501)\n",
    "epsilon_bin_center = epsilon_bins[:-1] + 0.5*np.diff(epsilon_bins)\n",
    "epsilon_hist2d = epsilon_bin_center\n",
    "\n",
    "epsilon_16pers = []\n",
    "epsilon_median = []\n",
    "epsilon_84pers = []\n",
    "epsilon2_16pers = []\n",
    "epsilon2_median = []\n",
    "epsilon2_84pers = []\n",
    "\n",
    "for ii_M in range(len(mass_bins)-1):\n",
    "    index = (np.log10(cat_z4['DM/DM_M'][:]) >= mass_bins[ii_M]) & (np.log10(cat_z4['DM/DM_M'][:]) < mass_bins[ii_M+1])\n",
    "    LUV_distribution = cat_z4['luminosities/luminosity_0'][:, 2][index]\n",
    "    if (np.isnan(LUV_Mh_renorm[ii_M])) | (np.sum(index) == 0.0):\n",
    "        epsilon_hist2d = np.vstack([epsilon_hist2d, np.nan*np.ones(len(epsilon_bin_center))])\n",
    "        epsilon_16pers = np.append(epsilon_16pers, np.nan)\n",
    "        epsilon_median = np.append(epsilon_median, np.nan)\n",
    "        epsilon_84pers = np.append(epsilon_84pers, np.nan)\n",
    "        epsilon2_16pers = np.append(epsilon2_16pers, np.nan)\n",
    "        epsilon2_median = np.append(epsilon2_median, np.nan)\n",
    "        epsilon2_84pers = np.append(epsilon2_84pers, np.nan)\n",
    "    else:\n",
    "        idx = (LUV_distribution > 0.0)\n",
    "        epsilon_distribution = LUV_Mh_renorm[ii_M]/LUV_distribution[idx]\n",
    "        hist, bin_edges = np.histogram(np.log10(epsilon_distribution), bins=epsilon_bins, density=True)\n",
    "        epsilon_hist2d = np.vstack([epsilon_hist2d, hist])\n",
    "        epsilon_16pers = np.append(epsilon_16pers, np.percentile(epsilon_distribution, 16))\n",
    "        epsilon_median = np.append(epsilon_median, np.percentile(epsilon_distribution, 50))\n",
    "        epsilon_84pers = np.append(epsilon_84pers, np.percentile(epsilon_distribution, 84))\n",
    "        epsilon2_distribution = LUV_Mh2[ii_M]/LUV_distribution[idx]\n",
    "        epsilon2_16pers = np.append(epsilon2_16pers, np.percentile(epsilon2_distribution, 16))\n",
    "        epsilon2_median = np.append(epsilon2_median, np.percentile(epsilon2_distribution, 50))\n",
    "        epsilon2_84pers = np.append(epsilon2_84pers, np.percentile(epsilon2_distribution, 84))\n",
    "\n"
   ]
  },
  {
   "cell_type": "code",
   "execution_count": 13,
   "metadata": {
    "ExecuteTime": {
     "end_time": "2018-01-29T17:10:58.994146Z",
     "start_time": "2018-01-29T17:10:58.989914Z"
    },
    "collapsed": true
   },
   "outputs": [],
   "source": [
    "# completeness correction\n",
    "difference_HMF_epsilon = np.interp(Mh_list, mass_bins_left, difference_HMF, left=np.nan, right=np.nan)\n",
    "\n",
    "epsilon_median = 10**difference_HMF_epsilon*epsilon_median\n",
    "epsilon_16pers = 10**difference_HMF_epsilon*epsilon_16pers\n",
    "epsilon_84pers = 10**difference_HMF_epsilon*epsilon_84pers\n"
   ]
  },
  {
   "cell_type": "code",
   "execution_count": null,
   "metadata": {
    "collapsed": true
   },
   "outputs": [],
   "source": []
  },
  {
   "cell_type": "code",
   "execution_count": null,
   "metadata": {
    "collapsed": true
   },
   "outputs": [],
   "source": []
  },
  {
   "cell_type": "code",
   "execution_count": 14,
   "metadata": {
    "ExecuteTime": {
     "end_time": "2018-01-29T17:10:58.998571Z",
     "start_time": "2018-01-29T17:10:58.995957Z"
    },
    "collapsed": true
   },
   "outputs": [],
   "source": [
    "# cheap comparison Behroozi\n",
    "\n",
    "#Mh_Behroozi13 = [2.353e11, 3.210e11, 5.639e11, 7.352e11, 9.748e11, 1.331e12, 1.775e12, 3.135e12, 4.480e12, 6.709e12, 1.082e13, 1.762e13]\n",
    "#MM_Behroozi13 = [0.007, 0.010, 0.017, 0.020, 0.022, 0.022, 0.021, 0.016, 0.013, 0.009, 0.006, 0.004]\n",
    "\n"
   ]
  },
  {
   "cell_type": "code",
   "execution_count": 15,
   "metadata": {
    "ExecuteTime": {
     "end_time": "2018-01-29T17:10:59.037593Z",
     "start_time": "2018-01-29T17:10:58.999945Z"
    },
    "collapsed": false
   },
   "outputs": [
    {
     "name": "stdout",
     "output_type": "stream",
     "text": [
      "[5.22698572e-01 1.60823399e+11 9.04964742e-01 4.55804056e-01]\n"
     ]
    }
   ],
   "source": [
    "# fit analytically\n",
    "\n",
    "def double_power_law(log_mass_list, norm, mass_c, beta, gamma):\n",
    "    '''\n",
    "    From Moster+2010.\n",
    "    '''\n",
    "    return(2*norm*np.power(np.power(np.power(10, log_mass_list)/mass_c, -1.0*beta)+np.power(np.power(10, log_mass_list)/mass_c, gamma), -1.0))   \n",
    "    \n",
    "\n",
    "from scipy.optimize import curve_fit\n",
    "           \n",
    "    \n",
    "idx_fit = ~np.isnan(epsilon_median) & (Mh_list > 9.8) & (Mh_list < 12.0)\n",
    "popt, pcov = curve_fit(double_power_law, Mh_list[idx_fit], epsilon_median[idx_fit], p0=[0.6, 10**11.5, 1.0, 1.0])           \n",
    "print popt\n"
   ]
  },
  {
   "cell_type": "code",
   "execution_count": null,
   "metadata": {
    "ExecuteTime": {
     "end_time": "2018-01-29T17:06:31.354018Z",
     "start_time": "2018-01-29T17:06:31.350743Z"
    },
    "collapsed": true
   },
   "outputs": [],
   "source": []
  },
  {
   "cell_type": "code",
   "execution_count": 16,
   "metadata": {
    "ExecuteTime": {
     "end_time": "2018-01-29T17:10:59.713912Z",
     "start_time": "2018-01-29T17:10:59.039395Z"
    },
    "collapsed": false
   },
   "outputs": [
    {
     "name": "stderr",
     "output_type": "stream",
     "text": [
      "/Users/sandrotacchella/anaconda2/lib/python2.7/site-packages/ipykernel/__main__.py:5: RuntimeWarning: divide by zero encountered in log10\n",
      "/Users/sandrotacchella/anaconda2/lib/python2.7/site-packages/ipykernel/__main__.py:6: RuntimeWarning: divide by zero encountered in log10\n",
      "/Users/sandrotacchella/anaconda2/lib/python2.7/site-packages/matplotlib/axes/_axes.py:545: UserWarning: No labelled objects found. Use label='...' kwarg on individual plots.\n",
      "  warnings.warn(\"No labelled objects found. \"\n"
     ]
    },
    {
     "data": {
      "image/png": "[encoded data removed]",
      "text/plain": [
       "<matplotlib.figure.Figure at 0x14950e050>"
      ]
     },
     "metadata": {},
     "output_type": "display_data"
    }
   ],
   "source": [
    "# plot efficiency with fit\n",
    "\n",
    "fig, ax = plt.subplots(nrows=1, ncols=1, figsize=(6, 5))\n",
    "\n",
    "ax.plot(Mh_list, np.log10(epsilon_median), '-', lw=3)\n",
    "ax.fill_between(Mh_list, np.log10(epsilon_16pers), np.log10(epsilon_84pers), alpha=0.2)\n",
    "\n",
    "ax.plot(Mh_list, np.log10(double_power_law(Mh_list, popt[0], popt[1], popt[2], popt[3])), '--', color='black')\n",
    "\n",
    "ax.set_xlabel(r'$\\mathrm{M}_{\\rm h}\\/\\/\\/\\/[\\mathrm{M}_{\\odot}]$', fontsize=18)\n",
    "ax.set_ylabel(r'$\\log\\/\\/\\/\\/\\epsilon\\/\\/=\\/\\/\\log\\/\\/\\/\\/\\frac{\\rm SFR}{\\rm \\dot{M}_{\\rm h}}$', fontsize=18)\n",
    "\n",
    "ax.set_xlim([9.5, 12.5])\n",
    "ax.set_ylim([-1.5, 0.1])\n",
    "\n",
    "plt.legend(frameon=False, fontsize=14)\n",
    "plt.savefig(path_figures + 'Calibration/efficency_' + SFH_type_option + '.pdf', bbox_inches='tight')\n",
    "plt.show()\n"
   ]
  },
  {
   "cell_type": "code",
   "execution_count": null,
   "metadata": {
    "collapsed": true
   },
   "outputs": [],
   "source": []
  },
  {
   "cell_type": "code",
   "execution_count": 17,
   "metadata": {
    "ExecuteTime": {
     "end_time": "2018-01-29T17:10:59.724794Z",
     "start_time": "2018-01-29T17:10:59.715541Z"
    },
    "collapsed": false
   },
   "outputs": [
    {
     "name": "stderr",
     "output_type": "stream",
     "text": [
      "/Users/sandrotacchella/anaconda2/lib/python2.7/site-packages/ipykernel/__main__.py:9: RuntimeWarning: divide by zero encountered in log10\n"
     ]
    }
   ],
   "source": [
    "# re-format epsilon\n",
    "\n",
    "halo_info = np.append(-1, Mh_list)[np.newaxis]\n",
    "epsilon_hist2d_complete = np.hstack([halo_info.T, epsilon_hist2d])\n",
    "\n",
    "# save epsilon\n",
    "\n",
    "np.save(path_SFH_cat + 'calibration/epsilon_' + SFH_type_option + '.npy', epsilon_hist2d_complete)\n",
    "np.save(path_SFH_cat + 'calibration/epsilon_' + SFH_type_option + '_median.npy', np.array([Mh_list, np.log10(epsilon_median), np.log10(epsilon_16pers), np.log10(epsilon_84pers)]))\n",
    "np.save(path_SFH_cat + 'calibration/epsilon2_' + SFH_type_option + '_median.npy', np.array([Mh_list, np.log10(epsilon2_median), np.log10(epsilon2_16pers), np.log10(epsilon2_84pers)]))\n",
    "np.save(path_SFH_cat + 'calibration/epsilon_' + SFH_type_option + '_param.npy', popt)\n",
    "\n"
   ]
  },
  {
   "cell_type": "code",
   "execution_count": null,
   "metadata": {
    "collapsed": true
   },
   "outputs": [],
   "source": []
  }
 ],
 "metadata": {
  "kernelspec": {
   "display_name": "Python 2",
   "language": "python",
   "name": "python2"
  },
  "language_info": {
   "codemirror_mode": {
    "name": "ipython",
    "version": 2
   },
   "file_extension": ".py",
   "mimetype": "text/x-python",
   "name": "python",
   "nbconvert_exporter": "python",
   "pygments_lexer": "ipython2",
   "version": "2.7.13"
  },
  "toc": {
   "nav_menu": {},
   "number_sections": true,
   "sideBar": true,
   "skip_h1_title": false,
   "toc_cell": false,
   "toc_position": {
    "height": "674px",
    "left": "0px",
    "right": "1083px",
    "top": "107px",
    "width": "357px"
   },
   "toc_section_display": "block",
   "toc_window_display": true
  },
  "varInspector": {
   "cols": {
    "lenName": 16,
    "lenType": 16,
    "lenVar": 40
   },
   "kernels_config": {
    "python": {
     "delete_cmd_postfix": "",
     "delete_cmd_prefix": "del ",
     "library": "var_list.py",
     "varRefreshCmd": "print(var_dic_list())"
    },
    "r": {
     "delete_cmd_postfix": ") ",
     "delete_cmd_prefix": "rm(",
     "library": "var_list.r",
     "varRefreshCmd": "cat(var_dic_list()) "
    }
   },
   "types_to_exclude": [
    "module",
    "function",
    "builtin_function_or_method",
    "instance",
    "_Feature"
   ],
   "window_display": false
  }
 },
 "nbformat": 4,
 "nbformat_minor": 2
}
