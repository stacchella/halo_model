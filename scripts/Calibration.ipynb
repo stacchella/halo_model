{
 "cells": [
  {
   "cell_type": "markdown",
   "metadata": {},
   "source": [
    "# Calibrate Model via Abundance Matching at z=4\n"
   ]
  },
  {
   "cell_type": "code",
   "execution_count": 1,
   "metadata": {
    "ExecuteTime": {
     "end_time": "2018-01-29T14:56:45.462502Z",
     "start_time": "2018-01-29T14:56:44.416743Z"
    },
    "collapsed": true
   },
   "outputs": [],
   "source": [
    "# import modules\n",
    "\n",
    "import numpy as np\n",
    "from astropy.cosmology import WMAP7 as cosmo\n",
    "import astropy.units as u\n",
    "from astropy.table import Table\n",
    "import h5py\n",
    "from hmf import MassFunction\n",
    "import fsps\n",
    "\n",
    "import make_SFH\n",
    "import read_in_halo_cat\n",
    "import derive_SP_prop\n",
    "import completeness\n",
    "\n",
    "import matplotlib.pyplot as plt\n",
    "plt.rcParams['mathtext.fontset'] = 'stixsans'\n",
    "plt.rcParams['font.family'] = 'sans'\n",
    "plt.rcParams['font.serif'] = 'STIXGeneral'\n"
   ]
  },
  {
   "cell_type": "code",
   "execution_count": 2,
   "metadata": {
    "ExecuteTime": {
     "end_time": "2018-01-29T14:56:45.468736Z",
     "start_time": "2018-01-29T14:56:45.464272Z"
    },
    "collapsed": true
   },
   "outputs": [],
   "source": [
    "# define paths\n",
    "\n",
    "path_main = '/Users/sandrotacchella/ASTRO/JWST/Halo_Model/'\n",
    "path_figures = path_main + 'Figures/'\n",
    "path_DM_cat = path_main + 'catalogs/DM/'\n",
    "path_SFH_cat = path_main + 'catalogs/SFH/'\n",
    "path_SP_cat = path_main + 'catalogs/SP/'\n",
    "\n",
    "\n",
    "# set SFH option\n",
    "\n",
    "SFH_type_option = 'constant'\n"
   ]
  },
  {
   "cell_type": "code",
   "execution_count": 3,
   "metadata": {
    "ExecuteTime": {
     "end_time": "2018-01-29T14:56:45.478806Z",
     "start_time": "2018-01-29T14:56:45.470260Z"
    },
    "collapsed": true
   },
   "outputs": [],
   "source": [
    "# define functions\n",
    "\n",
    "def compute_HMF(mass_list, mass_bins, volume_box):\n",
    "    idx_good = np.isfinite(np.log10(mass_list))\n",
    "    hist_zX, bin_edges = np.histogram(np.log10(mass_list[idx_good]), bins=mass_bins)\n",
    "    HMFcum_zX = np.cumsum(hist_zX[::-1])[::-1]/(volume_box)\n",
    "    return(HMFcum_zX)\n",
    "\n",
    "\n",
    "def get_analytical_HMF(redshift):\n",
    "    '''\n",
    "    PS, Jenkins, SMF, Warren, Tinker08 \n",
    "    '''\n",
    "    HMF = MassFunction(cosmo_model=cosmo, z=redshift, Mmin=8, Mmax=15, hmf_model='SMT')\n",
    "    cumulative_mass_func = HMF.ngtm*cosmo.h**3\n",
    "    masses = HMF.m/cosmo.h\n",
    "    return(masses, cumulative_mass_func)\n",
    "\n",
    "\n",
    "\n"
   ]
  },
  {
   "cell_type": "markdown",
   "metadata": {
    "collapsed": true
   },
   "source": [
    "# Construct DM halo mass function"
   ]
  },
  {
   "cell_type": "code",
   "execution_count": 4,
   "metadata": {
    "ExecuteTime": {
     "end_time": "2018-01-29T14:56:46.042264Z",
     "start_time": "2018-01-29T14:56:45.480263Z"
    },
    "collapsed": true
   },
   "outputs": [],
   "source": [
    "# read in catalog\n",
    "\n",
    "z_table_z4, M_table_z4, Mt_table_z4 = read_in_halo_cat.read_in_halo_cat(path_DM_cat + 'MergerHistory_COLOR_CDM_z3.96.hdf5', cosmo)\n",
    "\n",
    "\n"
   ]
  },
  {
   "cell_type": "code",
   "execution_count": 5,
   "metadata": {
    "ExecuteTime": {
     "end_time": "2018-01-29T14:56:47.038173Z",
     "start_time": "2018-01-29T14:56:46.043877Z"
    },
    "collapsed": false
   },
   "outputs": [
    {
     "name": "stdout",
     "output_type": "stream",
     "text": [
      "[ 8.   8.1  8.2  8.3  8.4  8.5  8.6  8.7  8.8  8.9  9.   9.1  9.2  9.3\n",
      "  9.4  9.5  9.6  9.7  9.8  9.9 10.  10.1 10.2 10.3 10.4 10.5 10.6 10.7\n",
      " 10.8 10.9 11.  11.1 11.2 11.3 11.4 11.5 11.6 11.7 11.8 11.9 12.  12.1\n",
      " 12.2 12.3 12.4 12.5 12.6 12.7 12.8 12.9 13.  13.1 13.2 13.3 13.4 13.5]\n"
     ]
    },
    {
     "name": "stderr",
     "output_type": "stream",
     "text": [
      "/Users/sandrotacchella/anaconda2/lib/python2.7/site-packages/ipykernel/__main__.py:24: RuntimeWarning: divide by zero encountered in log10\n"
     ]
    },
    {
     "data": {
      "image/png": "[encoded data removed]",
      "text/plain": [
       "<matplotlib.figure.Figure at 0x118c6c210>"
      ]
     },
     "metadata": {},
     "output_type": "display_data"
    }
   ],
   "source": [
    "# construct halo mass function\n",
    "\n",
    "min_mass = 9.0\n",
    "max_mass = 13.5\n",
    "volume_box = 100.0**3  # in Mpc^-3\n",
    "\n",
    "mass_bins = np.linspace(8.0, 13.5, num=56)\n",
    "print mass_bins\n",
    "mass_bins_left = mass_bins[:-1]\n",
    "mass_bins_center = mass_bins[:-1]+0.5*np.diff(mass_bins)\n",
    "\n",
    "HMF_z4 = compute_HMF(M_table_z4, mass_bins, volume_box)\n",
    "\n",
    "\n",
    "# get analytical halo mass function\n",
    "\n",
    "HMF_analytic_z4 = get_analytical_HMF(4.0)\n",
    "\n",
    "\n",
    "# plot HMF\n",
    "\n",
    "fig, ax = plt.subplots(nrows=1, ncols=1, figsize=(7, 6))\n",
    "\n",
    "ax.plot(mass_bins_left, np.log10(HMF_z4), '-', lw=2, label='z=4')\n",
    "ax.plot(np.log10(HMF_analytic_z4[0]), np.log10(HMF_analytic_z4[1]), '--', color='black', lw=2) \n",
    "\n",
    "ax.set_xlabel(r'$\\log\\/\\/\\/\\/\\mathrm{M}_{\\rm h}\\/\\/\\/\\/[\\mathrm{M}_{\\odot}]$', fontsize=18)\n",
    "ax.set_ylabel(r'$\\log\\/\\/\\/\\/\\mathrm{n}\\/\\/(>\\mathrm{M}_{\\rm h})\\/\\/\\/\\/[\\mathrm{Mpc}^{-3}]$', fontsize=18)\n",
    "\n",
    "ax.set_xlim([9, 13])\n",
    "ax.set_ylim([-7.0, 0.0])\n",
    "\n",
    "plt.legend(frameon=False, fontsize=12)\n",
    "plt.savefig(path_figures + 'Tests/HaloMF_z4.pdf', bbox_inches='tight')\n",
    "plt.show()\n",
    "\n"
   ]
  },
  {
   "cell_type": "markdown",
   "metadata": {},
   "source": [
    "# Abundance Matching"
   ]
  },
  {
   "cell_type": "markdown",
   "metadata": {},
   "source": [
    "Details of abundance matching:\n",
    "\n",
    "1. Obtain L_UV(Mh, z=4) by abundance matching: n(>Mh) = rho(>LUV), where n is the cumulative halo mass function and rho is the cumulative UV LF.\n",
    "\n",
    "2. Get epsilon by comparing predicted L_UV(Mh, z=4) from epsilon = 1.0 and L_UV(Mh, z=4) from abundance matching => get distribution function\n"
   ]
  },
  {
   "cell_type": "code",
   "execution_count": 6,
   "metadata": {
    "ExecuteTime": {
     "end_time": "2018-01-29T14:56:47.080665Z",
     "start_time": "2018-01-29T14:56:47.039809Z"
    },
    "collapsed": true
   },
   "outputs": [],
   "source": [
    "# define functions\n",
    "\n",
    "def get_dust_attenuation(magUV_in, redshift_in, with_scatter=False):\n",
    "    '''\n",
    "    This function computes the dust attenuation at 1600 A (A1600)\n",
    "    from the Bouwens et al 2015 relation.\n",
    "    '''\n",
    "    # ensure inputs are arrays\n",
    "    if type(magUV_in) is not np.ndarray:\n",
    "        magUV_in = np.array([magUV_in])\n",
    "    if type(redshift_in) is not np.ndarray:\n",
    "        redshift_in = np.array([redshift_in])\n",
    "    # values for beta-MUV relation from Bouwens et al 2015\n",
    "    B15_z_list = np.array([2.5, 3.8, 5.0, 5.9, 7.0, 8.0])\n",
    "    B15_beta_list = np.array([-1.70, -1.85, -1.91, -2.00, -2.05, -2.13])\n",
    "    B15_dbdM_list = np.array([-0.20, -0.11, -0.14, -0.20, -0.20, -0.15])\n",
    "    # interpolate beta-MUV relation\n",
    "    beta_value = np.interp(redshift_in, B15_z_list, B15_beta_list, left=B15_beta_list[0], right=np.nan)\n",
    "    dbdM_value = np.interp(redshift_in, B15_z_list, B15_dbdM_list, left=B15_dbdM_list[0], right=np.nan)\n",
    "    # get average beta\n",
    "    avg_b = dbdM_value*(magUV_in+19.5) + beta_value\n",
    "    # convert beta to A1600\n",
    "    if with_scatter:\n",
    "        A1600 = 4.43 + 1.99*(avg_b + np.random.normal(loc=0.0, scale=0.34, size=len(avg_b)))\n",
    "    else:\n",
    "        A1600 = 4.43 + 0.2*np.log(10)*1.99**2*0.34**2+1.99*avg_b\n",
    "    A1600[np.isnan(A1600)] = np.zeros(np.sum(np.isnan(A1600)))\n",
    "    A1600[A1600 < 0.0] = np.zeros(np.sum(A1600 < 0.0))\n",
    "    return(A1600)\n",
    "\n",
    "\n",
    "def UV_LF_Bouwens15(mag_in, z, do_dust_corr=True, with_scatter=False):\n",
    "    '''\n",
    "    This returns the UV LF (mags and phis) of Bouwens et al 2015.\n",
    "    '''\n",
    "    # Bouwens et al 2015\n",
    "    MUV = -20.95+0.01*(z-6.0)\n",
    "    phi = 0.47*np.power(10, -0.27*(z-6.0))*10**-3  # in Mpc\n",
    "    alpha = -1.87-0.1*(z-6.0)\n",
    "    if do_dust_corr:\n",
    "        AUV = get_dust_attenuation(mag_in, z, with_scatter=with_scatter)\n",
    "        mag = mag_in - AUV\n",
    "    else:\n",
    "        mag = mag_in\n",
    "    return(mag, phi*(np.log(10)/2.5)*np.power(10, -0.4*(mag_in-MUV)*(alpha+1.0))*np.exp(-1.0*np.power(10.0, -0.4*(mag_in-MUV))))\n",
    "\n",
    "\n",
    "def matching(UV_LF, HMF, Mh_list, redshift):\n",
    "    '''\n",
    "    This function returns a UV luminosity (at 1600 A) given a dark matter halo mass\n",
    "    assuming a halo mass function and a UV luminosity function (cumulative).\n",
    "    '''\n",
    "    lum_dist = cosmo.luminosity_distance(redshift).to(u.cm).value\n",
    "    num_density = np.interp(Mh_list, HMF[0], HMF[1], left=np.nan, right=np.nan)\n",
    "    UV_mag = np.interp(num_density, UV_LF[1], UV_LF[0], left=np.nan, right=np.nan)\n",
    "    L_1600 = 4*np.pi*(3.086e+19)**2*np.power(10, -0.4*(UV_mag+48.6))  # in order to make it erg/s (instead of Lsun)\n",
    "    return(L_1600)\n",
    "\n"
   ]
  },
  {
   "cell_type": "code",
   "execution_count": 7,
   "metadata": {
    "ExecuteTime": {
     "end_time": "2018-01-29T14:56:47.997728Z",
     "start_time": "2018-01-29T14:56:47.082125Z"
    },
    "collapsed": false
   },
   "outputs": [
    {
     "name": "stderr",
     "output_type": "stream",
     "text": [
      "/Users/sandrotacchella/anaconda2/lib/python2.7/site-packages/ipykernel/__main__.py:13: RuntimeWarning: divide by zero encountered in log10\n",
      "/Users/sandrotacchella/anaconda2/lib/python2.7/site-packages/ipykernel/__main__.py:14: RuntimeWarning: divide by zero encountered in log10\n",
      "/Users/sandrotacchella/anaconda2/lib/python2.7/site-packages/ipykernel/__main__.py:15: RuntimeWarning: divide by zero encountered in log10\n"
     ]
    },
    {
     "data": {
      "image/png": "[encoded data removed]",
      "text/plain": [
       "<matplotlib.figure.Figure at 0x1531b2b10>"
      ]
     },
     "metadata": {},
     "output_type": "display_data"
    }
   ],
   "source": [
    "# get luminosity functions (dust and not dust corrected)\n",
    "\n",
    "list_mag_in = np.linspace(-30.0, -5.0, num=1000)\n",
    "list_mag, phi_mag = UV_LF_Bouwens15(list_mag_in, 4.0, do_dust_corr=True)\n",
    "list_mag_wscatter, phi_mag_wscatter = UV_LF_Bouwens15(list_mag_in, 4.0, do_dust_corr=True, with_scatter=True)\n",
    "list_mag_not_dust_corrected, phi_mag_not_dust_corrected = UV_LF_Bouwens15(list_mag_in, 4.0, do_dust_corr=False)\n",
    "\n",
    "\n",
    "# plot luminosity functions\n",
    "\n",
    "fig, ax = plt.subplots(nrows=1, ncols=1, figsize=(7, 6))\n",
    "\n",
    "ax.plot(list_mag_wscatter, np.log10(phi_mag_wscatter), '.', label='dust-corrected (with scatter)', color='gray', alpha=0.5)\n",
    "ax.plot(list_mag, np.log10(phi_mag), '-', label='dust-corrected')\n",
    "ax.plot(list_mag_not_dust_corrected, np.log10(phi_mag_not_dust_corrected), '-', label='not dust-corrected')\n",
    "\n",
    "ax.set_xlabel(r'$\\mathrm{M}_{\\rm UV}\\/\\/\\/\\/[\\mathrm{AB}]$', fontsize=18)\n",
    "ax.set_ylabel(r'$\\log\\/\\/\\/\\/\\phi_{\\rm UV}\\/\\/\\/\\/[\\mathrm{Number}\\//\\/\\mathrm{mag}\\//\\/\\mathrm{Mpc}^{3}]$', fontsize=18)\n",
    "\n",
    "ax.set_xlim([-25.0, -16])\n",
    "ax.set_ylim([-6.0, -1.0])\n",
    "\n",
    "\n",
    "plt.legend(frameon=False, fontsize=14)  \n",
    "plt.savefig(path_figures + 'Calibration/UV_LF_dustcorrection.pdf', bbox_inches='tight')\n",
    "plt.show()\n",
    "\n"
   ]
  },
  {
   "cell_type": "code",
   "execution_count": 8,
   "metadata": {
    "ExecuteTime": {
     "end_time": "2018-01-29T14:56:48.313877Z",
     "start_time": "2018-01-29T14:56:47.999113Z"
    },
    "collapsed": false
   },
   "outputs": [
    {
     "name": "stderr",
     "output_type": "stream",
     "text": [
      "/Users/sandrotacchella/anaconda2/lib/python2.7/site-packages/ipykernel/__main__.py:13: RuntimeWarning: divide by zero encountered in log10\n"
     ]
    },
    {
     "data": {
      "image/png": "[encoded data removed]",
      "text/plain": [
       "<matplotlib.figure.Figure at 0x1533fd0d0>"
      ]
     },
     "metadata": {},
     "output_type": "display_data"
    }
   ],
   "source": [
    "# determine the cumulative UV LF\n",
    "\n",
    "phi_UV_cum = []\n",
    "\n",
    "for ii_mag in list_mag:\n",
    "    idx = (list_mag < ii_mag)\n",
    "    phi_UV_cum = np.append(phi_UV_cum, np.trapz(phi_mag[idx], list_mag[idx]))\n",
    "\n",
    "\n",
    "plt.xlim([-25.0, -16])\n",
    "plt.ylim([-6.0, -1.0])\n",
    "\n",
    "plt.plot(list_mag, np.log10(phi_UV_cum), '-')\n",
    "plt.show()\n",
    "\n"
   ]
  },
  {
   "cell_type": "code",
   "execution_count": 9,
   "metadata": {
    "ExecuteTime": {
     "end_time": "2018-01-29T14:56:48.588390Z",
     "start_time": "2018-01-29T14:56:48.315676Z"
    },
    "collapsed": false
   },
   "outputs": [
    {
     "name": "stderr",
     "output_type": "stream",
     "text": [
      "/Users/sandrotacchella/anaconda2/lib/python2.7/site-packages/ipykernel/__main__.py:4: RuntimeWarning: divide by zero encountered in log10\n",
      "/Users/sandrotacchella/anaconda2/lib/python2.7/site-packages/ipykernel/__main__.py:5: RuntimeWarning: divide by zero encountered in log10\n"
     ]
    },
    {
     "data": {
      "image/png": "[encoded data removed]",
      "text/plain": [
       "<matplotlib.figure.Figure at 0x1531d6690>"
      ]
     },
     "metadata": {},
     "output_type": "display_data"
    },
    {
     "name": "stdout",
     "output_type": "stream",
     "text": [
      "[2.06077826e+26 2.06077826e+26 2.06077826e+26 2.06077826e+26\n",
      " 2.06077826e+26 2.06077826e+26 2.06077826e+26 2.06077826e+26\n",
      " 2.06077826e+26 2.06077826e+26 2.06077826e+26 2.06077826e+26\n",
      " 2.06077826e+26 2.06077826e+26 2.06077826e+26 2.06077826e+26\n",
      " 2.31796134e+26 3.21801975e+26 4.95551896e+26 7.74321964e+26\n",
      " 1.21613214e+27 1.89645463e+27 2.93455689e+27 4.49939089e+27\n",
      " 6.82264594e+27 1.03103396e+28 1.53969538e+28 2.24873694e+28\n",
      " 3.20535919e+28 4.49266997e+28 6.19957530e+28 8.41908212e+28\n",
      " 1.13318101e+29 1.50870110e+29 1.97014130e+29 2.56888842e+29\n",
      " 3.28168848e+29 4.11358078e+29 5.05262678e+29 6.16170898e+29\n",
      " 7.54621925e+29 9.08177305e+29 1.10595005e+30 1.39955177e+30\n",
      " 1.91011283e+30            nan            nan            nan\n",
      "            nan            nan            nan            nan\n",
      "            nan            nan            nan]\n",
      "[           nan            nan 1.06429021e+24 1.49778242e+24\n",
      " 2.11146711e+24 2.98222998e+24 4.22093396e+24 5.98806774e+24\n",
      " 8.51694415e+24 1.21487990e+25 1.73858646e+25 2.49730450e+25\n",
      " 3.60237239e+25 5.22202947e+25 7.61370282e+25 1.11776042e+26\n",
      " 1.65473871e+26 2.47512102e+26 3.75106121e+26 5.78295933e+26\n",
      " 8.97988282e+26 1.39883565e+27 2.17082246e+27 3.35051501e+27\n",
      " 5.13346506e+27 7.79164979e+27 1.16916141e+28 1.73095001e+28\n",
      " 2.52416615e+28 3.62021611e+28 5.10172882e+28 7.06031147e+28\n",
      " 9.59485364e+28 1.28080782e+29 1.68061323e+29 2.16953515e+29\n",
      " 2.75832465e+29 3.45808009e+29 4.28005169e+29 5.23583461e+29\n",
      " 6.33756580e+29 7.59929091e+29 9.03523261e+29 1.06622152e+30\n",
      " 1.24978182e+30 1.45639637e+30 1.68831235e+30 1.94833673e+30\n",
      " 2.23957330e+30 2.56568464e+30 2.93069263e+30 3.33943268e+30\n",
      " 3.79786482e+30 4.31177972e+30 4.88974462e+30]\n"
     ]
    }
   ],
   "source": [
    "# do the abundance matching and plot LUV-Mhalo relation\n",
    "\n",
    "Mh_list = mass_bins_center\n",
    "LUV_Mh = matching([list_mag, np.log10(phi_UV_cum)], [mass_bins_left, np.log10(HMF_z4)], Mh_list, 4.0)\n",
    "LUV_Mh2 = matching([list_mag, np.log10(phi_UV_cum)], [np.log10(HMF_analytic_z4[0]), np.log10(HMF_analytic_z4[1])], Mh_list, 4.0)\n",
    "\n",
    "plt.plot(Mh_list, np.log10(LUV_Mh), '-')\n",
    "plt.plot(Mh_list, np.log10(LUV_Mh2), '--')\n",
    "plt.show()\n",
    "\n",
    "print LUV_Mh\n",
    "print LUV_Mh2\n",
    "\n"
   ]
  },
  {
   "cell_type": "code",
   "execution_count": null,
   "metadata": {
    "collapsed": true
   },
   "outputs": [],
   "source": []
  },
  {
   "cell_type": "code",
   "execution_count": null,
   "metadata": {
    "collapsed": true
   },
   "outputs": [],
   "source": []
  },
  {
   "cell_type": "markdown",
   "metadata": {},
   "source": [
    "# Determine efficiency epsilon"
   ]
  },
  {
   "cell_type": "code",
   "execution_count": 10,
   "metadata": {
    "ExecuteTime": {
     "end_time": "2018-01-29T14:56:48.593206Z",
     "start_time": "2018-01-29T14:56:48.589860Z"
    },
    "collapsed": false
   },
   "outputs": [],
   "source": [
    "# read in UV catalog based on epsilon=1.0 run\n",
    "\n",
    "cat_z4 = h5py.File(path_SP_cat + 'SFH_z4_constant_calibration_with_L.hdf5', 'r')\n",
    "\n"
   ]
  },
  {
   "cell_type": "code",
   "execution_count": 11,
   "metadata": {
    "ExecuteTime": {
     "end_time": "2018-01-29T14:56:49.061848Z",
     "start_time": "2018-01-29T14:56:48.594888Z"
    },
    "collapsed": false
   },
   "outputs": [],
   "source": [
    "# determine epsilon: for a given Mh, you should get LUV (as given by LUV_Mh)\n",
    "\n",
    "# bin epsilon in order to save it\n",
    "\n",
    "epsilon_bins = np.linspace(-3.0, 5.0, num=501)\n",
    "epsilon_bin_center = epsilon_bins[:-1] + 0.5*np.diff(epsilon_bins)\n",
    "epsilon_hist2d = epsilon_bin_center\n",
    "\n",
    "epsilon_16pers = []\n",
    "epsilon_median = []\n",
    "epsilon_84pers = []\n",
    "epsilon2_16pers = []\n",
    "epsilon2_median = []\n",
    "epsilon2_84pers = []\n",
    "\n",
    "for ii_M in range(len(mass_bins)-1):\n",
    "    index = (np.log10(cat_z4['DM/DM_M'][:]) >= mass_bins[ii_M]) & (np.log10(cat_z4['DM/DM_M'][:]) < mass_bins[ii_M+1])\n",
    "    LUV_distribution = cat_z4['luminosities/luminosity_0'][:, 2][index]\n",
    "    if (np.isnan(LUV_Mh[ii_M])) | (np.sum(index) == 0.0):\n",
    "        epsilon_hist2d = np.vstack([epsilon_hist2d, np.nan*np.ones(len(epsilon_bin_center))])\n",
    "        epsilon_16pers = np.append(epsilon_16pers, np.nan)\n",
    "        epsilon_median = np.append(epsilon_median, np.nan)\n",
    "        epsilon_84pers = np.append(epsilon_84pers, np.nan)\n",
    "        epsilon2_16pers = np.append(epsilon2_16pers, np.nan)\n",
    "        epsilon2_median = np.append(epsilon2_median, np.nan)\n",
    "        epsilon2_84pers = np.append(epsilon2_84pers, np.nan)\n",
    "    else:\n",
    "        idx = (LUV_distribution > 0.0)\n",
    "        epsilon_distribution = LUV_Mh[ii_M]/LUV_distribution[idx]\n",
    "        hist, bin_edges = np.histogram(np.log10(epsilon_distribution), bins=epsilon_bins, density=True)\n",
    "        epsilon_hist2d = np.vstack([epsilon_hist2d, hist])\n",
    "        epsilon_16pers = np.append(epsilon_16pers, np.percentile(epsilon_distribution, 16))\n",
    "        epsilon_median = np.append(epsilon_median, np.percentile(epsilon_distribution, 50))\n",
    "        epsilon_84pers = np.append(epsilon_84pers, np.percentile(epsilon_distribution, 84))\n",
    "        epsilon2_distribution = LUV_Mh2[ii_M]/LUV_distribution[idx]\n",
    "        epsilon2_16pers = np.append(epsilon2_16pers, np.percentile(epsilon2_distribution, 16))\n",
    "        epsilon2_median = np.append(epsilon2_median, np.percentile(epsilon2_distribution, 50))\n",
    "        epsilon2_84pers = np.append(epsilon2_84pers, np.percentile(epsilon2_distribution, 84))\n",
    "\n"
   ]
  },
  {
   "cell_type": "code",
   "execution_count": 12,
   "metadata": {
    "ExecuteTime": {
     "end_time": "2018-01-29T14:56:49.066046Z",
     "start_time": "2018-01-29T14:56:49.063328Z"
    },
    "collapsed": true
   },
   "outputs": [],
   "source": [
    "# cheap comparison Behroozi\n",
    "\n",
    "#Mh_Behroozi13 = [2.353e11, 3.210e11, 5.639e11, 7.352e11, 9.748e11, 1.331e12, 1.775e12, 3.135e12, 4.480e12, 6.709e12, 1.082e13, 1.762e13]\n",
    "#MM_Behroozi13 = [0.007, 0.010, 0.017, 0.020, 0.022, 0.022, 0.021, 0.016, 0.013, 0.009, 0.006, 0.004]\n",
    "\n"
   ]
  },
  {
   "cell_type": "code",
   "execution_count": 13,
   "metadata": {
    "ExecuteTime": {
     "end_time": "2018-01-29T14:56:49.101967Z",
     "start_time": "2018-01-29T14:56:49.067540Z"
    },
    "collapsed": false
   },
   "outputs": [
    {
     "name": "stdout",
     "output_type": "stream",
     "text": [
      "[4.74244347e-01 1.19955181e+11 9.10773665e-01 2.59005858e-01]\n"
     ]
    }
   ],
   "source": [
    "# fit analytically\n",
    "\n",
    "def double_power_law(log_mass_list, norm, mass_c, beta, gamma):\n",
    "    '''\n",
    "    From Moster+2010.\n",
    "    '''\n",
    "    return(2*norm*np.power(np.power(np.power(10, log_mass_list)/mass_c, -1.0*beta)+np.power(np.power(10, log_mass_list)/mass_c, gamma), -1.0))   \n",
    "    \n",
    "\n",
    "from scipy.optimize import curve_fit\n",
    "           \n",
    "    \n",
    "idx_fit = ~np.isnan(epsilon_median) & (Mh_list > 9.8) & (Mh_list < 12.0)\n",
    "popt, pcov = curve_fit(double_power_law, Mh_list[idx_fit], epsilon_median[idx_fit], p0=[0.6, 10**11.5, 1.0, 1.0])           \n",
    "print popt\n",
    "\n"
   ]
  },
  {
   "cell_type": "code",
   "execution_count": 17,
   "metadata": {
    "ExecuteTime": {
     "end_time": "2018-01-29T15:15:01.956107Z",
     "start_time": "2018-01-29T15:15:01.354602Z"
    },
    "collapsed": false
   },
   "outputs": [
    {
     "data": {
      "image/png": "[encoded data removed]",
      "text/plain": [
       "<matplotlib.figure.Figure at 0x153d71390>"
      ]
     },
     "metadata": {},
     "output_type": "display_data"
    }
   ],
   "source": [
    "# plot efficiency with fit\n",
    "\n",
    "fig, ax = plt.subplots(nrows=1, ncols=1, figsize=(6, 5))\n",
    "\n",
    "ax.plot(Mh_list, np.log10(epsilon_median), '-', lw=3)\n",
    "ax.fill_between(Mh_list, np.log10(epsilon_16pers), np.log10(epsilon_84pers), alpha=0.2)\n",
    "\n",
    "ax.plot(Mh_list, np.log10(double_power_law(Mh_list, popt[0], popt[1], popt[2], popt[3]+0.1)), '--', color='black')\n",
    "\n",
    "ax.set_xlabel(r'$\\mathrm{M}_{\\rm h}\\/\\/\\/\\/[\\mathrm{M}_{\\odot}]$', fontsize=18)\n",
    "ax.set_ylabel(r'$\\log\\/\\/\\/\\/\\epsilon\\/\\/=\\/\\/\\log\\/\\/\\/\\/\\frac{\\rm SFR}{\\rm \\dot{M}_{\\rm h}}$', fontsize=18)\n",
    "\n",
    "ax.set_xlim([9.5, 12.5])\n",
    "ax.set_ylim([-1.5, 0.1])\n",
    "\n",
    "plt.legend(frameon=False, fontsize=14)  \n",
    "plt.savefig(path_figures + 'Calibration/efficency_' + SFH_type_option + '.pdf', bbox_inches='tight')\n",
    "plt.show()\n"
   ]
  },
  {
   "cell_type": "code",
   "execution_count": null,
   "metadata": {
    "collapsed": true
   },
   "outputs": [],
   "source": []
  },
  {
   "cell_type": "code",
   "execution_count": null,
   "metadata": {
    "collapsed": true
   },
   "outputs": [],
   "source": []
  },
  {
   "cell_type": "code",
   "execution_count": 15,
   "metadata": {
    "ExecuteTime": {
     "end_time": "2018-01-29T14:56:49.737688Z",
     "start_time": "2018-01-29T14:56:49.727964Z"
    },
    "collapsed": false
   },
   "outputs": [],
   "source": [
    "# re-format epsilon\n",
    "\n",
    "halo_info = np.append(-1, Mh_list)[np.newaxis]\n",
    "epsilon_hist2d_complete = np.hstack([halo_info.T, epsilon_hist2d])\n",
    "\n",
    "# save epsilon\n",
    "\n",
    "np.save(path_SFH_cat + 'calibration/epsilon_' + SFH_type_option + '.npy', epsilon_hist2d_complete)\n",
    "np.save(path_SFH_cat + 'calibration/epsilon_' + SFH_type_option + '_median.npy', np.array([Mh_list, np.log10(epsilon_median), np.log10(epsilon_16pers), np.log10(epsilon_84pers)]))\n",
    "np.save(path_SFH_cat + 'calibration/epsilon2_' + SFH_type_option + '_median.npy', np.array([Mh_list, np.log10(epsilon2_median), np.log10(epsilon2_16pers), np.log10(epsilon2_84pers)]))\n",
    "np.save(path_SFH_cat + 'calibration/epsilon_' + SFH_type_option + '_param.npy', popt)\n",
    "\n"
   ]
  },
  {
   "cell_type": "code",
   "execution_count": null,
   "metadata": {
    "collapsed": true
   },
   "outputs": [],
   "source": []
  }
 ],
 "metadata": {
  "kernelspec": {
   "display_name": "Python 2",
   "language": "python",
   "name": "python2"
  },
  "language_info": {
   "codemirror_mode": {
    "name": "ipython",
    "version": 2
   },
   "file_extension": ".py",
   "mimetype": "text/x-python",
   "name": "python",
   "nbconvert_exporter": "python",
   "pygments_lexer": "ipython2",
   "version": "2.7.13"
  },
  "toc": {
   "nav_menu": {},
   "number_sections": true,
   "sideBar": true,
   "skip_h1_title": false,
   "toc_cell": false,
   "toc_position": {
    "height": "674px",
    "left": "0px",
    "right": "1083px",
    "top": "107px",
    "width": "357px"
   },
   "toc_section_display": "block",
   "toc_window_display": true
  },
  "varInspector": {
   "cols": {
    "lenName": 16,
    "lenType": 16,
    "lenVar": 40
   },
   "kernels_config": {
    "python": {
     "delete_cmd_postfix": "",
     "delete_cmd_prefix": "del ",
     "library": "var_list.py",
     "varRefreshCmd": "print(var_dic_list())"
    },
    "r": {
     "delete_cmd_postfix": ") ",
     "delete_cmd_prefix": "rm(",
     "library": "var_list.r",
     "varRefreshCmd": "cat(var_dic_list()) "
    }
   },
   "types_to_exclude": [
    "module",
    "function",
    "builtin_function_or_method",
    "instance",
    "_Feature"
   ],
   "window_display": false
  }
 },
 "nbformat": 4,
 "nbformat_minor": 2
}
