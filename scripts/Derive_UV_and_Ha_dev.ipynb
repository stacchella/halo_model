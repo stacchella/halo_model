{
 "cells": [
  {
   "cell_type": "markdown",
   "metadata": {},
   "source": [
    "The main idea is to use the calibrated efficiency in order to predict the UV and Halpha luminosities. \n",
    "\n"
   ]
  },
  {
   "cell_type": "markdown",
   "metadata": {},
   "source": [
    "# Setup environment"
   ]
  },
  {
   "cell_type": "code",
   "execution_count": 1,
   "metadata": {
    "ExecuteTime": {
     "end_time": "2017-12-21T12:17:36.909368Z",
     "start_time": "2017-12-21T12:17:36.274624Z"
    },
    "collapsed": true
   },
   "outputs": [],
   "source": [
    "# read in modules\n",
    "\n",
    "import astropy.units as u\n",
    "from astropy.table import Table\n",
    "from hmf import MassFunction\n",
    "import os\n",
    "\n"
   ]
  },
  {
   "cell_type": "code",
   "execution_count": 7,
   "metadata": {
    "ExecuteTime": {
     "end_time": "2017-12-21T08:42:56.087419Z",
     "start_time": "2017-12-21T08:42:56.084259Z"
    },
    "collapsed": true
   },
   "outputs": [],
   "source": [
    "# define paths\n",
    "       \n",
    "path_main = os.environ['WDIR_halo_model']\n",
    "path_figures = path_main + 'Figures/Tests/'\n",
    "path_DM_cat = path_main + 'catalogs/DM/'\n",
    "path_SFH_cat = path_main + 'catalogs/SFH/'\n",
    "\n"
   ]
  },
  {
   "cell_type": "markdown",
   "metadata": {},
   "source": [
    "# Setup SFHs (we have to run this once => save output)"
   ]
  },
  {
   "cell_type": "markdown",
   "metadata": {},
   "source": [
    "Input:   DM halo accretion history, as given by hdf5 files\n",
    "\n",
    "Output:  added SFH to the hdf5 files?\n",
    "\n"
   ]
  },
  {
   "cell_type": "code",
   "execution_count": 82,
   "metadata": {
    "ExecuteTime": {
     "end_time": "2017-12-21T09:13:41.900312Z",
     "start_time": "2017-12-21T09:13:41.894386Z"
    },
    "collapsed": true
   },
   "outputs": [],
   "source": [
    "import numpy as np\n",
    "import h5py\n",
    "import os\n",
    "\n",
    "import read_in_halo_cat\n",
    "import read_in_efficency\n",
    "import make_SFH\n",
    "\n",
    "from astropy.cosmology import WMAP7 as cosmo\n",
    "\n",
    "import matplotlib.pyplot as plt\n",
    "plt.rcParams['mathtext.fontset'] = 'stixsans'\n",
    "plt.rcParams['font.family'] = 'sans'\n",
    "plt.rcParams['font.serif'] = 'STIXGeneral'\n",
    "\n",
    "\n"
   ]
  },
  {
   "cell_type": "code",
   "execution_count": 83,
   "metadata": {
    "ExecuteTime": {
     "end_time": "2017-12-21T09:13:42.186744Z",
     "start_time": "2017-12-21T09:13:42.183477Z"
    },
    "collapsed": true
   },
   "outputs": [],
   "source": [
    "# define paths\n",
    "\n",
    "path_main = os.environ['WDIR_halo_model']\n",
    "path_figures = path_main + 'Figures/Tests/'\n",
    "path_DM_cat = path_main + 'catalogs/DM/'\n",
    "path_SFH_cat = path_main + 'catalogs/SFH/'\n",
    "\n"
   ]
  },
  {
   "cell_type": "code",
   "execution_count": 84,
   "metadata": {
    "ExecuteTime": {
     "end_time": "2017-12-21T09:13:42.904842Z",
     "start_time": "2017-12-21T09:13:42.901576Z"
    },
    "collapsed": true
   },
   "outputs": [],
   "source": [
    "# set parameters\n",
    "\n",
    "DM_accretion_history_filename = 'MergerHistory_COLOR_CDM_z3.96.hdf5'\n",
    "efficency_filename = 'Calibration/epsilon.npy'\n",
    "SFH_type_option = 'random'\n",
    "filename_SFH_file = 'SFH_random.hdf5'\n"
   ]
  },
  {
   "cell_type": "code",
   "execution_count": 85,
   "metadata": {
    "ExecuteTime": {
     "end_time": "2017-12-21T09:13:46.238193Z",
     "start_time": "2017-12-21T09:13:45.669125Z"
    },
    "collapsed": false
   },
   "outputs": [
    {
     "name": "stdout",
     "output_type": "stream",
     "text": [
      "72\n",
      "167276\n",
      "167276\n"
     ]
    }
   ],
   "source": [
    "# get dark matter accretion history\n",
    "\n",
    "z_table_in, M_table_in, Mt_table_in = read_in_halo_cat.read_in_halo_cat(path_DM_cat + DM_accretion_history_filename, cosmo)\n",
    "\n",
    "print len(z_table_in)\n",
    "print len(M_table_in)\n",
    "print len(Mt_table_in)\n"
   ]
  },
  {
   "cell_type": "code",
   "execution_count": 86,
   "metadata": {
    "ExecuteTime": {
     "end_time": "2017-12-21T09:13:46.270088Z",
     "start_time": "2017-12-21T09:13:46.264759Z"
    },
    "collapsed": false
   },
   "outputs": [],
   "source": [
    "# set up efficency function (based on calibration)\n",
    "\n",
    "epsilon_efficency_fct = read_in_efficency.read_in_efficency(path_SFH_cat + efficency_filename)\n"
   ]
  },
  {
   "cell_type": "code",
   "execution_count": 87,
   "metadata": {
    "ExecuteTime": {
     "end_time": "2017-12-21T09:14:00.143413Z",
     "start_time": "2017-12-21T09:13:56.897130Z"
    },
    "collapsed": false
   },
   "outputs": [
    {
     "name": "stdout",
     "output_type": "stream",
     "text": [
      "progress (%):  0.0\n",
      "progress (%):  0.598\n",
      "progress (%):  1.196\n",
      "progress (%):  1.793\n",
      "progress (%):  2.391\n",
      "progress (%):  2.989\n",
      "progress (%):  3.587\n",
      "progress (%):  4.185\n",
      "progress (%):  4.783\n",
      "progress (%):  5.38\n",
      "progress (%):  5.978\n",
      "progress (%):  6.576\n",
      "progress (%):  7.174\n",
      "progress (%):  7.772\n",
      "progress (%):  8.369\n",
      "progress (%):  8.967\n",
      "progress (%):  9.565\n",
      "progress (%):  10.163\n",
      "progress (%):  10.761\n",
      "progress (%):  11.358\n",
      "progress (%):  11.956\n",
      "progress (%):  12.554\n",
      "progress (%):  13.152\n",
      "progress (%):  13.75\n",
      "progress (%):  14.348\n",
      "progress (%):  14.945\n",
      "progress (%):  15.543\n",
      "progress (%):  16.141\n",
      "progress (%):  16.739\n",
      "progress (%):  17.337\n",
      "progress (%):  17.934\n",
      "progress (%):  18.532\n",
      "progress (%):  19.13\n",
      "progress (%):  19.728\n",
      "progress (%):  20.326\n",
      "progress (%):  20.924\n",
      "progress (%):  21.521\n",
      "progress (%):  22.119\n",
      "progress (%):  22.717\n",
      "progress (%):  23.315\n",
      "progress (%):  23.913\n",
      "progress (%):  24.51\n",
      "progress (%):  25.108\n",
      "progress (%):  25.706\n",
      "progress (%):  26.304\n",
      "progress (%):  26.902\n",
      "progress (%):  27.499\n",
      "progress (%):  28.097\n",
      "progress (%):  28.695\n",
      "progress (%):  29.293\n",
      "progress (%):  29.891\n",
      "progress (%):  30.489\n",
      "progress (%):  31.086\n",
      "progress (%):  31.684\n",
      "progress (%):  32.282\n",
      "progress (%):  32.88\n",
      "progress (%):  33.478\n",
      "progress (%):  34.075\n",
      "progress (%):  34.673\n",
      "progress (%):  35.271\n",
      "progress (%):  35.869\n",
      "progress (%):  36.467\n",
      "progress (%):  37.064\n",
      "progress (%):  37.662\n",
      "progress (%):  38.26\n",
      "progress (%):  38.858\n",
      "progress (%):  39.456\n",
      "progress (%):  40.054\n",
      "progress (%):  40.651\n",
      "progress (%):  41.249\n",
      "progress (%):  41.847\n",
      "progress (%):  42.445\n",
      "progress (%):  43.043\n",
      "progress (%):  43.64\n",
      "progress (%):  44.238\n",
      "progress (%):  44.836\n",
      "progress (%):  45.434\n",
      "progress (%):  46.032\n",
      "progress (%):  46.63\n",
      "progress (%):  47.227\n",
      "progress (%):  47.825\n",
      "progress (%):  48.423\n",
      "progress (%):  49.021\n",
      "progress (%):  49.619\n",
      "progress (%):  50.216\n",
      "progress (%):  50.814\n",
      "progress (%):  51.412\n",
      "progress (%):  52.01\n",
      "progress (%):  52.608\n",
      "progress (%):  53.205\n",
      "progress (%):  53.803\n",
      "progress (%):  54.401\n",
      "progress (%):  54.999\n",
      "progress (%):  55.597\n",
      "progress (%):  56.195\n",
      "progress (%):  56.792\n",
      "progress (%):  57.39\n",
      "progress (%):  57.988\n",
      "progress (%):  58.586\n",
      "progress (%):  59.184\n",
      "progress (%):  59.781\n",
      "progress (%):  60.379\n",
      "progress (%):  60.977\n",
      "progress (%):  61.575\n",
      "progress (%):  62.173\n",
      "progress (%):  62.771\n",
      "progress (%):  63.368\n",
      "progress (%):  63.966\n",
      "progress (%):  64.564\n",
      "progress (%):  65.162\n",
      "progress (%):  65.76\n",
      "progress (%):  66.357\n",
      "progress (%):  66.955\n",
      "progress (%):  67.553\n",
      "progress (%):  68.151\n",
      "progress (%):  68.749\n",
      "progress (%):  69.346\n",
      "progress (%):  69.944\n",
      "progress (%):  70.542\n",
      "progress (%):  71.14\n",
      "progress (%):  71.738\n",
      "progress (%):  72.336\n",
      "progress (%):  72.933\n",
      "progress (%):  73.531\n",
      "progress (%):  74.129\n",
      "progress (%):  74.727\n",
      "progress (%):  75.325\n",
      "progress (%):  75.922\n",
      "progress (%):  76.52\n",
      "progress (%):  77.118\n",
      "progress (%):  77.716\n",
      "progress (%):  78.314\n",
      "progress (%):  78.911\n",
      "progress (%):  79.509\n",
      "progress (%):  80.107\n",
      "progress (%):  80.705\n",
      "progress (%):  81.303\n",
      "progress (%):  81.901\n",
      "progress (%):  82.498\n",
      "progress (%):  83.096\n",
      "progress (%):  83.694\n",
      "progress (%):  84.292\n",
      "progress (%):  84.89\n",
      "progress (%):  85.487\n",
      "progress (%):  86.085\n",
      "progress (%):  86.683\n",
      "progress (%):  87.281\n",
      "progress (%):  87.879\n",
      "progress (%):  88.477\n",
      "progress (%):  89.074\n",
      "progress (%):  89.672\n",
      "progress (%):  90.27\n",
      "progress (%):  90.868\n",
      "progress (%):  91.466\n",
      "progress (%):  92.063\n",
      "progress (%):  92.661\n",
      "progress (%):  93.259\n",
      "progress (%):  93.857\n",
      "progress (%):  94.455\n",
      "progress (%):  95.052\n",
      "progress (%):  95.65\n",
      "progress (%):  96.248\n",
      "progress (%):  96.846\n",
      "progress (%):  97.444\n",
      "progress (%):  98.042\n",
      "progress (%):  98.639\n",
      "progress (%):  99.237\n",
      "progress (%):  99.835\n"
     ]
    }
   ],
   "source": [
    "# get SFH: random burst in last step\n",
    "\n",
    "t_snapshots = 10**3*cosmo.age(z_table_in).value  # in Myr  \n",
    "\n",
    "# loop over all halos\n",
    "\n",
    "for idx_h in range(len(M_table_in))[::1000]:\n",
    "    print 'progress (%): ', round(100.0*idx_h/len(M_table_in), 3)\n",
    "    time_list, SFR_list = make_SFH.construct_SFH(Mt_table_in[idx_h], t_snapshots, look_back=round(t_snapshots[0]), dt=0.1, SFH_type=SFH_type_option, epsilon_fct=epsilon_efficency_fct)\n",
    "    if (idx_h == 0):\n",
    "        SFH_table_SFR = SFR_list\n",
    "    else:\n",
    "        SFH_table_SFR = np.vstack([SFH_table_SFR, SFR_list])\n",
    "\n"
   ]
  },
  {
   "cell_type": "code",
   "execution_count": 88,
   "metadata": {
    "ExecuteTime": {
     "end_time": "2017-12-21T09:14:03.206489Z",
     "start_time": "2017-12-21T09:14:03.017407Z"
    },
    "collapsed": false
   },
   "outputs": [],
   "source": [
    "# save SFH\n",
    "try:\n",
    "    os.remove(path_SFH_cat + filename_SFH_file)\n",
    "except OSError:\n",
    "    pass\n",
    "\n",
    "f = h5py.File(path_SFH_cat + filename_SFH_file, 'w')\n",
    "# add SFH\n",
    "grp_SFH = f.create_group(\"SFH\")\n",
    "grp_SFH.create_dataset('SFH_time', data=time_list)\n",
    "grp_SFH.create_dataset('SFH_SFR', data=SFH_table_SFR)\n",
    "# add DM assembly\n",
    "grp_DM = f.create_group(\"DM\")\n",
    "grp_DM.create_dataset('DM_time', data=t_snapshots)\n",
    "grp_DM.create_dataset('DM_z', data=z_table_in)\n",
    "grp_DM.create_dataset('DM_M', data=M_table_in)\n",
    "grp_DM.create_dataset('DM_Mt', data=Mt_table_in)\n",
    "f.close()\n"
   ]
  },
  {
   "cell_type": "code",
   "execution_count": null,
   "metadata": {
    "collapsed": true
   },
   "outputs": [],
   "source": []
  },
  {
   "cell_type": "code",
   "execution_count": null,
   "metadata": {
    "collapsed": true
   },
   "outputs": [],
   "source": []
  },
  {
   "cell_type": "code",
   "execution_count": null,
   "metadata": {
    "collapsed": true
   },
   "outputs": [],
   "source": []
  },
  {
   "cell_type": "markdown",
   "metadata": {},
   "source": [
    "# Compute Luminosities (UV, Halpha, etc.)"
   ]
  },
  {
   "cell_type": "markdown",
   "metadata": {
    "collapsed": true
   },
   "source": [
    "We start with a fiducial model:\n",
    "- IMF         :   Salpeter (imf_type=0)\n",
    "- metallicity :   solar metallicity (logzsol=0.0)\n",
    "- dust        :   average beta relation\n",
    "\n",
    "Possible variations:\n",
    "- IMF         : \n",
    "                * 0: Salpeter (1955)\n",
    "                * 1: Chabrier (2003)\n",
    "                * 2: Kroupa (2001)\n",
    "                * 3: van Dokkum (2008)\n",
    "                * 4: Dave (2008)\n",
    "                * 5: tabulated piece-wise power law IMF\n",
    "- metallicity : simple grid\n",
    "- dust        : apply scatter; add dust to nebular in some peculiar way (\"fudge factor\" of 0.44 to 1.00)\n",
    "\n",
    "Things to keep in mind:\n",
    "- stocastics effects at very low SFRs\n",
    "\n",
    "\n",
    "\n",
    "\n"
   ]
  },
  {
   "cell_type": "code",
   "execution_count": 1,
   "metadata": {
    "ExecuteTime": {
     "end_time": "2018-01-03T09:32:29.341793Z",
     "start_time": "2018-01-03T09:32:29.058436Z"
    },
    "collapsed": true
   },
   "outputs": [],
   "source": [
    "import numpy as np\n",
    "import h5py\n",
    "import fsps\n",
    "import itertools\n",
    "import os\n",
    "\n",
    "import derive_SP_prop\n"
   ]
  },
  {
   "cell_type": "code",
   "execution_count": 2,
   "metadata": {
    "ExecuteTime": {
     "end_time": "2018-01-03T09:32:30.383208Z",
     "start_time": "2018-01-03T09:32:30.379435Z"
    },
    "collapsed": true
   },
   "outputs": [],
   "source": [
    "# define paths\n",
    "\n",
    "path_main = os.environ['WDIR_halo_model']\n",
    "path_figures = path_main + 'Figures/Tests/'\n",
    "path_SFH_cat = path_main + 'catalogs/SFH/'\n",
    "path_SP_cat = path_main + 'catalogs/SP/'\n",
    "\n"
   ]
  },
  {
   "cell_type": "code",
   "execution_count": 5,
   "metadata": {
    "ExecuteTime": {
     "end_time": "2018-01-03T09:33:47.336780Z",
     "start_time": "2018-01-03T09:33:47.333482Z"
    },
    "collapsed": true
   },
   "outputs": [],
   "source": [
    "# set filename of SFH\n",
    "\n",
    "filename_SFH_file = 'SFH_z4_random.hdf5'\n",
    "filename_SP_file = 'SFH_z4_random_with_L.hdf5'\n",
    "\n",
    "\n",
    "# fundge factor so that SFH setting works\n",
    "\n",
    "idx_every_other = 2\n",
    "\n"
   ]
  },
  {
   "cell_type": "code",
   "execution_count": 28,
   "metadata": {
    "ExecuteTime": {
     "end_time": "2018-01-03T12:02:38.587572Z",
     "start_time": "2018-01-03T12:02:38.581507Z"
    },
    "collapsed": false
   },
   "outputs": [],
   "source": [
    "# read in SFH\n",
    "SFH_file = h5py.File(path_SFH_cat + filename_SFH_file, 'r')\n",
    "SFH_time = SFH_file['SFH/SFH_time'][:]\n",
    "SFH_SFR = SFH_file['SFH/SFH_SFR'][:]\n"
   ]
  },
  {
   "cell_type": "code",
   "execution_count": null,
   "metadata": {
    "collapsed": true
   },
   "outputs": [],
   "source": []
  },
  {
   "cell_type": "code",
   "execution_count": 30,
   "metadata": {
    "ExecuteTime": {
     "end_time": "2018-01-03T12:42:27.217835Z",
     "start_time": "2018-01-03T12:42:24.345212Z"
    },
    "collapsed": true
   },
   "outputs": [],
   "source": [
    "SFH_file = h5py.File('/Users/sandrotacchella/Desktop/SFH_z4_random.hdf5', 'r')\n",
    "SFH_time = SFH_file['SFH/SFH_time'][:]\n",
    "SFH_SFR = SFH_file['SFH/SFH_SFR'][:]\n"
   ]
  },
  {
   "cell_type": "code",
   "execution_count": 31,
   "metadata": {
    "ExecuteTime": {
     "end_time": "2018-01-03T12:42:27.236771Z",
     "start_time": "2018-01-03T12:42:27.233905Z"
    },
    "collapsed": true
   },
   "outputs": [],
   "source": [
    "import matplotlib.pyplot as plt\n",
    "plt.rcParams['mathtext.fontset'] = 'stixsans'\n",
    "plt.rcParams['font.family'] = 'sans'\n",
    "plt.rcParams['font.serif'] = 'STIXGeneral'\n"
   ]
  },
  {
   "cell_type": "code",
   "execution_count": 39,
   "metadata": {
    "ExecuteTime": {
     "end_time": "2018-01-03T12:44:35.524970Z",
     "start_time": "2018-01-03T12:44:35.162304Z"
    },
    "collapsed": false
   },
   "outputs": [
    {
     "name": "stderr",
     "output_type": "stream",
     "text": [
      "/Users/sandrotacchella/anaconda2/lib/python2.7/site-packages/ipykernel/__main__.py:2: VisibleDeprecationWarning: using a non-integer number instead of an integer will result in an error in the future\n",
      "  from ipykernel import kernelapp as app\n"
     ]
    },
    {
     "data": {
      "image/png": "[encoded data removed]",
      "text/plain": [
       "<matplotlib.figure.Figure at 0x1b9717610>"
      ]
     },
     "metadata": {},
     "output_type": "display_data"
    }
   ],
   "source": [
    "for ii in np.linspace(100, 200):\n",
    "    plt.plot(SFH_time, SFH_SFR[ii], '-')\n",
    "plt.show()"
   ]
  },
  {
   "cell_type": "code",
   "execution_count": 21,
   "metadata": {
    "ExecuteTime": {
     "end_time": "2018-01-03T09:38:32.374138Z",
     "start_time": "2018-01-03T09:38:32.369454Z"
    },
    "collapsed": false
   },
   "outputs": [
    {
     "data": {
      "text/plain": [
       "(array([1300, 1301, 1302, 1303, 1304, 1305, 1306, 1307, 1308, 1309, 1311,\n",
       "        1316, 1328, 1331]),)"
      ]
     },
     "execution_count": 21,
     "metadata": {},
     "output_type": "execute_result"
    }
   ],
   "source": [
    "np.where(np.isnan(SFH_SFR[0]))"
   ]
  },
  {
   "cell_type": "code",
   "execution_count": 24,
   "metadata": {
    "ExecuteTime": {
     "end_time": "2018-01-03T09:39:03.787261Z",
     "start_time": "2018-01-03T09:39:03.783003Z"
    },
    "collapsed": false
   },
   "outputs": [
    {
     "data": {
      "text/plain": [
       "array([  5.00000000e-02,   1.50000000e-01,   2.50000000e-01, ...,\n",
       "         1.43820000e+03,   1.45820000e+03,   1.47820000e+03])"
      ]
     },
     "execution_count": 24,
     "metadata": {},
     "output_type": "execute_result"
    }
   ],
   "source": [
    "SFH_time"
   ]
  },
  {
   "cell_type": "code",
   "execution_count": 17,
   "metadata": {
    "ExecuteTime": {
     "end_time": "2018-01-03T09:35:46.837906Z",
     "start_time": "2018-01-03T09:35:46.833934Z"
    },
    "collapsed": false
   },
   "outputs": [
    {
     "data": {
      "text/plain": [
       "nan"
      ]
     },
     "execution_count": 17,
     "metadata": {},
     "output_type": "execute_result"
    }
   ],
   "source": [
    "np.min(SFH_SFR[0])"
   ]
  },
  {
   "cell_type": "code",
   "execution_count": null,
   "metadata": {
    "collapsed": true
   },
   "outputs": [],
   "source": []
  },
  {
   "cell_type": "code",
   "execution_count": null,
   "metadata": {
    "collapsed": true
   },
   "outputs": [],
   "source": []
  },
  {
   "cell_type": "code",
   "execution_count": 7,
   "metadata": {
    "ExecuteTime": {
     "end_time": "2017-12-21T11:59:41.691357Z",
     "start_time": "2017-12-21T11:59:41.500937Z"
    },
    "collapsed": false
   },
   "outputs": [],
   "source": [
    "# save SFH\n",
    "try:\n",
    "    os.remove(path_SP_cat + filename_SP_file)\n",
    "except OSError:\n",
    "    pass\n",
    "\n",
    "lum_file = h5py.File(path_SP_cat + filename_SP_file, 'w')\n",
    "# add SFH\n",
    "grp_SFH = lum_file.create_group(\"SFH\")\n",
    "grp_SFH.create_dataset('SFH_time', data=SFH_file['SFH/SFH_time'][:])\n",
    "grp_SFH.create_dataset('SFH_SFR', data=SFH_file['SFH/SFH_time'][:])\n",
    "# add DM assembly\n",
    "grp_DM = lum_file.create_group(\"DM\")\n",
    "grp_DM.create_dataset('DM_time', data=SFH_file['DM/DM_time'][:])\n",
    "grp_DM.create_dataset('DM_z', data=SFH_file['DM/DM_z'][:])\n",
    "grp_DM.create_dataset('DM_M', data=SFH_file['DM/DM_M'][:])\n",
    "grp_DM.create_dataset('DM_Mt', data=SFH_file['DM/DM_Mt'][:])\n",
    "# add luminosities\n",
    "grp_lum = lum_file.create_group(\"luminosities\")\n",
    "grp_lum.attrs['luminosity_info'] = 'L_Ha', 'L_Hb', 'L_1500', 'L_2300', 'L_2800'\n",
    "\n",
    "# close other (SFH) hdf5 file\n",
    "SFH_file.close()\n",
    "\n"
   ]
  },
  {
   "cell_type": "code",
   "execution_count": 8,
   "metadata": {
    "ExecuteTime": {
     "end_time": "2017-12-21T11:59:44.601496Z",
     "start_time": "2017-12-21T11:59:44.583245Z"
    },
    "collapsed": false
   },
   "outputs": [
    {
     "name": "stdout",
     "output_type": "stream",
     "text": [
      "[[{'logzsol': 0.0, 'IMF_name': 'Salpeter', 'IMF': 0.0}]\n",
      " [{'logzsol': 0.0, 'IMF_name': 'Chabrier', 'IMF': 1.0}]\n",
      " [{'logzsol': 0.0, 'IMF_name': 'van Dokkum', 'IMF': 3.0}]\n",
      " [{'logzsol': -0.5, 'IMF_name': 'Salpeter', 'IMF': 0.0}]\n",
      " [{'logzsol': -0.5, 'IMF_name': 'Chabrier', 'IMF': 1.0}]\n",
      " [{'logzsol': -0.5, 'IMF_name': 'van Dokkum', 'IMF': 3.0}]\n",
      " [{'logzsol': -1.0, 'IMF_name': 'Salpeter', 'IMF': 0.0}]\n",
      " [{'logzsol': -1.0, 'IMF_name': 'Chabrier', 'IMF': 1.0}]\n",
      " [{'logzsol': -1.0, 'IMF_name': 'van Dokkum', 'IMF': 3.0}]\n",
      " [{'logzsol': -1.5, 'IMF_name': 'Salpeter', 'IMF': 0.0}]\n",
      " [{'logzsol': -1.5, 'IMF_name': 'Chabrier', 'IMF': 1.0}]\n",
      " [{'logzsol': -1.5, 'IMF_name': 'van Dokkum', 'IMF': 3.0}]\n",
      " [{'logzsol': -2.0, 'IMF_name': 'Salpeter', 'IMF': 0.0}]\n",
      " [{'logzsol': -2.0, 'IMF_name': 'Chabrier', 'IMF': 1.0}]\n",
      " [{'logzsol': -2.0, 'IMF_name': 'van Dokkum', 'IMF': 3.0}]]\n"
     ]
    }
   ],
   "source": [
    "# set up the grid\n",
    "\n",
    "logzsol_grid = [0.0, -0.5, -1.0, -1.5, -2.0]\n",
    "IMF_grid = [0, 1, 3]\n",
    "\n",
    "iterables = [logzsol_grid, IMF_grid]\n",
    "\n",
    "counter = 0.0\n",
    "\n",
    "for t in itertools.product(*iterables):\n",
    "    if (counter == 0.0):\n",
    "        all_combinations = t\n",
    "    else:\n",
    "        all_combinations = np.vstack([all_combinations, t])\n",
    "    counter += 1.0\n",
    "\n",
    "    \n",
    "dict_names = ['logzsol', 'IMF']\n",
    "dict_all_combinations = []\n",
    "\n",
    "for ii in range(all_combinations.shape[0]):\n",
    "    ii_dict = {}\n",
    "    for jj in range(len(dict_names)):\n",
    "        ii_dict[dict_names[jj]] = all_combinations[ii][jj]\n",
    "        if (dict_names[jj] == 'IMF'):\n",
    "            if (all_combinations[ii][jj] == 0.0):\n",
    "                ii_dict['IMF_name'] = 'Salpeter'\n",
    "            elif (all_combinations[ii][jj] == 1.0):\n",
    "                ii_dict['IMF_name'] = 'Chabrier'\n",
    "            elif (all_combinations[ii][jj] == 3.0):\n",
    "                ii_dict['IMF_name'] = 'van Dokkum'\n",
    "    if (ii == 0.0):\n",
    "        dict_all_combinations = ii_dict\n",
    "    else:\n",
    "        dict_all_combinations = np.vstack([dict_all_combinations, ii_dict])\n",
    "\n",
    "        \n",
    "print dict_all_combinations\n",
    "\n"
   ]
  },
  {
   "cell_type": "code",
   "execution_count": 9,
   "metadata": {
    "ExecuteTime": {
     "end_time": "2017-12-21T12:05:12.127453Z",
     "start_time": "2017-12-21T11:59:50.976181Z"
    },
    "collapsed": false
   },
   "outputs": [
    {
     "name": "stdout",
     "output_type": "stream",
     "text": [
      "=================================================\n",
      "working on model with:  0.0\n",
      "                   log Z/Zsun =  0.0\n",
      "                   IMF        =  Salpeter\n",
      "progress (%):  0.0\n",
      "progress (%):  0.595\n",
      "progress (%):  1.19\n",
      "progress (%):  1.786\n",
      "progress (%):  2.381\n",
      "progress (%):  2.976\n",
      "progress (%):  3.571\n",
      "progress (%):  4.167\n",
      "progress (%):  4.762\n",
      "progress (%):  5.357\n",
      "progress (%):  5.952\n",
      "progress (%):  6.548\n",
      "progress (%):  7.143\n",
      "progress (%):  7.738\n",
      "progress (%):  8.333\n",
      "progress (%):  8.929\n",
      "progress (%):  9.524\n",
      "progress (%):  10.119\n",
      "progress (%):  10.714\n",
      "progress (%):  11.31\n",
      "progress (%):  11.905\n",
      "progress (%):  12.5\n",
      "progress (%):  13.095\n",
      "progress (%):  13.69\n",
      "progress (%):  14.286\n",
      "progress (%):  14.881\n",
      "progress (%):  15.476\n",
      "progress (%):  16.071\n",
      "progress (%):  16.667\n",
      "progress (%):  17.262\n",
      "progress (%):  17.857\n",
      "progress (%):  18.452\n",
      "progress (%):  19.048\n",
      "progress (%):  19.643\n",
      "progress (%):  20.238\n",
      "progress (%):  20.833\n",
      "progress (%):  21.429\n",
      "progress (%):  22.024\n",
      "progress (%):  22.619\n",
      "progress (%):  23.214\n",
      "progress (%):  23.81\n",
      "progress (%):  24.405\n",
      "progress (%):  25.0\n",
      "progress (%):  25.595\n",
      "progress (%):  26.19\n",
      "progress (%):  26.786\n",
      "progress (%):  27.381\n",
      "progress (%):  27.976\n",
      "progress (%):  28.571\n",
      "progress (%):  29.167\n",
      "progress (%):  29.762\n",
      "progress (%):  30.357\n",
      "progress (%):  30.952\n",
      "progress (%):  31.548\n",
      "progress (%):  32.143\n",
      "progress (%):  32.738\n",
      "progress (%):  33.333\n",
      "progress (%):  33.929\n",
      "progress (%):  34.524\n",
      "progress (%):  35.119\n",
      "progress (%):  35.714\n",
      "progress (%):  36.31\n",
      "progress (%):  36.905\n",
      "progress (%):  37.5\n",
      "progress (%):  38.095\n",
      "progress (%):  38.69\n",
      "progress (%):  39.286\n",
      "progress (%):  39.881\n",
      "progress (%):  40.476\n",
      "progress (%):  41.071\n",
      "progress (%):  41.667\n",
      "progress (%):  42.262\n",
      "progress (%):  42.857\n",
      "progress (%):  43.452\n",
      "progress (%):  44.048\n",
      "progress (%):  44.643\n",
      "progress (%):  45.238\n",
      "progress (%):  45.833\n",
      "progress (%):  46.429\n",
      "progress (%):  47.024\n",
      "progress (%):  47.619\n",
      "progress (%):  48.214\n",
      "progress (%):  48.81\n",
      "progress (%):  49.405\n",
      "progress (%):  50.0\n",
      "progress (%):  50.595\n",
      "progress (%):  51.19\n",
      "progress (%):  51.786\n",
      "progress (%):  52.381\n",
      "progress (%):  52.976\n",
      "progress (%):  53.571\n",
      "progress (%):  54.167\n",
      "progress (%):  54.762\n",
      "progress (%):  55.357\n",
      "progress (%):  55.952\n",
      "progress (%):  56.548\n",
      "progress (%):  57.143\n",
      "progress (%):  57.738\n",
      "progress (%):  58.333\n",
      "progress (%):  58.929\n",
      "progress (%):  59.524\n",
      "progress (%):  60.119\n",
      "progress (%):  60.714\n",
      "progress (%):  61.31\n",
      "progress (%):  61.905\n",
      "progress (%):  62.5\n",
      "progress (%):  63.095\n",
      "progress (%):  63.69\n",
      "progress (%):  64.286\n",
      "progress (%):  64.881\n",
      "progress (%):  65.476\n",
      "progress (%):  66.071\n",
      "progress (%):  66.667\n",
      "progress (%):  67.262\n",
      "progress (%):  67.857\n",
      "progress (%):  68.452\n",
      "progress (%):  69.048\n",
      "progress (%):  69.643\n",
      "progress (%):  70.238\n",
      "progress (%):  70.833\n",
      "progress (%):  71.429\n",
      "progress (%):  72.024\n",
      "progress (%):  72.619\n",
      "progress (%):  73.214\n",
      "progress (%):  73.81\n",
      "progress (%):  74.405\n",
      "progress (%):  75.0\n",
      "progress (%):  75.595\n",
      "progress (%):  76.19\n",
      "progress (%):  76.786\n",
      "progress (%):  77.381\n",
      "progress (%):  77.976\n",
      "progress (%):  78.571\n",
      "progress (%):  79.167\n",
      "progress (%):  79.762\n",
      "progress (%):  80.357\n",
      "progress (%):  80.952\n",
      "progress (%):  81.548\n",
      "progress (%):  82.143\n",
      "progress (%):  82.738\n",
      "progress (%):  83.333\n",
      "progress (%):  83.929\n",
      "progress (%):  84.524\n",
      "progress (%):  85.119\n",
      "progress (%):  85.714\n",
      "progress (%):  86.31\n",
      "progress (%):  86.905\n",
      "progress (%):  87.5\n",
      "progress (%):  88.095\n",
      "progress (%):  88.69\n",
      "progress (%):  89.286\n",
      "progress (%):  89.881\n",
      "progress (%):  90.476\n",
      "progress (%):  91.071\n",
      "progress (%):  91.667\n",
      "progress (%):  92.262\n",
      "progress (%):  92.857\n",
      "progress (%):  93.452\n",
      "progress (%):  94.048\n",
      "progress (%):  94.643\n",
      "progress (%):  95.238\n",
      "progress (%):  95.833\n",
      "progress (%):  96.429\n",
      "progress (%):  97.024\n",
      "progress (%):  97.619\n",
      "progress (%):  98.214\n",
      "progress (%):  98.81\n",
      "progress (%):  99.405\n",
      "=================================================\n",
      "working on model with:  0.0\n",
      "                   log Z/Zsun =  0.0\n",
      "                   IMF        =  Chabrier\n",
      "progress (%):  0.0\n",
      "progress (%):  0.595\n",
      "progress (%):  1.19\n",
      "progress (%):  1.786\n",
      "progress (%):  2.381\n",
      "progress (%):  2.976\n",
      "progress (%):  3.571\n",
      "progress (%):  4.167\n",
      "progress (%):  4.762\n",
      "progress (%):  5.357\n",
      "progress (%):  5.952\n",
      "progress (%):  6.548\n",
      "progress (%):  7.143\n",
      "progress (%):  7.738\n",
      "progress (%):  8.333\n",
      "progress (%):  8.929\n",
      "progress (%):  9.524\n",
      "progress (%):  10.119\n",
      "progress (%):  10.714\n",
      "progress (%):  11.31\n",
      "progress (%):  11.905\n",
      "progress (%):  12.5\n",
      "progress (%):  13.095\n",
      "progress (%):  13.69\n",
      "progress (%):  14.286\n",
      "progress (%):  14.881\n",
      "progress (%):  15.476\n",
      "progress (%):  16.071\n",
      "progress (%):  16.667\n",
      "progress (%):  17.262\n",
      "progress (%):  17.857\n",
      "progress (%):  18.452\n",
      "progress (%):  19.048\n",
      "progress (%):  19.643\n",
      "progress (%):  20.238\n",
      "progress (%):  20.833\n",
      "progress (%):  21.429\n",
      "progress (%):  22.024\n",
      "progress (%):  22.619\n",
      "progress (%):  23.214\n",
      "progress (%):  23.81\n",
      "progress (%):  24.405\n",
      "progress (%):  25.0\n",
      "progress (%):  25.595\n",
      "progress (%):  26.19\n",
      "progress (%):  26.786\n",
      "progress (%):  27.381\n",
      "progress (%):  27.976\n",
      "progress (%):  28.571\n",
      "progress (%):  29.167\n",
      "progress (%):  29.762\n",
      "progress (%):  30.357\n",
      "progress (%):  30.952\n",
      "progress (%):  31.548\n",
      "progress (%):  32.143\n",
      "progress (%):  32.738\n",
      "progress (%):  33.333\n",
      "progress (%):  33.929\n",
      "progress (%):  34.524\n",
      "progress (%):  35.119\n",
      "progress (%):  35.714\n",
      "progress (%):  36.31\n",
      "progress (%):  36.905\n",
      "progress (%):  37.5\n",
      "progress (%):  38.095\n",
      "progress (%):  38.69\n",
      "progress (%):  39.286\n",
      "progress (%):  39.881\n",
      "progress (%):  40.476\n",
      "progress (%):  41.071\n",
      "progress (%):  41.667\n",
      "progress (%):  42.262\n",
      "progress (%):  42.857\n",
      "progress (%):  43.452\n",
      "progress (%):  44.048\n",
      "progress (%):  44.643\n",
      "progress (%):  45.238\n",
      "progress (%):  45.833\n",
      "progress (%):  46.429\n",
      "progress (%):  47.024\n",
      "progress (%):  47.619\n",
      "progress (%):  48.214\n",
      "progress (%):  48.81\n",
      "progress (%):  49.405\n",
      "progress (%):  50.0\n",
      "progress (%):  50.595\n",
      "progress (%):  51.19\n",
      "progress (%):  51.786\n",
      "progress (%):  52.381\n",
      "progress (%):  52.976\n",
      "progress (%):  53.571\n",
      "progress (%):  54.167\n",
      "progress (%):  54.762\n",
      "progress (%):  55.357\n",
      "progress (%):  55.952\n",
      "progress (%):  56.548\n",
      "progress (%):  57.143\n",
      "progress (%):  57.738\n",
      "progress (%):  58.333\n",
      "progress (%):  58.929\n",
      "progress (%):  59.524\n",
      "progress (%):  60.119\n",
      "progress (%):  60.714\n",
      "progress (%):  61.31\n",
      "progress (%):  61.905\n",
      "progress (%):  62.5\n",
      "progress (%):  63.095\n",
      "progress (%):  63.69\n",
      "progress (%):  64.286\n",
      "progress (%):  64.881\n",
      "progress (%):  65.476\n",
      "progress (%):  66.071\n",
      "progress (%):  66.667\n",
      "progress (%):  67.262\n",
      "progress (%):  67.857\n",
      "progress (%):  68.452\n",
      "progress (%):  69.048\n",
      "progress (%):  69.643\n",
      "progress (%):  70.238\n",
      "progress (%):  70.833\n",
      "progress (%):  71.429\n",
      "progress (%):  72.024\n",
      "progress (%):  72.619\n",
      "progress (%):  73.214\n",
      "progress (%):  73.81\n",
      "progress (%):  74.405\n",
      "progress (%):  75.0\n",
      "progress (%):  75.595\n",
      "progress (%):  76.19\n",
      "progress (%):  76.786\n",
      "progress (%):  77.381\n",
      "progress (%):  77.976\n",
      "progress (%):  78.571\n",
      "progress (%):  79.167\n",
      "progress (%):  79.762\n",
      "progress (%):  80.357\n",
      "progress (%):  80.952\n",
      "progress (%):  81.548\n",
      "progress (%):  82.143\n",
      "progress (%):  82.738\n",
      "progress (%):  83.333\n",
      "progress (%):  83.929\n",
      "progress (%):  84.524\n",
      "progress (%):  85.119\n",
      "progress (%):  85.714\n",
      "progress (%):  86.31\n",
      "progress (%):  86.905\n",
      "progress (%):  87.5\n",
      "progress (%):  88.095\n",
      "progress (%):  88.69\n",
      "progress (%):  89.286\n",
      "progress (%):  89.881\n",
      "progress (%):  90.476\n",
      "progress (%):  91.071\n",
      "progress (%):  91.667\n",
      "progress (%):  92.262\n",
      "progress (%):  92.857\n",
      "progress (%):  93.452\n",
      "progress (%):  94.048\n",
      "progress (%):  94.643\n",
      "progress (%):  95.238\n",
      "progress (%):  95.833\n",
      "progress (%):  96.429\n",
      "progress (%):  97.024\n",
      "progress (%):  97.619\n",
      "progress (%):  98.214\n",
      "progress (%):  98.81\n",
      "progress (%):  99.405\n",
      "=================================================\n",
      "working on model with:  0.0\n",
      "                   log Z/Zsun =  0.0\n",
      "                   IMF        =  van Dokkum\n",
      "progress (%):  0.0\n",
      "progress (%):  0.595\n",
      "progress (%):  1.19\n",
      "progress (%):  1.786\n",
      "progress (%):  2.381\n",
      "progress (%):  2.976\n",
      "progress (%):  3.571\n",
      "progress (%):  4.167\n",
      "progress (%):  4.762\n",
      "progress (%):  5.357\n",
      "progress (%):  5.952\n",
      "progress (%):  6.548\n",
      "progress (%):  7.143\n",
      "progress (%):  7.738\n",
      "progress (%):  8.333\n",
      "progress (%):  8.929\n",
      "progress (%):  9.524\n",
      "progress (%):  10.119\n",
      "progress (%):  10.714\n",
      "progress (%):  11.31\n",
      "progress (%):  11.905\n",
      "progress (%):  12.5\n",
      "progress (%):  13.095\n",
      "progress (%):  13.69\n",
      "progress (%):  14.286\n",
      "progress (%):  14.881\n",
      "progress (%):  15.476\n",
      "progress (%):  16.071\n",
      "progress (%):  16.667\n",
      "progress (%):  17.262\n",
      "progress (%):  17.857\n",
      "progress (%):  18.452\n",
      "progress (%):  19.048\n",
      "progress (%):  19.643\n",
      "progress (%):  20.238\n",
      "progress (%):  20.833\n",
      "progress (%):  21.429\n",
      "progress (%):  22.024\n",
      "progress (%):  22.619\n",
      "progress (%):  23.214\n",
      "progress (%):  23.81\n",
      "progress (%):  24.405\n",
      "progress (%):  25.0\n",
      "progress (%):  25.595\n",
      "progress (%):  26.19\n",
      "progress (%):  26.786\n",
      "progress (%):  27.381\n",
      "progress (%):  27.976\n",
      "progress (%):  28.571\n",
      "progress (%):  29.167\n",
      "progress (%):  29.762\n",
      "progress (%):  30.357\n",
      "progress (%):  30.952\n",
      "progress (%):  31.548\n",
      "progress (%):  32.143\n",
      "progress (%):  32.738\n",
      "progress (%):  33.333\n",
      "progress (%):  33.929\n",
      "progress (%):  34.524\n",
      "progress (%):  35.119\n",
      "progress (%):  35.714\n",
      "progress (%):  36.31\n",
      "progress (%):  36.905\n",
      "progress (%):  37.5\n",
      "progress (%):  38.095\n",
      "progress (%):  38.69\n",
      "progress (%):  39.286\n",
      "progress (%):  39.881\n",
      "progress (%):  40.476\n",
      "progress (%):  41.071\n",
      "progress (%):  41.667\n",
      "progress (%):  42.262\n",
      "progress (%):  42.857\n",
      "progress (%):  43.452\n",
      "progress (%):  44.048\n",
      "progress (%):  44.643\n",
      "progress (%):  45.238\n",
      "progress (%):  45.833\n",
      "progress (%):  46.429\n",
      "progress (%):  47.024\n",
      "progress (%):  47.619\n",
      "progress (%):  48.214\n",
      "progress (%):  48.81\n",
      "progress (%):  49.405\n",
      "progress (%):  50.0\n",
      "progress (%):  50.595\n",
      "progress (%):  51.19\n",
      "progress (%):  51.786\n",
      "progress (%):  52.381\n",
      "progress (%):  52.976\n",
      "progress (%):  53.571\n",
      "progress (%):  54.167\n",
      "progress (%):  54.762\n",
      "progress (%):  55.357\n",
      "progress (%):  55.952\n",
      "progress (%):  56.548\n",
      "progress (%):  57.143\n",
      "progress (%):  57.738\n",
      "progress (%):  58.333\n",
      "progress (%):  58.929\n",
      "progress (%):  59.524\n",
      "progress (%):  60.119\n",
      "progress (%):  60.714\n",
      "progress (%):  61.31\n",
      "progress (%):  61.905\n",
      "progress (%):  62.5\n",
      "progress (%):  63.095\n",
      "progress (%):  63.69\n",
      "progress (%):  64.286\n",
      "progress (%):  64.881\n",
      "progress (%):  65.476\n",
      "progress (%):  66.071\n",
      "progress (%):  66.667\n",
      "progress (%):  67.262\n",
      "progress (%):  67.857\n",
      "progress (%):  68.452\n",
      "progress (%):  69.048\n",
      "progress (%):  69.643\n",
      "progress (%):  70.238\n",
      "progress (%):  70.833\n",
      "progress (%):  71.429\n",
      "progress (%):  72.024\n",
      "progress (%):  72.619\n",
      "progress (%):  73.214\n",
      "progress (%):  73.81\n",
      "progress (%):  74.405\n",
      "progress (%):  75.0\n",
      "progress (%):  75.595\n",
      "progress (%):  76.19\n",
      "progress (%):  76.786\n",
      "progress (%):  77.381\n",
      "progress (%):  77.976\n",
      "progress (%):  78.571\n",
      "progress (%):  79.167\n",
      "progress (%):  79.762\n",
      "progress (%):  80.357\n",
      "progress (%):  80.952\n",
      "progress (%):  81.548\n",
      "progress (%):  82.143\n",
      "progress (%):  82.738\n",
      "progress (%):  83.333\n",
      "progress (%):  83.929\n",
      "progress (%):  84.524\n",
      "progress (%):  85.119\n",
      "progress (%):  85.714\n",
      "progress (%):  86.31\n",
      "progress (%):  86.905\n",
      "progress (%):  87.5\n",
      "progress (%):  88.095\n",
      "progress (%):  88.69\n",
      "progress (%):  89.286\n",
      "progress (%):  89.881\n",
      "progress (%):  90.476\n",
      "progress (%):  91.071\n",
      "progress (%):  91.667\n",
      "progress (%):  92.262\n",
      "progress (%):  92.857\n",
      "progress (%):  93.452\n",
      "progress (%):  94.048\n",
      "progress (%):  94.643\n",
      "progress (%):  95.238\n",
      "progress (%):  95.833\n",
      "progress (%):  96.429\n",
      "progress (%):  97.024\n",
      "progress (%):  97.619\n",
      "progress (%):  98.214\n",
      "progress (%):  98.81\n",
      "progress (%):  99.405\n"
     ]
    }
   ],
   "source": [
    "for ii_model in range(len(dict_all_combinations))[:3]:\n",
    "    model_dict = dict_all_combinations[ii_model][0]\n",
    "    print '================================================='\n",
    "    print 'working on model with: ', model_dict['logzsol']\n",
    "    print '                   log Z/Zsun = ', model_dict['logzsol']\n",
    "    print '                   IMF        = ', model_dict['IMF_name']\n",
    "    # set standard SP model\n",
    "    # here we set metallicity and IMF\n",
    "    sp_now = fsps.StellarPopulation(compute_vega_mags=False, zcontinuous=1, imf_type=model_dict['IMF'], add_neb_emission=True, \\\n",
    "                                          sfh=3, logzsol=model_dict['logzsol'], dust_type=2, dust2=0.0)\n",
    "    # iterate over all SFHs\n",
    "    for ii in range(SFH_SFR.shape[0]):\n",
    "        print 'progress (%): ', round(100.0*ii/SFH_SFR.shape[0], 3)\n",
    "        lum_vec = derive_SP_prop.get_luminosities_for_SFH(sp_now, [10**-3*SFH_time[::idx_every_other], SFH_SFR[ii][::idx_every_other]], [10**-3*SFH_time[::idx_every_other][-1]])\n",
    "        lum_vec = np.array(lum_vec).T\n",
    "        if (ii == 0):\n",
    "            lum_mat = lum_vec\n",
    "        else:\n",
    "            lum_mat = np.vstack([lum_mat, lum_vec])\n",
    "    # add SFH\n",
    "    subgrp_lum = grp_lum.create_dataset('luminosity_' + str(ii_model), data=lum_mat)    \n",
    "    for ii_key in model_dict.keys():\n",
    "        subgrp_lum.attrs[ii_key] = model_dict[ii_key]\n",
    "\n",
    "\n",
    "lum_file.close()    \n",
    "\n"
   ]
  },
  {
   "cell_type": "code",
   "execution_count": null,
   "metadata": {
    "collapsed": true
   },
   "outputs": [],
   "source": []
  },
  {
   "cell_type": "code",
   "execution_count": null,
   "metadata": {
    "collapsed": true
   },
   "outputs": [],
   "source": []
  },
  {
   "cell_type": "code",
   "execution_count": null,
   "metadata": {
    "collapsed": true
   },
   "outputs": [],
   "source": []
  },
  {
   "cell_type": "code",
   "execution_count": null,
   "metadata": {
    "collapsed": true
   },
   "outputs": [],
   "source": []
  },
  {
   "cell_type": "code",
   "execution_count": null,
   "metadata": {
    "collapsed": true
   },
   "outputs": [],
   "source": []
  },
  {
   "cell_type": "code",
   "execution_count": null,
   "metadata": {
    "collapsed": true
   },
   "outputs": [],
   "source": [
    "# SFH\n",
    "# Z\n",
    "# stocastic effects\n",
    "# IMF\n",
    "# dust"
   ]
  },
  {
   "cell_type": "code",
   "execution_count": null,
   "metadata": {
    "collapsed": true
   },
   "outputs": [],
   "source": []
  },
  {
   "cell_type": "code",
   "execution_count": null,
   "metadata": {
    "collapsed": true
   },
   "outputs": [],
   "source": []
  },
  {
   "cell_type": "code",
   "execution_count": null,
   "metadata": {
    "collapsed": true
   },
   "outputs": [],
   "source": []
  },
  {
   "cell_type": "code",
   "execution_count": null,
   "metadata": {
    "collapsed": true
   },
   "outputs": [],
   "source": []
  },
  {
   "cell_type": "code",
   "execution_count": null,
   "metadata": {
    "collapsed": true
   },
   "outputs": [],
   "source": []
  }
 ],
 "metadata": {
  "kernelspec": {
   "display_name": "Python 2",
   "language": "python",
   "name": "python2"
  },
  "language_info": {
   "codemirror_mode": {
    "name": "ipython",
    "version": 2
   },
   "file_extension": ".py",
   "mimetype": "text/x-python",
   "name": "python",
   "nbconvert_exporter": "python",
   "pygments_lexer": "ipython2",
   "version": "2.7.13"
  },
  "toc": {
   "nav_menu": {},
   "number_sections": true,
   "sideBar": true,
   "skip_h1_title": false,
   "toc_cell": false,
   "toc_position": {},
   "toc_section_display": "block",
   "toc_window_display": false
  },
  "varInspector": {
   "cols": {
    "lenName": 16,
    "lenType": 16,
    "lenVar": 40
   },
   "kernels_config": {
    "python": {
     "delete_cmd_postfix": "",
     "delete_cmd_prefix": "del ",
     "library": "var_list.py",
     "varRefreshCmd": "print(var_dic_list())"
    },
    "r": {
     "delete_cmd_postfix": ") ",
     "delete_cmd_prefix": "rm(",
     "library": "var_list.r",
     "varRefreshCmd": "cat(var_dic_list()) "
    }
   },
   "types_to_exclude": [
    "module",
    "function",
    "builtin_function_or_method",
    "instance",
    "_Feature"
   ],
   "window_display": false
  }
 },
 "nbformat": 4,
 "nbformat_minor": 2
}
